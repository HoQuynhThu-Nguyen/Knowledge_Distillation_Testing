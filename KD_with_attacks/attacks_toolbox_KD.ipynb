{
 "cells": [
  {
   "cell_type": "code",
   "execution_count": 46,
   "metadata": {},
   "outputs": [],
   "source": [
    "import numpy as np\n",
    "import torch\n",
    "import torch.nn as nn\n",
    "import art.attacks.evasion as toolbox\n",
    "from art.estimators.classification import PyTorchClassifier\n",
    "import matplotlib.pyplot as plt\n",
    "# from kd_export import LightNN\n",
    "from mvtec import test_dataset"
   ]
  },
  {
   "cell_type": "code",
   "execution_count": 47,
   "metadata": {},
   "outputs": [
    {
     "name": "stdout",
     "output_type": "stream",
     "text": [
      "Check current device: \n",
      "Using GPU: NVIDIA GeForce RTX 4060\n"
     ]
    }
   ],
   "source": [
    "print(\"Check current device: \")\n",
    "# Check if GPU is available, and if not, use the CPU\n",
    "device = torch.device(\"cuda\" if torch.cuda.is_available() else \"cpu\")\n",
    "if torch.cuda.is_available(): # Should return True \n",
    "    print(f\"Using GPU: {torch.cuda.get_device_name(0)}\") # Should show your GPU name\n",
    "else:\n",
    "    print(\"Using CPU\")"
   ]
  },
  {
   "cell_type": "code",
   "execution_count": 48,
   "metadata": {},
   "outputs": [],
   "source": [
    "class LightNN(nn.Module):\n",
    "    def __init__(self, num_classes=10):\n",
    "        super(LightNN, self).__init__()\n",
    "        self.features = nn.Sequential(\n",
    "            nn.Conv2d(3, 16, kernel_size=3, padding=1),\n",
    "            nn.ReLU(),\n",
    "            nn.MaxPool2d(kernel_size=2, stride=2),\n",
    "            nn.Conv2d(16, 16, kernel_size=3, padding=1),\n",
    "            nn.ReLU(),\n",
    "            nn.MaxPool2d(kernel_size=2, stride=2),\n",
    "        )\n",
    "        self.classifier = nn.Sequential(\n",
    "            nn.Linear(16 * 56 * 56, 256),\n",
    "            nn.ReLU(),\n",
    "            nn.Dropout(0.1),\n",
    "            nn.Linear(256, num_classes)\n",
    "        )\n",
    "\n",
    "    def forward(self, x):\n",
    "        x = self.features(x)\n",
    "        x = torch.flatten(x, 1)\n",
    "        x = self.classifier(x)\n",
    "        return x"
   ]
  },
  {
   "cell_type": "code",
   "execution_count": 49,
   "metadata": {},
   "outputs": [
    {
     "data": {
      "text/plain": [
       "LightNN(\n",
       "  (features): Sequential(\n",
       "    (0): Conv2d(3, 16, kernel_size=(3, 3), stride=(1, 1), padding=(1, 1))\n",
       "    (1): ReLU()\n",
       "    (2): MaxPool2d(kernel_size=2, stride=2, padding=0, dilation=1, ceil_mode=False)\n",
       "    (3): Conv2d(16, 16, kernel_size=(3, 3), stride=(1, 1), padding=(1, 1))\n",
       "    (4): ReLU()\n",
       "    (5): MaxPool2d(kernel_size=2, stride=2, padding=0, dilation=1, ceil_mode=False)\n",
       "  )\n",
       "  (classifier): Sequential(\n",
       "    (0): Linear(in_features=50176, out_features=256, bias=True)\n",
       "    (1): ReLU()\n",
       "    (2): Dropout(p=0.1, inplace=False)\n",
       "    (3): Linear(in_features=256, out_features=15, bias=True)\n",
       "  )\n",
       ")"
      ]
     },
     "execution_count": 49,
     "metadata": {},
     "output_type": "execute_result"
    }
   ],
   "source": [
    "# epsilons = [0, .05, .1, .15, .2, .25, .3, .35, .4, .45, .5, .55, .6, .65, .7, .75, .8, .85, .9, .95]\n",
    "# Create the list based on the given parameters\n",
    "eps_res = 32\n",
    "eps_min = 1e-9  # Correcting the spacing issue in the input\n",
    "eps_max = 1.0\n",
    "\n",
    "# Generating the list of values\n",
    "eps_list = [eps_min + i * (eps_max - eps_min) / (eps_res - 1) for i in range(eps_res)]\n",
    "\n",
    "pretrained_teacher = \"teacher_model.pth\"\n",
    "pretrained_student = \"student_model.pth\"\n",
    "pretrained_model_KD = \"student_model_KD.pth\"\n",
    "use_cuda=True\n",
    "\n",
    "# Initialize the network\n",
    "torch.manual_seed(42)\n",
    "model_KD = LightNN(num_classes=15).to(device)\n",
    "\n",
    "# Load the pretrained model\n",
    "model_KD.load_state_dict(torch.load(pretrained_model_KD, map_location=device, weights_only=True))\n",
    "\n",
    "# Set the model in evaluation mode\n",
    "model_KD.eval()"
   ]
  },
  {
   "cell_type": "code",
   "execution_count": 50,
   "metadata": {},
   "outputs": [],
   "source": [
    "# Define loss function and optimizer\n",
    "loss_fn = torch.nn.CrossEntropyLoss()\n",
    "optimizer = torch.optim.Adam(model_KD.parameters(), lr=0.001)\n",
    "\n",
    "# Wrap the model with PyTorchClassifier\n",
    "classifier = PyTorchClassifier(\n",
    "    model=model_KD,\n",
    "    loss=loss_fn,\n",
    "    optimizer=optimizer,\n",
    "    input_shape=(3, 224, 224),  # Adjust to your input shape\n",
    "    nb_classes=15              # Number of output classes\n",
    ")"
   ]
  },
  {
   "cell_type": "code",
   "execution_count": 51,
   "metadata": {},
   "outputs": [
    {
     "name": "stdout",
     "output_type": "stream",
     "text": [
      "Dataset FixedImageFolder\n",
      "    Number of datapoints: 467\n",
      "    Root location: ./mvtec_dataset\\organized_test\n",
      "    StandardTransform\n",
      "Transform: Compose(\n",
      "               Resize(size=(224, 224), interpolation=bilinear, max_size=None, antialias=True)\n",
      "               ToTensor()\n",
      "               Normalize(mean=[0.485, 0.456, 0.406], std=[0.229, 0.224, 0.225])\n",
      "           )\n"
     ]
    }
   ],
   "source": [
    "print(test_dataset)\n",
    "test_image = np.array([data[0].numpy() for data in test_dataset])\n",
    "test_label = np.array([data[1] for data in test_dataset])"
   ]
  },
  {
   "cell_type": "code",
   "execution_count": 52,
   "metadata": {},
   "outputs": [
    {
     "name": "stdout",
     "output_type": "stream",
     "text": [
      "Accuracy on FSGM attack with epsilon 1e-09: 99.14%\n",
      "Accuracy on FSGM attack with epsilon 0.03225806548387097: 87.15%\n",
      "Accuracy on FSGM attack with epsilon 0.06451612996774193: 83.30%\n",
      "Accuracy on FSGM attack with epsilon 0.09677419445161291: 73.02%\n",
      "Accuracy on FSGM attack with epsilon 0.12903225893548387: 64.88%\n",
      "Accuracy on FSGM attack with epsilon 0.16129032341935484: 60.81%\n",
      "Accuracy on FSGM attack with epsilon 0.19354838790322582: 54.18%\n",
      "Accuracy on FSGM attack with epsilon 0.2258064523870968: 44.54%\n",
      "Accuracy on FSGM attack with epsilon 0.25806451687096776: 36.19%\n",
      "Accuracy on FSGM attack with epsilon 0.2903225813548388: 32.33%\n",
      "Accuracy on FSGM attack with epsilon 0.3225806458387097: 27.41%\n",
      "Accuracy on FSGM attack with epsilon 0.3548387103225807: 22.48%\n",
      "Accuracy on FSGM attack with epsilon 0.38709677480645166: 19.06%\n",
      "Accuracy on FSGM attack with epsilon 0.41935483929032263: 18.84%\n",
      "Accuracy on FSGM attack with epsilon 0.4516129037741936: 17.77%\n",
      "Accuracy on FSGM attack with epsilon 0.4838709682580646: 15.42%\n",
      "Accuracy on FSGM attack with epsilon 0.5161290327419354: 10.92%\n",
      "Accuracy on FSGM attack with epsilon 0.5483870972258065: 7.92%\n",
      "Accuracy on FSGM attack with epsilon 0.5806451617096775: 6.64%\n",
      "Accuracy on FSGM attack with epsilon 0.6129032261935484: 6.00%\n",
      "Accuracy on FSGM attack with epsilon 0.6451612906774193: 6.00%\n",
      "Accuracy on FSGM attack with epsilon 0.6774193551612904: 6.00%\n",
      "Accuracy on FSGM attack with epsilon 0.7096774196451613: 6.00%\n",
      "Accuracy on FSGM attack with epsilon 0.7419354841290323: 6.00%\n",
      "Accuracy on FSGM attack with epsilon 0.7741935486129032: 6.00%\n",
      "Accuracy on FSGM attack with epsilon 0.8064516130967743: 6.00%\n",
      "Accuracy on FSGM attack with epsilon 0.8387096775806452: 6.00%\n",
      "Accuracy on FSGM attack with epsilon 0.8709677420645161: 6.00%\n",
      "Accuracy on FSGM attack with epsilon 0.9032258065483871: 6.00%\n",
      "Accuracy on FSGM attack with epsilon 0.935483871032258: 6.00%\n",
      "Accuracy on FSGM attack with epsilon 0.9677419355161291: 6.00%\n",
      "Accuracy on FSGM attack with epsilon 1.0: 6.00%\n"
     ]
    }
   ],
   "source": [
    "fgsm_accuracy_list = []\n",
    "for eps in eps_list:\n",
    "    # Create FGSM attack\n",
    "    attack = toolbox.FastGradientMethod(estimator=classifier, eps=eps)\n",
    "\n",
    "    # Generate adversarial examples\n",
    "    x_test_adv_fgsm = attack.generate(x=test_image)\n",
    "\n",
    "    # Evaluate accuracy on adversarial examples\n",
    "    predictions = classifier.predict(x_test_adv_fgsm)\n",
    "    accuracy = np.sum(np.argmax(predictions, axis=1) == test_label) / len(test_label)\n",
    "    fgsm_accuracy_list.append(accuracy)\n",
    "    print(f\"Accuracy on FSGM attack with epsilon {eps}: {accuracy * 100:.2f}%\")"
   ]
  },
  {
   "cell_type": "code",
   "execution_count": 53,
   "metadata": {},
   "outputs": [
    {
     "name": "stderr",
     "output_type": "stream",
     "text": [
      "                                                              \r"
     ]
    },
    {
     "name": "stdout",
     "output_type": "stream",
     "text": [
      "Accuracy on PGD attack with epsilon 1e-09: 99.14%\n"
     ]
    },
    {
     "name": "stderr",
     "output_type": "stream",
     "text": [
      "                                                              \r"
     ]
    },
    {
     "name": "stdout",
     "output_type": "stream",
     "text": [
      "Accuracy on PGD attack with epsilon 0.03225806548387097: 87.15%\n"
     ]
    },
    {
     "name": "stderr",
     "output_type": "stream",
     "text": [
      "                                                              \r"
     ]
    },
    {
     "name": "stdout",
     "output_type": "stream",
     "text": [
      "Accuracy on PGD attack with epsilon 0.06451612996774193: 70.88%\n"
     ]
    },
    {
     "name": "stderr",
     "output_type": "stream",
     "text": [
      "                                                              \r"
     ]
    },
    {
     "name": "stdout",
     "output_type": "stream",
     "text": [
      "Accuracy on PGD attack with epsilon 0.09677419445161291: 48.18%\n"
     ]
    },
    {
     "name": "stderr",
     "output_type": "stream",
     "text": [
      "                                                              \r"
     ]
    },
    {
     "name": "stdout",
     "output_type": "stream",
     "text": [
      "Accuracy on PGD attack with epsilon 0.12903225893548387: 28.91%\n"
     ]
    },
    {
     "name": "stderr",
     "output_type": "stream",
     "text": [
      "                                                              \r"
     ]
    },
    {
     "name": "stdout",
     "output_type": "stream",
     "text": [
      "Accuracy on PGD attack with epsilon 0.16129032341935484: 11.13%\n"
     ]
    },
    {
     "name": "stderr",
     "output_type": "stream",
     "text": [
      "                                                              \r"
     ]
    },
    {
     "name": "stdout",
     "output_type": "stream",
     "text": [
      "Accuracy on PGD attack with epsilon 0.19354838790322582: 7.07%\n"
     ]
    },
    {
     "name": "stderr",
     "output_type": "stream",
     "text": [
      "                                                              \r"
     ]
    },
    {
     "name": "stdout",
     "output_type": "stream",
     "text": [
      "Accuracy on PGD attack with epsilon 0.2258064523870968: 1.28%\n"
     ]
    },
    {
     "name": "stderr",
     "output_type": "stream",
     "text": [
      "                                                              \r"
     ]
    },
    {
     "name": "stdout",
     "output_type": "stream",
     "text": [
      "Accuracy on PGD attack with epsilon 0.25806451687096776: 0.86%\n"
     ]
    },
    {
     "name": "stderr",
     "output_type": "stream",
     "text": [
      "                                                              \r"
     ]
    },
    {
     "name": "stdout",
     "output_type": "stream",
     "text": [
      "Accuracy on PGD attack with epsilon 0.2903225813548388: 0.86%\n"
     ]
    },
    {
     "name": "stderr",
     "output_type": "stream",
     "text": [
      "                                                              \r"
     ]
    },
    {
     "name": "stdout",
     "output_type": "stream",
     "text": [
      "Accuracy on PGD attack with epsilon 0.3225806458387097: 0.86%\n"
     ]
    },
    {
     "name": "stderr",
     "output_type": "stream",
     "text": [
      "                                                              \r"
     ]
    },
    {
     "name": "stdout",
     "output_type": "stream",
     "text": [
      "Accuracy on PGD attack with epsilon 0.3548387103225807: 0.86%\n"
     ]
    },
    {
     "name": "stderr",
     "output_type": "stream",
     "text": [
      "                                                              \r"
     ]
    },
    {
     "name": "stdout",
     "output_type": "stream",
     "text": [
      "Accuracy on PGD attack with epsilon 0.38709677480645166: 0.86%\n"
     ]
    },
    {
     "name": "stderr",
     "output_type": "stream",
     "text": [
      "                                                              \r"
     ]
    },
    {
     "name": "stdout",
     "output_type": "stream",
     "text": [
      "Accuracy on PGD attack with epsilon 0.41935483929032263: 0.86%\n"
     ]
    },
    {
     "name": "stderr",
     "output_type": "stream",
     "text": [
      "                                                              \r"
     ]
    },
    {
     "name": "stdout",
     "output_type": "stream",
     "text": [
      "Accuracy on PGD attack with epsilon 0.4516129037741936: 0.86%\n"
     ]
    },
    {
     "name": "stderr",
     "output_type": "stream",
     "text": [
      "                                                              \r"
     ]
    },
    {
     "name": "stdout",
     "output_type": "stream",
     "text": [
      "Accuracy on PGD attack with epsilon 0.4838709682580646: 0.86%\n"
     ]
    },
    {
     "name": "stderr",
     "output_type": "stream",
     "text": [
      "                                                              \r"
     ]
    },
    {
     "name": "stdout",
     "output_type": "stream",
     "text": [
      "Accuracy on PGD attack with epsilon 0.5161290327419354: 0.86%\n"
     ]
    },
    {
     "name": "stderr",
     "output_type": "stream",
     "text": [
      "                                                              \r"
     ]
    },
    {
     "name": "stdout",
     "output_type": "stream",
     "text": [
      "Accuracy on PGD attack with epsilon 0.5483870972258065: 0.86%\n"
     ]
    },
    {
     "name": "stderr",
     "output_type": "stream",
     "text": [
      "                                                              \r"
     ]
    },
    {
     "name": "stdout",
     "output_type": "stream",
     "text": [
      "Accuracy on PGD attack with epsilon 0.5806451617096775: 0.86%\n"
     ]
    },
    {
     "name": "stderr",
     "output_type": "stream",
     "text": [
      "                                                              \r"
     ]
    },
    {
     "name": "stdout",
     "output_type": "stream",
     "text": [
      "Accuracy on PGD attack with epsilon 0.6129032261935484: 0.86%\n"
     ]
    },
    {
     "name": "stderr",
     "output_type": "stream",
     "text": [
      "                                                              \r"
     ]
    },
    {
     "name": "stdout",
     "output_type": "stream",
     "text": [
      "Accuracy on PGD attack with epsilon 0.6451612906774193: 0.86%\n"
     ]
    },
    {
     "name": "stderr",
     "output_type": "stream",
     "text": [
      "                                                              \r"
     ]
    },
    {
     "name": "stdout",
     "output_type": "stream",
     "text": [
      "Accuracy on PGD attack with epsilon 0.6774193551612904: 0.86%\n"
     ]
    },
    {
     "name": "stderr",
     "output_type": "stream",
     "text": [
      "                                                              \r"
     ]
    },
    {
     "name": "stdout",
     "output_type": "stream",
     "text": [
      "Accuracy on PGD attack with epsilon 0.7096774196451613: 0.86%\n"
     ]
    },
    {
     "name": "stderr",
     "output_type": "stream",
     "text": [
      "                                                              \r"
     ]
    },
    {
     "name": "stdout",
     "output_type": "stream",
     "text": [
      "Accuracy on PGD attack with epsilon 0.7419354841290323: 0.86%\n"
     ]
    },
    {
     "name": "stderr",
     "output_type": "stream",
     "text": [
      "                                                              \r"
     ]
    },
    {
     "name": "stdout",
     "output_type": "stream",
     "text": [
      "Accuracy on PGD attack with epsilon 0.7741935486129032: 0.86%\n"
     ]
    },
    {
     "name": "stderr",
     "output_type": "stream",
     "text": [
      "                                                              \r"
     ]
    },
    {
     "name": "stdout",
     "output_type": "stream",
     "text": [
      "Accuracy on PGD attack with epsilon 0.8064516130967743: 0.86%\n"
     ]
    },
    {
     "name": "stderr",
     "output_type": "stream",
     "text": [
      "                                                              \r"
     ]
    },
    {
     "name": "stdout",
     "output_type": "stream",
     "text": [
      "Accuracy on PGD attack with epsilon 0.8387096775806452: 0.86%\n"
     ]
    },
    {
     "name": "stderr",
     "output_type": "stream",
     "text": [
      "                                                              \r"
     ]
    },
    {
     "name": "stdout",
     "output_type": "stream",
     "text": [
      "Accuracy on PGD attack with epsilon 0.8709677420645161: 0.86%\n"
     ]
    },
    {
     "name": "stderr",
     "output_type": "stream",
     "text": [
      "                                                              \r"
     ]
    },
    {
     "name": "stdout",
     "output_type": "stream",
     "text": [
      "Accuracy on PGD attack with epsilon 0.9032258065483871: 0.86%\n"
     ]
    },
    {
     "name": "stderr",
     "output_type": "stream",
     "text": [
      "                                                              \r"
     ]
    },
    {
     "name": "stdout",
     "output_type": "stream",
     "text": [
      "Accuracy on PGD attack with epsilon 0.935483871032258: 0.86%\n"
     ]
    },
    {
     "name": "stderr",
     "output_type": "stream",
     "text": [
      "                                                              \r"
     ]
    },
    {
     "name": "stdout",
     "output_type": "stream",
     "text": [
      "Accuracy on PGD attack with epsilon 0.9677419355161291: 0.86%\n"
     ]
    },
    {
     "name": "stderr",
     "output_type": "stream",
     "text": [
      "                                                              \r"
     ]
    },
    {
     "name": "stdout",
     "output_type": "stream",
     "text": [
      "Accuracy on PGD attack with epsilon 1.0: 0.86%\n"
     ]
    }
   ],
   "source": [
    "pgd_accuracy_list = []\n",
    "for eps in eps_list:\n",
    "    # Create PGD attack\n",
    "    pgd_attack = toolbox.ProjectedGradientDescent(estimator=classifier, eps=eps)\n",
    "\n",
    "    # Generate adversarial examples\n",
    "    x_test_adv_pgd = pgd_attack.generate(x=test_image)\n",
    "\n",
    "    # Evaluate accuracy on adversarial examples\n",
    "    predictions = classifier.predict(x_test_adv_pgd)\n",
    "    accuracy = np.sum(np.argmax(predictions, axis=1) == test_label) / len(test_label)\n",
    "    pgd_accuracy_list.append(accuracy)\n",
    "    print(f\"Accuracy on PGD attack with epsilon {eps}: {accuracy * 100:.2f}%\")"
   ]
  },
  {
   "cell_type": "code",
   "execution_count": 54,
   "metadata": {},
   "outputs": [
    {
     "data": {
      "text/plain": [
       "<Figure size 640x480 with 0 Axes>"
      ]
     },
     "metadata": {},
     "output_type": "display_data"
    },
    {
     "data": {
      "image/png": "[encoded data removed]",
      "text/plain": [
       "<Figure size 600x300 with 2 Axes>"
      ]
     },
     "metadata": {},
     "output_type": "display_data"
    }
   ],
   "source": [
    "plt.suptitle(\"Student in Knowledge Distillation under adversarial attacks\", fontsize=16)\n",
    "\n",
    "# Visualize the accuracy drop in FGSM\n",
    "plt.figure(figsize=(6, 3))\n",
    "plt.subplot(1, 2, 1)\n",
    "plt.plot(eps_list, fgsm_accuracy_list, label=\"Accuracy\")\n",
    "plt.ylabel(\"Accuracy\")\n",
    "plt.xlabel(\"Epsilon\")\n",
    "plt.legend(loc='upper right')\n",
    "plt.title('FastGradientMethod')\n",
    "\n",
    "# Visualize the accuracy drop in PDG\n",
    "plt.subplot(1, 2, 2)\n",
    "plt.plot(eps_list, pgd_accuracy_list, label=\"Accuracy\")\n",
    "# plt.axhline(y=test_accuracy_light_ce_and_kd, color='red', linestyle='--', label='Test Accuracy')\n",
    "plt.legend(loc='upper right')\n",
    "plt.title('ProjectedGradientDescent')\n",
    "plt.show()"
   ]
  },
  {
   "cell_type": "code",
   "execution_count": 55,
   "metadata": {},
   "outputs": [],
   "source": [
    "# # Create C&W attack\n",
    "# cw2_attack = toolbox.CarliniL2Method(classifier=classifier, confidence=0.0, max_iter=40, learning_rate=0.01)\n",
    "\n",
    "# # Generate adversarial examples\n",
    "# x_test_adv_cw2 = cw2_attack.generate(x=x_test)\n",
    "\n",
    "# # Evaluate accuracy on adversarial examples\n",
    "# predictions = classifier.predict(x_test_adv_cw2)\n",
    "# accuracy = np.sum(np.argmax(predictions, axis=1) == y_test) / len(y_test)\n",
    "# print(f\"Accuracy on CW2 attack: {accuracy * 100:.2f}%\")"
   ]
  },
  {
   "cell_type": "code",
   "execution_count": 56,
   "metadata": {},
   "outputs": [],
   "source": [
    "# # Create Universal Perturbations attack\n",
    "# up_attack = toolbox.UniversalPerturbation(classifier=classifier, attacker=\"deepfool\",\n",
    "#                                         #   delta=0.2,\n",
    "#                                           max_iter=10,\n",
    "#                                           eps=0.1,\n",
    "#                                         #   batch_size=32,\n",
    "#                                         #   verbose=True\n",
    "#                                         )\n",
    "\n",
    "# # Generate adversarial examples\n",
    "# x_test_adv_up = up_attack.generate(x=x_test)\n",
    "\n",
    "# # Evaluate accuracy on adversarial examples\n",
    "# predictions = classifier.predict(x_test_adv_up)\n",
    "# accuracy = np.sum(np.argmax(predictions, axis=1) == y_test) / len(y_test)\n",
    "# print(f\"Accuracy on UP attack: {accuracy * 100:.2f}%\")"
   ]
  }
 ],
 "metadata": {
  "kernelspec": {
   "display_name": ".venv",
   "language": "python",
   "name": "python3"
  },
  "language_info": {
   "codemirror_mode": {
    "name": "ipython",
    "version": 3
   },
   "file_extension": ".py",
   "mimetype": "text/x-python",
   "name": "python",
   "nbconvert_exporter": "python",
   "pygments_lexer": "ipython3",
   "version": "3.10.11"
  }
 },
 "nbformat": 4,
 "nbformat_minor": 2
}
