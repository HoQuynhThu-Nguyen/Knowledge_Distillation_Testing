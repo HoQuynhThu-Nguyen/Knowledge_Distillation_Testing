{
 "cells": [
  {
   "cell_type": "code",
   "execution_count": 20,
   "metadata": {},
   "outputs": [],
   "source": [
    "import numpy as np\n",
    "import torch\n",
    "import torch.nn as nn\n",
    "import art.attacks.evasion as toolbox\n",
    "from art.estimators.classification import PyTorchClassifier\n",
    "# from kd_export import LightNN\n",
    "from mvtec import test_dataset"
   ]
  },
  {
   "cell_type": "code",
   "execution_count": 4,
   "metadata": {},
   "outputs": [],
   "source": [
    "class LightNN(nn.Module):\n",
    "    def __init__(self, num_classes=10):\n",
    "        super(LightNN, self).__init__()\n",
    "        self.features = nn.Sequential(\n",
    "            nn.Conv2d(3, 16, kernel_size=3, padding=1),\n",
    "            nn.ReLU(),\n",
    "            nn.MaxPool2d(kernel_size=2, stride=2),\n",
    "            nn.Conv2d(16, 16, kernel_size=3, padding=1),\n",
    "            nn.ReLU(),\n",
    "            nn.MaxPool2d(kernel_size=2, stride=2),\n",
    "        )\n",
    "        self.classifier = nn.Sequential(\n",
    "            nn.Linear(16 * 56 * 56, 256),\n",
    "            nn.ReLU(),\n",
    "            nn.Dropout(0.1),\n",
    "            nn.Linear(256, num_classes)\n",
    "        )\n",
    "\n",
    "    def forward(self, x):\n",
    "        x = self.features(x)\n",
    "        x = torch.flatten(x, 1)\n",
    "        x = self.classifier(x)\n",
    "        return x"
   ]
  },
  {
   "cell_type": "code",
   "execution_count": 5,
   "metadata": {},
   "outputs": [
    {
     "name": "stdout",
     "output_type": "stream",
     "text": [
      "Check current device: \n",
      "Using GPU: NVIDIA GeForce RTX 4060\n"
     ]
    }
   ],
   "source": [
    "print(\"Check current device: \")\n",
    "# Check if GPU is available, and if not, use the CPU\n",
    "device = torch.device(\"cuda\" if torch.cuda.is_available() else \"cpu\")\n",
    "if torch.cuda.is_available(): # Should return True \n",
    "    print(f\"Using GPU: {torch.cuda.get_device_name(0)}\") # Should show your GPU name\n",
    "else:\n",
    "    print(\"Using CPU\")"
   ]
  },
  {
   "cell_type": "code",
   "execution_count": 17,
   "metadata": {},
   "outputs": [
    {
     "name": "stdout",
     "output_type": "stream",
     "text": [
      "Using epsilons: [1e-09, 0.03225806548387097, 0.06451612996774193, 0.09677419445161291, 0.12903225893548387, 0.16129032341935484, 0.19354838790322582, 0.2258064523870968, 0.25806451687096776, 0.2903225813548388, 0.3225806458387097, 0.3548387103225807, 0.38709677480645166, 0.41935483929032263, 0.4516129037741936, 0.4838709682580646, 0.5161290327419354, 0.5483870972258065, 0.5806451617096775, 0.6129032261935484, 0.6451612906774193, 0.6774193551612904, 0.7096774196451613, 0.7419354841290323, 0.7741935486129032, 0.8064516130967743, 0.8387096775806452, 0.8709677420645161, 0.9032258065483871, 0.935483871032258, 0.9677419355161291, 1.0]\n"
     ]
    },
    {
     "data": {
      "text/plain": [
       "LightNN(\n",
       "  (features): Sequential(\n",
       "    (0): Conv2d(3, 16, kernel_size=(3, 3), stride=(1, 1), padding=(1, 1))\n",
       "    (1): ReLU()\n",
       "    (2): MaxPool2d(kernel_size=2, stride=2, padding=0, dilation=1, ceil_mode=False)\n",
       "    (3): Conv2d(16, 16, kernel_size=(3, 3), stride=(1, 1), padding=(1, 1))\n",
       "    (4): ReLU()\n",
       "    (5): MaxPool2d(kernel_size=2, stride=2, padding=0, dilation=1, ceil_mode=False)\n",
       "  )\n",
       "  (classifier): Sequential(\n",
       "    (0): Linear(in_features=50176, out_features=256, bias=True)\n",
       "    (1): ReLU()\n",
       "    (2): Dropout(p=0.1, inplace=False)\n",
       "    (3): Linear(in_features=256, out_features=15, bias=True)\n",
       "  )\n",
       ")"
      ]
     },
     "execution_count": 17,
     "metadata": {},
     "output_type": "execute_result"
    }
   ],
   "source": [
    "# epsilons = [0, .05, .1, .15, .2, .25, .3, .35, .4, .45, .5, .55, .6, .65, .7, .75, .8, .85, .9, .95]\n",
    "# Create the list based on the given parameters\n",
    "eps_res = 32\n",
    "eps_min = 1e-9  # Correcting the spacing issue in the input\n",
    "eps_max = 1.0\n",
    "\n",
    "# Generating the list of values\n",
    "eps_list = [eps_min + i * (eps_max - eps_min) / (eps_res - 1) for i in range(eps_res)]\n",
    "print(\"Using epsilons:\", eps_list)\n",
    "\n",
    "pretrained_model = \"student_model.pth\"\n",
    "pretrained_model_KD = \"student_model_KD.pth\"\n",
    "use_cuda=True\n",
    "\n",
    "# Initialize the network\n",
    "torch.manual_seed(42)\n",
    "model = LightNN(num_classes=15).to(device)\n",
    "\n",
    "# Load the pretrained model\n",
    "model.load_state_dict(torch.load(pretrained_model, map_location=device, weights_only=True))\n",
    "\n",
    "# Set the model in evaluation mode. In this case this is for the Dropout layers\n",
    "model.eval()"
   ]
  },
  {
   "cell_type": "code",
   "execution_count": 21,
   "metadata": {},
   "outputs": [],
   "source": [
    "# Define loss function and optimizer\n",
    "loss_fn = torch.nn.CrossEntropyLoss()\n",
    "optimizer = torch.optim.Adam(model.parameters(), lr=0.001)\n",
    "\n",
    "# Wrap the model with PyTorchClassifier\n",
    "classifier = PyTorchClassifier(\n",
    "    model=model,\n",
    "    loss=loss_fn,\n",
    "    optimizer=optimizer,\n",
    "    input_shape=(3, 224, 224),  # Adjust to your input shape\n",
    "    nb_classes=15              # Number of output classes\n",
    ")"
   ]
  },
  {
   "cell_type": "code",
   "execution_count": 18,
   "metadata": {},
   "outputs": [
    {
     "name": "stdout",
     "output_type": "stream",
     "text": [
      "Dataset FixedImageFolder\n",
      "    Number of datapoints: 467\n",
      "    Root location: ./mvtec_dataset\\organized_test\n",
      "    StandardTransform\n",
      "Transform: Compose(\n",
      "               Resize(size=(224, 224), interpolation=bilinear, max_size=None, antialias=True)\n",
      "               ToTensor()\n",
      "               Normalize(mean=[0.485, 0.456, 0.406], std=[0.229, 0.224, 0.225])\n",
      "           )\n"
     ]
    }
   ],
   "source": [
    "print(test_dataset)\n",
    "test_images = np.array([data[0].numpy() for data in test_dataset])\n",
    "test_labels = np.array([data[1] for data in test_dataset])"
   ]
  },
  {
   "cell_type": "code",
   "execution_count": 25,
   "metadata": {},
   "outputs": [
    {
     "name": "stdout",
     "output_type": "stream",
     "text": [
      "Accuracy on FSGM attack with epsilon 1e-09: 100.00%\n",
      "Accuracy on FSGM attack with epsilon 0.03225806548387097: 88.44%\n",
      "Accuracy on FSGM attack with epsilon 0.06451612996774193: 78.37%\n",
      "Accuracy on FSGM attack with epsilon 0.09677419445161291: 70.66%\n",
      "Accuracy on FSGM attack with epsilon 0.12903225893548387: 67.24%\n",
      "Accuracy on FSGM attack with epsilon 0.16129032341935484: 60.81%\n",
      "Accuracy on FSGM attack with epsilon 0.19354838790322582: 56.53%\n",
      "Accuracy on FSGM attack with epsilon 0.2258064523870968: 52.68%\n",
      "Accuracy on FSGM attack with epsilon 0.25806451687096776: 49.68%\n",
      "Accuracy on FSGM attack with epsilon 0.2903225813548388: 48.18%\n",
      "Accuracy on FSGM attack with epsilon 0.3225806458387097: 46.47%\n",
      "Accuracy on FSGM attack with epsilon 0.3548387103225807: 44.11%\n",
      "Accuracy on FSGM attack with epsilon 0.38709677480645166: 43.04%\n",
      "Accuracy on FSGM attack with epsilon 0.41935483929032263: 42.18%\n",
      "Accuracy on FSGM attack with epsilon 0.4516129037741936: 40.47%\n",
      "Accuracy on FSGM attack with epsilon 0.4838709682580646: 38.12%\n",
      "Accuracy on FSGM attack with epsilon 0.5161290327419354: 36.40%\n",
      "Accuracy on FSGM attack with epsilon 0.5483870972258065: 34.69%\n",
      "Accuracy on FSGM attack with epsilon 0.5806451617096775: 33.83%\n",
      "Accuracy on FSGM attack with epsilon 0.6129032261935484: 33.62%\n",
      "Accuracy on FSGM attack with epsilon 0.6451612906774193: 32.76%\n",
      "Accuracy on FSGM attack with epsilon 0.6774193551612904: 31.48%\n",
      "Accuracy on FSGM attack with epsilon 0.7096774196451613: 25.70%\n",
      "Accuracy on FSGM attack with epsilon 0.7419354841290323: 22.91%\n",
      "Accuracy on FSGM attack with epsilon 0.7741935486129032: 19.27%\n",
      "Accuracy on FSGM attack with epsilon 0.8064516130967743: 16.70%\n",
      "Accuracy on FSGM attack with epsilon 0.8387096775806452: 13.49%\n",
      "Accuracy on FSGM attack with epsilon 0.8709677420645161: 11.99%\n",
      "Accuracy on FSGM attack with epsilon 0.9032258065483871: 11.78%\n",
      "Accuracy on FSGM attack with epsilon 0.935483871032258: 10.49%\n",
      "Accuracy on FSGM attack with epsilon 0.9677419355161291: 8.78%\n",
      "Accuracy on FSGM attack with epsilon 1.0: 5.14%\n"
     ]
    }
   ],
   "source": [
    "# Create FGSM attack\n",
    "for eps in eps_list:\n",
    "    attack = toolbox.FastGradientMethod(estimator=classifier, eps=eps)\n",
    "\n",
    "    # Generate adversarial examples\n",
    "    x_test_adv_fgsm = attack.generate(x=test_images)\n",
    "\n",
    "    # Evaluate accuracy on adversarial examples\n",
    "    predictions = classifier.predict(x_test_adv_fgsm)\n",
    "    accuracy = np.sum(np.argmax(predictions, axis=1) == test_labels) / len(test_labels)\n",
    "    print(f\"Accuracy on FSGM attack with epsilon {eps}: {accuracy * 100:.2f}%\")"
   ]
  },
  {
   "cell_type": "code",
   "execution_count": 26,
   "metadata": {},
   "outputs": [
    {
     "name": "stderr",
     "output_type": "stream",
     "text": [
      "                                                              \r"
     ]
    },
    {
     "name": "stdout",
     "output_type": "stream",
     "text": [
      "Accuracy on PGD attack with epsilon 1e-09: 100.00%\n"
     ]
    },
    {
     "name": "stderr",
     "output_type": "stream",
     "text": [
      "                                                              \r"
     ]
    },
    {
     "name": "stdout",
     "output_type": "stream",
     "text": [
      "Accuracy on PGD attack with epsilon 0.03225806548387097: 89.72%\n"
     ]
    },
    {
     "name": "stderr",
     "output_type": "stream",
     "text": [
      "                                                              \r"
     ]
    },
    {
     "name": "stdout",
     "output_type": "stream",
     "text": [
      "Accuracy on PGD attack with epsilon 0.06451612996774193: 73.66%\n"
     ]
    },
    {
     "name": "stderr",
     "output_type": "stream",
     "text": [
      "                                                              \r"
     ]
    },
    {
     "name": "stdout",
     "output_type": "stream",
     "text": [
      "Accuracy on PGD attack with epsilon 0.09677419445161291: 43.04%\n"
     ]
    },
    {
     "name": "stderr",
     "output_type": "stream",
     "text": [
      "                                                              \r"
     ]
    },
    {
     "name": "stdout",
     "output_type": "stream",
     "text": [
      "Accuracy on PGD attack with epsilon 0.12903225893548387: 28.27%\n"
     ]
    },
    {
     "name": "stderr",
     "output_type": "stream",
     "text": [
      "                                                              \r"
     ]
    },
    {
     "name": "stdout",
     "output_type": "stream",
     "text": [
      "Accuracy on PGD attack with epsilon 0.16129032341935484: 24.84%\n"
     ]
    },
    {
     "name": "stderr",
     "output_type": "stream",
     "text": [
      "                                                              \r"
     ]
    },
    {
     "name": "stdout",
     "output_type": "stream",
     "text": [
      "Accuracy on PGD attack with epsilon 0.19354838790322582: 16.49%\n"
     ]
    },
    {
     "name": "stderr",
     "output_type": "stream",
     "text": [
      "                                                              \r"
     ]
    },
    {
     "name": "stdout",
     "output_type": "stream",
     "text": [
      "Accuracy on PGD attack with epsilon 0.2258064523870968: 10.71%\n"
     ]
    },
    {
     "name": "stderr",
     "output_type": "stream",
     "text": [
      "                                                              \r"
     ]
    },
    {
     "name": "stdout",
     "output_type": "stream",
     "text": [
      "Accuracy on PGD attack with epsilon 0.25806451687096776: 5.14%\n"
     ]
    },
    {
     "name": "stderr",
     "output_type": "stream",
     "text": [
      "                                                              \r"
     ]
    },
    {
     "name": "stdout",
     "output_type": "stream",
     "text": [
      "Accuracy on PGD attack with epsilon 0.2903225813548388: 0.00%\n"
     ]
    },
    {
     "name": "stderr",
     "output_type": "stream",
     "text": [
      "                                                              \r"
     ]
    },
    {
     "name": "stdout",
     "output_type": "stream",
     "text": [
      "Accuracy on PGD attack with epsilon 0.3225806458387097: 0.00%\n"
     ]
    },
    {
     "name": "stderr",
     "output_type": "stream",
     "text": [
      "                                                              \r"
     ]
    },
    {
     "name": "stdout",
     "output_type": "stream",
     "text": [
      "Accuracy on PGD attack with epsilon 0.3548387103225807: 0.00%\n"
     ]
    },
    {
     "name": "stderr",
     "output_type": "stream",
     "text": [
      "                                                              \r"
     ]
    },
    {
     "name": "stdout",
     "output_type": "stream",
     "text": [
      "Accuracy on PGD attack with epsilon 0.38709677480645166: 0.00%\n"
     ]
    },
    {
     "name": "stderr",
     "output_type": "stream",
     "text": [
      "                                                              \r"
     ]
    },
    {
     "name": "stdout",
     "output_type": "stream",
     "text": [
      "Accuracy on PGD attack with epsilon 0.41935483929032263: 0.00%\n"
     ]
    },
    {
     "name": "stderr",
     "output_type": "stream",
     "text": [
      "                                                              \r"
     ]
    },
    {
     "name": "stdout",
     "output_type": "stream",
     "text": [
      "Accuracy on PGD attack with epsilon 0.4516129037741936: 0.00%\n"
     ]
    },
    {
     "name": "stderr",
     "output_type": "stream",
     "text": [
      "                                                              \r"
     ]
    },
    {
     "name": "stdout",
     "output_type": "stream",
     "text": [
      "Accuracy on PGD attack with epsilon 0.4838709682580646: 0.00%\n"
     ]
    },
    {
     "name": "stderr",
     "output_type": "stream",
     "text": [
      "                                                              \r"
     ]
    },
    {
     "name": "stdout",
     "output_type": "stream",
     "text": [
      "Accuracy on PGD attack with epsilon 0.5161290327419354: 0.00%\n"
     ]
    },
    {
     "name": "stderr",
     "output_type": "stream",
     "text": [
      "                                                              \r"
     ]
    },
    {
     "name": "stdout",
     "output_type": "stream",
     "text": [
      "Accuracy on PGD attack with epsilon 0.5483870972258065: 0.00%\n"
     ]
    },
    {
     "name": "stderr",
     "output_type": "stream",
     "text": [
      "                                                              \r"
     ]
    },
    {
     "name": "stdout",
     "output_type": "stream",
     "text": [
      "Accuracy on PGD attack with epsilon 0.5806451617096775: 0.00%\n"
     ]
    },
    {
     "name": "stderr",
     "output_type": "stream",
     "text": [
      "                                                              \r"
     ]
    },
    {
     "name": "stdout",
     "output_type": "stream",
     "text": [
      "Accuracy on PGD attack with epsilon 0.6129032261935484: 0.00%\n"
     ]
    },
    {
     "name": "stderr",
     "output_type": "stream",
     "text": [
      "                                                              \r"
     ]
    },
    {
     "name": "stdout",
     "output_type": "stream",
     "text": [
      "Accuracy on PGD attack with epsilon 0.6451612906774193: 0.00%\n"
     ]
    },
    {
     "name": "stderr",
     "output_type": "stream",
     "text": [
      "                                                              \r"
     ]
    },
    {
     "name": "stdout",
     "output_type": "stream",
     "text": [
      "Accuracy on PGD attack with epsilon 0.6774193551612904: 0.00%\n"
     ]
    },
    {
     "name": "stderr",
     "output_type": "stream",
     "text": [
      "                                                              \r"
     ]
    },
    {
     "name": "stdout",
     "output_type": "stream",
     "text": [
      "Accuracy on PGD attack with epsilon 0.7096774196451613: 0.00%\n"
     ]
    },
    {
     "name": "stderr",
     "output_type": "stream",
     "text": [
      "                                                              \r"
     ]
    },
    {
     "name": "stdout",
     "output_type": "stream",
     "text": [
      "Accuracy on PGD attack with epsilon 0.7419354841290323: 0.00%\n"
     ]
    },
    {
     "name": "stderr",
     "output_type": "stream",
     "text": [
      "                                                              \r"
     ]
    },
    {
     "name": "stdout",
     "output_type": "stream",
     "text": [
      "Accuracy on PGD attack with epsilon 0.7741935486129032: 0.00%\n"
     ]
    },
    {
     "name": "stderr",
     "output_type": "stream",
     "text": [
      "                                                              \r"
     ]
    },
    {
     "name": "stdout",
     "output_type": "stream",
     "text": [
      "Accuracy on PGD attack with epsilon 0.8064516130967743: 0.00%\n"
     ]
    },
    {
     "name": "stderr",
     "output_type": "stream",
     "text": [
      "                                                              \r"
     ]
    },
    {
     "name": "stdout",
     "output_type": "stream",
     "text": [
      "Accuracy on PGD attack with epsilon 0.8387096775806452: 0.00%\n"
     ]
    },
    {
     "name": "stderr",
     "output_type": "stream",
     "text": [
      "                                                              \r"
     ]
    },
    {
     "name": "stdout",
     "output_type": "stream",
     "text": [
      "Accuracy on PGD attack with epsilon 0.8709677420645161: 0.00%\n"
     ]
    },
    {
     "name": "stderr",
     "output_type": "stream",
     "text": [
      "                                                              \r"
     ]
    },
    {
     "name": "stdout",
     "output_type": "stream",
     "text": [
      "Accuracy on PGD attack with epsilon 0.9032258065483871: 0.00%\n"
     ]
    },
    {
     "name": "stderr",
     "output_type": "stream",
     "text": [
      "                                                              \r"
     ]
    },
    {
     "name": "stdout",
     "output_type": "stream",
     "text": [
      "Accuracy on PGD attack with epsilon 0.935483871032258: 0.00%\n"
     ]
    },
    {
     "name": "stderr",
     "output_type": "stream",
     "text": [
      "                                                              \r"
     ]
    },
    {
     "name": "stdout",
     "output_type": "stream",
     "text": [
      "Accuracy on PGD attack with epsilon 0.9677419355161291: 0.00%\n"
     ]
    },
    {
     "name": "stderr",
     "output_type": "stream",
     "text": [
      "                                                              \r"
     ]
    },
    {
     "name": "stdout",
     "output_type": "stream",
     "text": [
      "Accuracy on PGD attack with epsilon 1.0: 0.00%\n"
     ]
    }
   ],
   "source": [
    "# Create PGD attack\n",
    "for eps in eps_list:\n",
    "    pgd_attack = toolbox.ProjectedGradientDescentPyTorch(estimator=classifier, eps=eps)\n",
    "\n",
    "    # Generate adversarial examples\n",
    "    x_test_adv_pgd = pgd_attack.generate(x=test_images)\n",
    "\n",
    "    # Evaluate accuracy on adversarial examples\n",
    "    predictions = classifier.predict(x_test_adv_pgd)\n",
    "    accuracy = np.sum(np.argmax(predictions, axis=1) == test_labels) / len(test_labels)\n",
    "    print(f\"Accuracy on PGD attack with epsilon {eps}: {accuracy * 100:.2f}%\")"
   ]
  },
  {
   "cell_type": "code",
   "execution_count": null,
   "metadata": {},
   "outputs": [],
   "source": [
    "# Create C&W attack\n",
    "cw2_attack = toolbox.CarliniL2Method(classifier=classifier, confidence=0.0, max_iter=40, learning_rate=0.01)\n",
    "\n",
    "# Generate adversarial examples\n",
    "x_test_adv_cw2 = cw2_attack.generate(x=test_images)\n",
    "\n",
    "# Evaluate accuracy on adversarial examples\n",
    "predictions = classifier.predict(x_test_adv_cw2)\n",
    "accuracy = np.sum(np.argmax(predictions, axis=1) == test_labels) / len(test_labels)\n",
    "print(f\"Accuracy on CW2 attack: {accuracy * 100:.2f}%\")"
   ]
  },
  {
   "cell_type": "code",
   "execution_count": null,
   "metadata": {},
   "outputs": [],
   "source": [
    "# Create Universal Perturbations attack\n",
    "up_attack = toolbox.UniversalPerturbation(classifier=classifier, attacker=\"deepfool\", eps=0.1)\n",
    "\n",
    "# Generate adversarial examples\n",
    "x_test_adv_up = up_attack.generate(x=test_images)\n",
    "\n",
    "# Evaluate accuracy on adversarial examples\n",
    "predictions = classifier.predict(x_test_adv_up)\n",
    "accuracy = np.sum(np.argmax(predictions, axis=1) == test_labels) / len(test_labels)\n",
    "print(f\"Accuracy on UP attack: {accuracy * 100:.2f}%\")"
   ]
  }
 ],
 "metadata": {
  "kernelspec": {
   "display_name": ".venv",
   "language": "python",
   "name": "python3"
  },
  "language_info": {
   "codemirror_mode": {
    "name": "ipython",
    "version": 3
   },
   "file_extension": ".py",
   "mimetype": "text/x-python",
   "name": "python",
   "nbconvert_exporter": "python",
   "pygments_lexer": "ipython3",
   "version": "3.10.11"
  }
 },
 "nbformat": 4,
 "nbformat_minor": 2
}
