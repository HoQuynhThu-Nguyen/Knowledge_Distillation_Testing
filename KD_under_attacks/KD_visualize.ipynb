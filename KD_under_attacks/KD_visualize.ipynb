{
 "cells": [
  {
   "cell_type": "code",
   "execution_count": null,
   "metadata": {},
   "outputs": [],
   "source": [
    "from sklearn.metrics import confusion_matrix, classification_report, ConfusionMatrixDisplay\n",
    "import matplotlib.pyplot as plt\n",
    "from kd_export import train_light_ce, test_light_ce, train_light_ce_and_kd, test_light_ce_and_kd"
   ]
  },
  {
   "cell_type": "markdown",
   "metadata": {},
   "source": [
    "Knowledge distillation results visulize\n",
    "--------------------------"
   ]
  },
  {
   "cell_type": "code",
   "execution_count": null,
   "metadata": {},
   "outputs": [],
   "source": [
    "test_accuracy_light_ce = test_light_ce[1][\"accuracy\"] * 100\n",
    "test_accuracy_light_ce_and_kd = test_light_ce_and_kd[1][\"accuracy\"] * 100\n",
    "\n",
    "plt.suptitle(\"Training and Validation Loss of Student model\", fontsize=16)\n",
    "\n",
    "# Visualize the loss scores of student model - ce\n",
    "plt.figure(figsize=(8,3))\n",
    "plt.subplot(1, 2, 1)\n",
    "plt.plot(range(1, 11), train_light_ce[0], label=\"Train Loss\")\n",
    "plt.plot(range(1, 11), train_light_ce[1], label=\"Validation Loss\")\n",
    "plt.axhline(y=test_accuracy_light_ce, color='red', linestyle='--', label='Test Accuracy')\n",
    "plt.legend(loc='upper right')\n",
    "plt.title('with Cross-Entropy')\n",
    "\n",
    "# Visualize the loss scores of student model - ce + kd\n",
    "plt.subplot(1, 2, 2)\n",
    "plt.plot(range(1, 11), train_light_ce_and_kd[0], label=\"Train Loss\")\n",
    "plt.plot(range(1, 11), train_light_ce_and_kd[1], label=\"Validation Loss\")\n",
    "plt.axhline(y=test_accuracy_light_ce_and_kd, color='red', linestyle='--', label='Test Accuracy')\n",
    "plt.legend(loc='upper right')\n",
    "plt.title('with Knowledge Distillation')\n",
    "plt.show()\n"
   ]
  },
  {
   "cell_type": "code",
   "execution_count": null,
   "metadata": {},
   "outputs": [],
   "source": [
    "# Generate the confusion matrix\n",
    "cm = test_light_ce_and_kd[0]\n",
    "# Visualize the confusion matrix\n",
    "fig, ax = plt.subplots()\n",
    "fig.set_size_inches(24, 24)\n",
    "disp = ConfusionMatrixDisplay(confusion_matrix=cm)\n",
    "disp.plot(cmap=plt.cm.Blues, ax=ax, colorbar=False)\n",
    "plt.title(\"Confusion Matrix of Student model with Knowledge Distillation\")\n",
    "plt.show()"
   ]
  }
 ],
 "metadata": {
  "kernelspec": {
   "display_name": ".venv",
   "language": "python",
   "name": "python3"
  },
  "language_info": {
   "codemirror_mode": {
    "name": "ipython",
    "version": 3
   },
   "file_extension": ".py",
   "mimetype": "text/x-python",
   "name": "python",
   "nbconvert_exporter": "python",
   "pygments_lexer": "ipython3",
   "version": "3.10.11"
  }
 },
 "nbformat": 4,
 "nbformat_minor": 2
}
