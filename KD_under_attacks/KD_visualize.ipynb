{
 "cells": [
  {
   "cell_type": "code",
   "execution_count": 4,
   "metadata": {},
   "outputs": [
    {
     "name": "stdout",
     "output_type": "stream",
     "text": [
      "Organizing dataset...\n",
      "\n",
      "+------------+-------------------------+------------------------+\n",
      "| Tool       |   Training Images Moved |   Testing Images Moved |\n",
      "+============+=========================+========================+\n",
      "| bottle     |                     209 |                     20 |\n",
      "+------------+-------------------------+------------------------+\n",
      "| cable      |                     224 |                     58 |\n",
      "+------------+-------------------------+------------------------+\n",
      "| capsule    |                     219 |                     23 |\n",
      "+------------+-------------------------+------------------------+\n",
      "| carpet     |                     280 |                     28 |\n",
      "+------------+-------------------------+------------------------+\n",
      "| grid       |                     264 |                     21 |\n",
      "+------------+-------------------------+------------------------+\n",
      "| hazelnut   |                     391 |                     40 |\n",
      "+------------+-------------------------+------------------------+\n",
      "| leather    |                     245 |                     32 |\n",
      "+------------+-------------------------+------------------------+\n",
      "| metal_nut  |                     220 |                     22 |\n",
      "+------------+-------------------------+------------------------+\n",
      "| pill       |                     267 |                     26 |\n",
      "+------------+-------------------------+------------------------+\n",
      "| screw      |                     320 |                     41 |\n",
      "+------------+-------------------------+------------------------+\n",
      "| tile       |                     230 |                     33 |\n",
      "+------------+-------------------------+------------------------+\n",
      "| toothbrush |                      60 |                     12 |\n",
      "+------------+-------------------------+------------------------+\n",
      "| transistor |                     213 |                     60 |\n",
      "+------------+-------------------------+------------------------+\n",
      "| wood       |                     247 |                     19 |\n",
      "+------------+-------------------------+------------------------+\n",
      "| zipper     |                     240 |                     32 |\n",
      "+------------+-------------------------+------------------------+\n",
      "\n",
      "Class-to-Index Mapping:\n",
      "{'bottle': 0, 'cable': 1, 'capsule': 2, 'carpet': 3, 'grid': 4, 'hazelnut': 5, 'leather': 6, 'metal_nut': 7, 'pill': 8, 'screw': 9, 'tile': 10, 'toothbrush': 11, 'transistor': 12, 'wood': 13, 'zipper': 14}\n",
      "\n",
      "Verification of Dataset Integrity:\n",
      "+-----------+--------------------------+---------------------+\n",
      "| Dataset   | Class-to-Index Matches   | Class Names Match   |\n",
      "+===========+==========================+=====================+\n",
      "| Training  | True                     | True                |\n",
      "+-----------+--------------------------+---------------------+\n",
      "| Test      | True                     | True                |\n",
      "+-----------+--------------------------+---------------------+\n",
      "\n",
      "Dataset Statistics:\n",
      "+------------+-----------------+------------------------------------------------------------------------------------------------------------------------------+\n",
      "| Dataset    |   Total Samples | Class Distribution                                                                                                           |\n",
      "+============+=================+==============================================================================================================================+\n",
      "| Training   |            2903 | {5: 313, 4: 211, 3: 224, 6: 196, 9: 256, 12: 170, 1: 179, 14: 192, 0: 167, 13: 198, 10: 184, 11: 48, 7: 176, 8: 214, 2: 175} |\n",
      "+------------+-----------------+------------------------------------------------------------------------------------------------------------------------------+\n",
      "| Validation |             726 | {2: 44, 0: 42, 12: 43, 5: 78, 3: 56, 6: 49, 9: 64, 10: 46, 8: 53, 4: 53, 7: 44, 1: 45, 13: 49, 14: 48, 11: 12}               |\n",
      "+------------+-----------------+------------------------------------------------------------------------------------------------------------------------------+\n",
      "| Test       |             467 | {0: 20, 1: 58, 2: 23, 3: 28, 4: 21, 5: 40, 6: 32, 7: 22, 8: 26, 9: 41, 10: 33, 11: 12, 12: 60, 13: 19, 14: 32}               |\n",
      "+------------+-----------------+------------------------------------------------------------------------------------------------------------------------------+\n",
      "\n",
      "######################################################################\n",
      "Instantiate the teacher model.\n",
      "Cross-entropy runs with teacher model: \n",
      "Epoch 1/10, Training Loss: 0.8423132565650311\n",
      "Epoch 1/10, Validation Loss: 0.0843\n"
     ]
    },
    {
     "ename": "KeyboardInterrupt",
     "evalue": "",
     "output_type": "error",
     "traceback": [
      "\u001b[1;31m---------------------------------------------------------------------------\u001b[0m",
      "\u001b[1;31mKeyboardInterrupt\u001b[0m                         Traceback (most recent call last)",
      "Cell \u001b[1;32mIn[4], line 3\u001b[0m\n\u001b[0;32m      1\u001b[0m \u001b[38;5;28;01mfrom\u001b[39;00m \u001b[38;5;21;01msklearn\u001b[39;00m\u001b[38;5;21;01m.\u001b[39;00m\u001b[38;5;21;01mmetrics\u001b[39;00m \u001b[38;5;28;01mimport\u001b[39;00m confusion_matrix, classification_report, ConfusionMatrixDisplay\n\u001b[0;32m      2\u001b[0m \u001b[38;5;28;01mimport\u001b[39;00m \u001b[38;5;21;01mmatplotlib\u001b[39;00m\u001b[38;5;21;01m.\u001b[39;00m\u001b[38;5;21;01mpyplot\u001b[39;00m \u001b[38;5;28;01mas\u001b[39;00m \u001b[38;5;21;01mplt\u001b[39;00m\n\u001b[1;32m----> 3\u001b[0m \u001b[38;5;28;01mfrom\u001b[39;00m \u001b[38;5;21;01mkd_export\u001b[39;00m \u001b[38;5;28;01mimport\u001b[39;00m train_light_ce, test_light_ce, train_light_ce_and_kd, test_light_ce_and_kd\n",
      "File \u001b[1;32md:\\Arcade Projects\\Knowledge_Distillation_Testing\\KD_under_attacks\\kd_export.py:141\u001b[0m\n\u001b[0;32m    139\u001b[0m nn_deep \u001b[38;5;241m=\u001b[39m DeepNN(num_classes\u001b[38;5;241m=\u001b[39m\u001b[38;5;241m15\u001b[39m)\u001b[38;5;241m.\u001b[39mto(device)\n\u001b[0;32m    140\u001b[0m \u001b[38;5;28mprint\u001b[39m(\u001b[38;5;124m\"\u001b[39m\u001b[38;5;124mCross-entropy runs with teacher model: \u001b[39m\u001b[38;5;124m\"\u001b[39m)\n\u001b[1;32m--> 141\u001b[0m train_deep \u001b[38;5;241m=\u001b[39m \u001b[43mtrain\u001b[49m\u001b[43m(\u001b[49m\u001b[43mnn_deep\u001b[49m\u001b[43m,\u001b[49m\u001b[43m \u001b[49m\u001b[43mtrainloader\u001b[49m\u001b[43m,\u001b[49m\u001b[43m \u001b[49m\u001b[43mvalloader\u001b[49m\u001b[43m,\u001b[49m\u001b[43m \u001b[49m\u001b[43mepochs\u001b[49m\u001b[38;5;241;43m=\u001b[39;49m\u001b[38;5;241;43m10\u001b[39;49m\u001b[43m,\u001b[49m\u001b[43m \u001b[49m\u001b[43mlearning_rate\u001b[49m\u001b[38;5;241;43m=\u001b[39;49m\u001b[38;5;241;43m0.001\u001b[39;49m\u001b[43m,\u001b[49m\u001b[43m \u001b[49m\u001b[43mdevice\u001b[49m\u001b[38;5;241;43m=\u001b[39;49m\u001b[43mdevice\u001b[49m\u001b[43m)\u001b[49m\n\u001b[0;32m    142\u001b[0m test_deep \u001b[38;5;241m=\u001b[39m test(nn_deep, testloader, device)\n\u001b[0;32m    143\u001b[0m test_accuracy_deep \u001b[38;5;241m=\u001b[39m test_deep[\u001b[38;5;241m1\u001b[39m][\u001b[38;5;124m\"\u001b[39m\u001b[38;5;124maccuracy\u001b[39m\u001b[38;5;124m\"\u001b[39m] \u001b[38;5;241m*\u001b[39m \u001b[38;5;241m100\u001b[39m\n",
      "File \u001b[1;32md:\\Arcade Projects\\Knowledge_Distillation_Testing\\KD_under_attacks\\kd_export.py:86\u001b[0m, in \u001b[0;36mtrain\u001b[1;34m(model, trainloader, valloader, epochs, learning_rate, device)\u001b[0m\n\u001b[0;32m     83\u001b[0m outputs \u001b[38;5;241m=\u001b[39m model(inputs)\n\u001b[0;32m     85\u001b[0m loss \u001b[38;5;241m=\u001b[39m criterion(outputs, labels)\n\u001b[1;32m---> 86\u001b[0m \u001b[43mloss\u001b[49m\u001b[38;5;241;43m.\u001b[39;49m\u001b[43mbackward\u001b[49m\u001b[43m(\u001b[49m\u001b[43m)\u001b[49m\n\u001b[0;32m     87\u001b[0m optimizer\u001b[38;5;241m.\u001b[39mstep()\n\u001b[0;32m     89\u001b[0m running_loss \u001b[38;5;241m+\u001b[39m\u001b[38;5;241m=\u001b[39m loss\u001b[38;5;241m.\u001b[39mitem()\n",
      "File \u001b[1;32md:\\Arcade Projects\\Knowledge_Distillation_Testing\\.venv\\lib\\site-packages\\torch\\_tensor.py:581\u001b[0m, in \u001b[0;36mTensor.backward\u001b[1;34m(self, gradient, retain_graph, create_graph, inputs)\u001b[0m\n\u001b[0;32m    571\u001b[0m \u001b[38;5;28;01mif\u001b[39;00m has_torch_function_unary(\u001b[38;5;28mself\u001b[39m):\n\u001b[0;32m    572\u001b[0m     \u001b[38;5;28;01mreturn\u001b[39;00m handle_torch_function(\n\u001b[0;32m    573\u001b[0m         Tensor\u001b[38;5;241m.\u001b[39mbackward,\n\u001b[0;32m    574\u001b[0m         (\u001b[38;5;28mself\u001b[39m,),\n\u001b[1;32m   (...)\u001b[0m\n\u001b[0;32m    579\u001b[0m         inputs\u001b[38;5;241m=\u001b[39minputs,\n\u001b[0;32m    580\u001b[0m     )\n\u001b[1;32m--> 581\u001b[0m \u001b[43mtorch\u001b[49m\u001b[38;5;241;43m.\u001b[39;49m\u001b[43mautograd\u001b[49m\u001b[38;5;241;43m.\u001b[39;49m\u001b[43mbackward\u001b[49m\u001b[43m(\u001b[49m\n\u001b[0;32m    582\u001b[0m \u001b[43m    \u001b[49m\u001b[38;5;28;43mself\u001b[39;49m\u001b[43m,\u001b[49m\u001b[43m \u001b[49m\u001b[43mgradient\u001b[49m\u001b[43m,\u001b[49m\u001b[43m \u001b[49m\u001b[43mretain_graph\u001b[49m\u001b[43m,\u001b[49m\u001b[43m \u001b[49m\u001b[43mcreate_graph\u001b[49m\u001b[43m,\u001b[49m\u001b[43m \u001b[49m\u001b[43minputs\u001b[49m\u001b[38;5;241;43m=\u001b[39;49m\u001b[43minputs\u001b[49m\n\u001b[0;32m    583\u001b[0m \u001b[43m\u001b[49m\u001b[43m)\u001b[49m\n",
      "File \u001b[1;32md:\\Arcade Projects\\Knowledge_Distillation_Testing\\.venv\\lib\\site-packages\\torch\\autograd\\__init__.py:347\u001b[0m, in \u001b[0;36mbackward\u001b[1;34m(tensors, grad_tensors, retain_graph, create_graph, grad_variables, inputs)\u001b[0m\n\u001b[0;32m    342\u001b[0m     retain_graph \u001b[38;5;241m=\u001b[39m create_graph\n\u001b[0;32m    344\u001b[0m \u001b[38;5;66;03m# The reason we repeat the same comment below is that\u001b[39;00m\n\u001b[0;32m    345\u001b[0m \u001b[38;5;66;03m# some Python versions print out the first line of a multi-line function\u001b[39;00m\n\u001b[0;32m    346\u001b[0m \u001b[38;5;66;03m# calls in the traceback and some print out the last line\u001b[39;00m\n\u001b[1;32m--> 347\u001b[0m \u001b[43m_engine_run_backward\u001b[49m\u001b[43m(\u001b[49m\n\u001b[0;32m    348\u001b[0m \u001b[43m    \u001b[49m\u001b[43mtensors\u001b[49m\u001b[43m,\u001b[49m\n\u001b[0;32m    349\u001b[0m \u001b[43m    \u001b[49m\u001b[43mgrad_tensors_\u001b[49m\u001b[43m,\u001b[49m\n\u001b[0;32m    350\u001b[0m \u001b[43m    \u001b[49m\u001b[43mretain_graph\u001b[49m\u001b[43m,\u001b[49m\n\u001b[0;32m    351\u001b[0m \u001b[43m    \u001b[49m\u001b[43mcreate_graph\u001b[49m\u001b[43m,\u001b[49m\n\u001b[0;32m    352\u001b[0m \u001b[43m    \u001b[49m\u001b[43minputs\u001b[49m\u001b[43m,\u001b[49m\n\u001b[0;32m    353\u001b[0m \u001b[43m    \u001b[49m\u001b[43mallow_unreachable\u001b[49m\u001b[38;5;241;43m=\u001b[39;49m\u001b[38;5;28;43;01mTrue\u001b[39;49;00m\u001b[43m,\u001b[49m\n\u001b[0;32m    354\u001b[0m \u001b[43m    \u001b[49m\u001b[43maccumulate_grad\u001b[49m\u001b[38;5;241;43m=\u001b[39;49m\u001b[38;5;28;43;01mTrue\u001b[39;49;00m\u001b[43m,\u001b[49m\n\u001b[0;32m    355\u001b[0m \u001b[43m\u001b[49m\u001b[43m)\u001b[49m\n",
      "File \u001b[1;32md:\\Arcade Projects\\Knowledge_Distillation_Testing\\.venv\\lib\\site-packages\\torch\\autograd\\graph.py:825\u001b[0m, in \u001b[0;36m_engine_run_backward\u001b[1;34m(t_outputs, *args, **kwargs)\u001b[0m\n\u001b[0;32m    823\u001b[0m     unregister_hooks \u001b[38;5;241m=\u001b[39m _register_logging_hooks_on_whole_graph(t_outputs)\n\u001b[0;32m    824\u001b[0m \u001b[38;5;28;01mtry\u001b[39;00m:\n\u001b[1;32m--> 825\u001b[0m     \u001b[38;5;28;01mreturn\u001b[39;00m Variable\u001b[38;5;241m.\u001b[39m_execution_engine\u001b[38;5;241m.\u001b[39mrun_backward(  \u001b[38;5;66;03m# Calls into the C++ engine to run the backward pass\u001b[39;00m\n\u001b[0;32m    826\u001b[0m         t_outputs, \u001b[38;5;241m*\u001b[39margs, \u001b[38;5;241m*\u001b[39m\u001b[38;5;241m*\u001b[39mkwargs\n\u001b[0;32m    827\u001b[0m     )  \u001b[38;5;66;03m# Calls into the C++ engine to run the backward pass\u001b[39;00m\n\u001b[0;32m    828\u001b[0m \u001b[38;5;28;01mfinally\u001b[39;00m:\n\u001b[0;32m    829\u001b[0m     \u001b[38;5;28;01mif\u001b[39;00m attach_logging_hooks:\n",
      "\u001b[1;31mKeyboardInterrupt\u001b[0m: "
     ]
    }
   ],
   "source": [
    "from sklearn.metrics import confusion_matrix, classification_report, ConfusionMatrixDisplay\n",
    "import matplotlib.pyplot as plt\n",
    "from kd_export import train_light_ce, test_light_ce, train_light_ce_and_kd, test_light_ce_and_kd"
   ]
  },
  {
   "cell_type": "markdown",
   "metadata": {},
   "source": [
    "Knowledge distillation run\n",
    "--------------------------"
   ]
  },
  {
   "cell_type": "code",
   "execution_count": null,
   "metadata": {},
   "outputs": [],
   "source": [
    "test_accuracy_light_ce = test_light_ce[1][\"accuracy\"] * 100\n",
    "test_accuracy_light_ce_and_kd = test_light_ce_and_kd[1][\"accuracy\"] * 100\n",
    "\n",
    "plt.suptitle(\"Training and Validation Loss of Student model\", fontsize=16)\n",
    "\n",
    "# Visualize the loss scores of student model - ce\n",
    "plt.figure(figsize=(12, 10))\n",
    "plt.subplot(1, 2, 1)\n",
    "plt.plot(range(1, 11), train_light_ce[0], label=\"Train Loss\")\n",
    "plt.plot(range(1, 11), train_light_ce[1], label=\"Validation Loss\")\n",
    "# plt.axhline(y=test_accuracy_light_ce, color='red', linestyle='--', label='Test Accuracy')\n",
    "plt.legend(loc='upper right')\n",
    "plt.title('with Cross-Entropy')\n",
    "\n",
    "# Visualize the loss scores of student model - ce + kd\n",
    "plt.subplot(1, 2, 2)\n",
    "plt.plot(range(1, 11), train_light_ce_and_kd[0], label=\"Train Loss\")\n",
    "plt.plot(range(1, 11), train_light_ce_and_kd[1], label=\"Validation Loss\")\n",
    "# plt.axhline(y=test_accuracy_light_ce_and_kd, color='red', linestyle='--', label='Test Accuracy')\n",
    "plt.legend(loc='upper right')\n",
    "plt.title('with Knowledge Distillation')\n",
    "plt.show()\n"
   ]
  },
  {
   "cell_type": "code",
   "execution_count": null,
   "metadata": {},
   "outputs": [],
   "source": [
    "# Generate the confusion matrix\n",
    "cm = test_light_ce_and_kd[0]\n",
    "# Visualize the confusion matrix\n",
    "plt.figure(figsize=(8, 6))\n",
    "disp = ConfusionMatrixDisplay(confusion_matrix=cm)\n",
    "disp.plot(cmap=plt.cm.Blues)\n",
    "plt.title(\"Confusion Matrix of Student model with Knowledge Distillation\")\n",
    "plt.show()"
   ]
  }
 ],
 "metadata": {
  "kernelspec": {
   "display_name": ".venv",
   "language": "python",
   "name": "python3"
  },
  "language_info": {
   "codemirror_mode": {
    "name": "ipython",
    "version": 3
   },
   "file_extension": ".py",
   "mimetype": "text/x-python",
   "name": "python",
   "nbconvert_exporter": "python",
   "pygments_lexer": "ipython3",
   "version": "3.10.11"
  }
 },
 "nbformat": 4,
 "nbformat_minor": 2
}
