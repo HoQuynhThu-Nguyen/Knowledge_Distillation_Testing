{
 "cells": [
  {
   "cell_type": "code",
   "execution_count": 1,
   "metadata": {},
   "outputs": [
    {
     "name": "stderr",
     "output_type": "stream",
     "text": [
      "d:\\Arcade Projects\\Knowledge_Distillation_Testing\\.venv\\lib\\site-packages\\tqdm\\auto.py:21: TqdmWarning: IProgress not found. Please update jupyter and ipywidgets. See https://ipywidgets.readthedocs.io/en/stable/user_install.html\n",
      "  from .autonotebook import tqdm as notebook_tqdm\n"
     ]
    }
   ],
   "source": [
    "import torch\n",
    "import numpy as np\n",
    "import torch.nn as nn\n",
    "import torchvision.transforms as transforms\n",
    "import torchvision.models as models\n",
    "from torch.utils.data import random_split, DataLoader\n",
    "import torchvision.datasets as datasets\n",
    "import art.attacks.evasion as toolbox\n",
    "from art.estimators.classification import PyTorchClassifier\n",
    "from tqdm import tqdm\n",
    "from art.utils import load_cifar10"
   ]
  },
  {
   "cell_type": "code",
   "execution_count": 2,
   "metadata": {},
   "outputs": [
    {
     "name": "stdout",
     "output_type": "stream",
     "text": [
      "Check current device: \n",
      "Using GPU: NVIDIA GeForce RTX 4060\n"
     ]
    }
   ],
   "source": [
    "print(\"Check current device: \")\n",
    "# Check if GPU is available, and if not, use the CPU\n",
    "device = torch.device(\"cuda\" if torch.cuda.is_available() else \"cpu\")\n",
    "if torch.cuda.is_available(): # Should return True\n",
    "    print(f\"Using GPU: {torch.cuda.get_device_name(0)}\") # Should show your GPU name\n",
    "else:\n",
    "    print(\"Using CPU\")\n",
    "\n",
    "### set RNG seed\n",
    "RNG_SEED = 0\n",
    "\n",
    "np.random.seed(RNG_SEED)\n",
    "torch.manual_seed(RNG_SEED)\n",
    "if torch.cuda.is_available():\n",
    "\ttorch.cuda.manual_seed(RNG_SEED)\n",
    "\ttorch.cuda.manual_seed_all(RNG_SEED)"
   ]
  },
  {
   "cell_type": "code",
   "execution_count": 3,
   "metadata": {},
   "outputs": [
    {
     "name": "stdout",
     "output_type": "stream",
     "text": [
      "Files already downloaded and verified\n"
     ]
    }
   ],
   "source": [
    "transform = transforms.Compose([\n",
    "    transforms.Resize((224, 224)),\n",
    "    transforms.ToTensor(),\n",
    "    transforms.Normalize(mean=[0.485, 0.456, 0.406], std=[0.229, 0.224, 0.225])\n",
    "])\n",
    "test_dataset = datasets.CIFAR10(root='./data', train=False, download=True, transform=transform)\n",
    "test_loader = DataLoader(test_dataset, batch_size=32, shuffle=False, num_workers=2)\n",
    "\n",
    "test_images, test_labels = next(iter(test_loader))\n",
    "test_images = test_images.numpy()  # Convert images to NumPy\n",
    "test_labels = test_labels.numpy()  # Convert labels to NumPy\n"
   ]
  },
  {
   "cell_type": "code",
   "execution_count": 4,
   "metadata": {},
   "outputs": [],
   "source": [
    "eps_res = 18\n",
    "eps_min = 0\n",
    "eps_max = 0.005\n",
    "\n",
    "# Generating the list of values\n",
    "eps_list = [eps_min + i * (eps_max - eps_min) / (eps_res - 1) for i in range(eps_res)]\n",
    "noise_percents = np.arange(0.0, 0.55, 0.05)  # Noise levels from 0.0 to 0.5\n",
    "\n",
    "files = ['MobileNetV3_large_CE.pth', 'MobileNetV3_small_10_CE.pth', \n",
    "         'KD_model_2_0.pth', 'KD_model_2_1.pth', 'KD_model_2_2.pth', 'KD_model_2_3.pth', 'KD_model_2_4.pth', \n",
    "         'KD_model_3_5.pth', 'KD_model_3_6.pth', 'KD_model_3_7.pth', 'KD_model_3_8.pth', 'KD_model_3_9.pth',\n",
    "         'KD_model_4_10.pth', 'KD_model_4_11.pth', 'KD_model_4_12.pth', 'KD_model_4_13.pth', 'KD_model_4_14.pth',\n",
    "         'KD_model_5_15.pth', 'KD_model_5_16.pth', 'KD_model_5_17.pth', 'KD_model_5_18.pth', 'KD_model_5_19.pth']\n",
    "\n",
    "pgd_all_accuracies = []\n",
    "snp_all_accuracies = []"
   ]
  },
  {
   "cell_type": "code",
   "execution_count": 5,
   "metadata": {},
   "outputs": [],
   "source": [
    "def toolbox_generate(eps, classifier, test_image=test_images, test_label=test_labels):\n",
    "    attack = toolbox.ProjectedGradientDescent(estimator=classifier, eps=eps)\n",
    "    x_test_adv = attack.generate(x=test_image)\n",
    "    # Step 7: Evaluate the ART classifier on adversarial test examples\n",
    "    predictions = classifier.predict(x_test_adv)\n",
    "    accuracy = np.sum(np.argmax(predictions, axis=1) == test_label) / len(test_label)\n",
    "    return accuracy"
   ]
  },
  {
   "cell_type": "code",
   "execution_count": 6,
   "metadata": {},
   "outputs": [],
   "source": [
    "# Salt-and-Pepper Noise Class (same as corrected version)\n",
    "class SaltAndPepperNoise:\n",
    "    def __init__(self, noise_percent=0.1):\n",
    "        self.noise_percent = noise_percent\n",
    "\n",
    "    def generate(self, xs):\n",
    "        noisy_xs = np.copy(xs)\n",
    "        num_pixels = int(self.noise_percent * xs.size)\n",
    "\n",
    "        # Salt noise\n",
    "        salt_coords = [np.random.randint(0, i, num_pixels // 2) for i in xs.shape]\n",
    "        noisy_xs[tuple(salt_coords)] = 1.0\n",
    "\n",
    "        # Pepper noise\n",
    "        pepper_coords = [np.random.randint(0, i, num_pixels // 2) for i in xs.shape]\n",
    "        noisy_xs[tuple(pepper_coords)] = 0.0\n",
    "\n",
    "        return noisy_xs"
   ]
  },
  {
   "cell_type": "code",
   "execution_count": 7,
   "metadata": {},
   "outputs": [
    {
     "name": "stdout",
     "output_type": "stream",
     "text": [
      "--------------------------\n",
      "Running PGD......... MobileNetV3_large_CE.pth\n"
     ]
    },
    {
     "name": "stderr",
     "output_type": "stream",
     "text": [
      "                                                            \r"
     ]
    },
    {
     "name": "stdout",
     "output_type": "stream",
     "text": [
      "Accuracy with epsilon 0.0: 84.38%\n"
     ]
    },
    {
     "name": "stderr",
     "output_type": "stream",
     "text": [
      "                                                            \r"
     ]
    },
    {
     "name": "stdout",
     "output_type": "stream",
     "text": [
      "Accuracy with epsilon 0.00029411764705882356: 84.38%\n"
     ]
    },
    {
     "name": "stderr",
     "output_type": "stream",
     "text": [
      "                                                            \r"
     ]
    },
    {
     "name": "stdout",
     "output_type": "stream",
     "text": [
      "Accuracy with epsilon 0.0005882352941176471: 78.12%\n"
     ]
    },
    {
     "name": "stderr",
     "output_type": "stream",
     "text": [
      "                                                            \r"
     ]
    },
    {
     "name": "stdout",
     "output_type": "stream",
     "text": [
      "Accuracy with epsilon 0.0008823529411764705: 81.25%\n"
     ]
    },
    {
     "name": "stderr",
     "output_type": "stream",
     "text": [
      "                                                            \r"
     ]
    },
    {
     "name": "stdout",
     "output_type": "stream",
     "text": [
      "Accuracy with epsilon 0.0011764705882352942: 78.12%\n"
     ]
    },
    {
     "name": "stderr",
     "output_type": "stream",
     "text": [
      "                                                            \r"
     ]
    },
    {
     "name": "stdout",
     "output_type": "stream",
     "text": [
      "Accuracy with epsilon 0.0014705882352941176: 71.88%\n"
     ]
    },
    {
     "name": "stderr",
     "output_type": "stream",
     "text": [
      "                                                            \r"
     ]
    },
    {
     "name": "stdout",
     "output_type": "stream",
     "text": [
      "Accuracy with epsilon 0.001764705882352941: 68.75%\n"
     ]
    },
    {
     "name": "stderr",
     "output_type": "stream",
     "text": [
      "                                                            \r"
     ]
    },
    {
     "name": "stdout",
     "output_type": "stream",
     "text": [
      "Accuracy with epsilon 0.002058823529411765: 62.50%\n"
     ]
    },
    {
     "name": "stderr",
     "output_type": "stream",
     "text": [
      "                                                            \r"
     ]
    },
    {
     "name": "stdout",
     "output_type": "stream",
     "text": [
      "Accuracy with epsilon 0.0023529411764705885: 62.50%\n"
     ]
    },
    {
     "name": "stderr",
     "output_type": "stream",
     "text": [
      "                                                            \r"
     ]
    },
    {
     "name": "stdout",
     "output_type": "stream",
     "text": [
      "Accuracy with epsilon 0.0026470588235294116: 62.50%\n"
     ]
    },
    {
     "name": "stderr",
     "output_type": "stream",
     "text": [
      "                                                            \r"
     ]
    },
    {
     "name": "stdout",
     "output_type": "stream",
     "text": [
      "Accuracy with epsilon 0.0029411764705882353: 56.25%\n"
     ]
    },
    {
     "name": "stderr",
     "output_type": "stream",
     "text": [
      "                                                            \r"
     ]
    },
    {
     "name": "stdout",
     "output_type": "stream",
     "text": [
      "Accuracy with epsilon 0.003235294117647059: 50.00%\n"
     ]
    },
    {
     "name": "stderr",
     "output_type": "stream",
     "text": [
      "                                                            \r"
     ]
    },
    {
     "name": "stdout",
     "output_type": "stream",
     "text": [
      "Accuracy with epsilon 0.003529411764705882: 50.00%\n"
     ]
    },
    {
     "name": "stderr",
     "output_type": "stream",
     "text": [
      "                                                            \r"
     ]
    },
    {
     "name": "stdout",
     "output_type": "stream",
     "text": [
      "Accuracy with epsilon 0.003823529411764706: 43.75%\n"
     ]
    },
    {
     "name": "stderr",
     "output_type": "stream",
     "text": [
      "                                                            \r"
     ]
    },
    {
     "name": "stdout",
     "output_type": "stream",
     "text": [
      "Accuracy with epsilon 0.00411764705882353: 43.75%\n"
     ]
    },
    {
     "name": "stderr",
     "output_type": "stream",
     "text": [
      "                                                            \r"
     ]
    },
    {
     "name": "stdout",
     "output_type": "stream",
     "text": [
      "Accuracy with epsilon 0.004411764705882353: 40.62%\n"
     ]
    },
    {
     "name": "stderr",
     "output_type": "stream",
     "text": [
      "                                                            \r"
     ]
    },
    {
     "name": "stdout",
     "output_type": "stream",
     "text": [
      "Accuracy with epsilon 0.004705882352941177: 40.62%\n"
     ]
    },
    {
     "name": "stderr",
     "output_type": "stream",
     "text": [
      "                                                            \r"
     ]
    },
    {
     "name": "stdout",
     "output_type": "stream",
     "text": [
      "Accuracy with epsilon 0.005: 37.50%\n",
      "Running SNP......... MobileNetV3_large_CE.pth\n",
      "\n",
      "Evaluating Salt-and-Pepper Noise with noise_percent = 0.0\n"
     ]
    },
    {
     "name": "stderr",
     "output_type": "stream",
     "text": [
      "Adding Noise (percent=0.0): 100%|██████████| 313/313 [00:09<00:00, 31.77it/s]\n"
     ]
    },
    {
     "name": "stdout",
     "output_type": "stream",
     "text": [
      "Accuracy with noise_percent=0.0: 84.95%\n",
      "\n",
      "Evaluating Salt-and-Pepper Noise with noise_percent = 0.05\n"
     ]
    },
    {
     "name": "stderr",
     "output_type": "stream",
     "text": [
      "Adding Noise (percent=0.05): 100%|██████████| 313/313 [00:13<00:00, 24.00it/s]\n"
     ]
    },
    {
     "name": "stdout",
     "output_type": "stream",
     "text": [
      "Accuracy with noise_percent=0.05: 72.45%\n",
      "\n",
      "Evaluating Salt-and-Pepper Noise with noise_percent = 0.1\n"
     ]
    },
    {
     "name": "stderr",
     "output_type": "stream",
     "text": [
      "Adding Noise (percent=0.1): 100%|██████████| 313/313 [00:14<00:00, 22.24it/s]\n"
     ]
    },
    {
     "name": "stdout",
     "output_type": "stream",
     "text": [
      "Accuracy with noise_percent=0.1: 61.13%\n",
      "\n",
      "Evaluating Salt-and-Pepper Noise with noise_percent = 0.15000000000000002\n"
     ]
    },
    {
     "name": "stderr",
     "output_type": "stream",
     "text": [
      "Adding Noise (percent=0.15000000000000002): 100%|██████████| 313/313 [00:16<00:00, 18.56it/s]\n"
     ]
    },
    {
     "name": "stdout",
     "output_type": "stream",
     "text": [
      "Accuracy with noise_percent=0.15000000000000002: 50.67%\n",
      "\n",
      "Evaluating Salt-and-Pepper Noise with noise_percent = 0.2\n"
     ]
    },
    {
     "name": "stderr",
     "output_type": "stream",
     "text": [
      "Adding Noise (percent=0.2): 100%|██████████| 313/313 [00:19<00:00, 16.33it/s]\n"
     ]
    },
    {
     "name": "stdout",
     "output_type": "stream",
     "text": [
      "Accuracy with noise_percent=0.2: 42.18%\n",
      "\n",
      "Evaluating Salt-and-Pepper Noise with noise_percent = 0.25\n"
     ]
    },
    {
     "name": "stderr",
     "output_type": "stream",
     "text": [
      "Adding Noise (percent=0.25): 100%|██████████| 313/313 [00:21<00:00, 14.49it/s]\n"
     ]
    },
    {
     "name": "stdout",
     "output_type": "stream",
     "text": [
      "Accuracy with noise_percent=0.25: 36.29%\n",
      "\n",
      "Evaluating Salt-and-Pepper Noise with noise_percent = 0.30000000000000004\n"
     ]
    },
    {
     "name": "stderr",
     "output_type": "stream",
     "text": [
      "Adding Noise (percent=0.30000000000000004): 100%|██████████| 313/313 [00:25<00:00, 12.37it/s]\n"
     ]
    },
    {
     "name": "stdout",
     "output_type": "stream",
     "text": [
      "Accuracy with noise_percent=0.30000000000000004: 30.90%\n",
      "\n",
      "Evaluating Salt-and-Pepper Noise with noise_percent = 0.35000000000000003\n"
     ]
    },
    {
     "name": "stderr",
     "output_type": "stream",
     "text": [
      "Adding Noise (percent=0.35000000000000003): 100%|██████████| 313/313 [00:28<00:00, 11.17it/s]\n"
     ]
    },
    {
     "name": "stdout",
     "output_type": "stream",
     "text": [
      "Accuracy with noise_percent=0.35000000000000003: 26.87%\n",
      "\n",
      "Evaluating Salt-and-Pepper Noise with noise_percent = 0.4\n"
     ]
    },
    {
     "name": "stderr",
     "output_type": "stream",
     "text": [
      "Adding Noise (percent=0.4): 100%|██████████| 313/313 [00:30<00:00, 10.40it/s]\n"
     ]
    },
    {
     "name": "stdout",
     "output_type": "stream",
     "text": [
      "Accuracy with noise_percent=0.4: 23.49%\n",
      "\n",
      "Evaluating Salt-and-Pepper Noise with noise_percent = 0.45\n"
     ]
    },
    {
     "name": "stderr",
     "output_type": "stream",
     "text": [
      "Adding Noise (percent=0.45): 100%|██████████| 313/313 [00:32<00:00,  9.64it/s]\n"
     ]
    },
    {
     "name": "stdout",
     "output_type": "stream",
     "text": [
      "Accuracy with noise_percent=0.45: 21.45%\n",
      "\n",
      "Evaluating Salt-and-Pepper Noise with noise_percent = 0.5\n"
     ]
    },
    {
     "name": "stderr",
     "output_type": "stream",
     "text": [
      "Adding Noise (percent=0.5): 100%|██████████| 313/313 [00:34<00:00,  8.99it/s]\n"
     ]
    },
    {
     "name": "stdout",
     "output_type": "stream",
     "text": [
      "Accuracy with noise_percent=0.5: 19.92%\n",
      "--------------------------\n",
      "Running PGD......... MobileNetV3_small_10_CE.pth\n"
     ]
    },
    {
     "name": "stderr",
     "output_type": "stream",
     "text": [
      "                                                            \r"
     ]
    },
    {
     "name": "stdout",
     "output_type": "stream",
     "text": [
      "Accuracy with epsilon 0.0: 90.62%\n"
     ]
    },
    {
     "name": "stderr",
     "output_type": "stream",
     "text": [
      "                                                            \r"
     ]
    },
    {
     "name": "stdout",
     "output_type": "stream",
     "text": [
      "Accuracy with epsilon 0.00029411764705882356: 87.50%\n"
     ]
    },
    {
     "name": "stderr",
     "output_type": "stream",
     "text": [
      "                                                            \r"
     ]
    },
    {
     "name": "stdout",
     "output_type": "stream",
     "text": [
      "Accuracy with epsilon 0.0005882352941176471: 75.00%\n"
     ]
    },
    {
     "name": "stderr",
     "output_type": "stream",
     "text": [
      "                                                            \r"
     ]
    },
    {
     "name": "stdout",
     "output_type": "stream",
     "text": [
      "Accuracy with epsilon 0.0008823529411764705: 71.88%\n"
     ]
    },
    {
     "name": "stderr",
     "output_type": "stream",
     "text": [
      "                                                            \r"
     ]
    },
    {
     "name": "stdout",
     "output_type": "stream",
     "text": [
      "Accuracy with epsilon 0.0011764705882352942: 71.88%\n"
     ]
    },
    {
     "name": "stderr",
     "output_type": "stream",
     "text": [
      "                                                            \r"
     ]
    },
    {
     "name": "stdout",
     "output_type": "stream",
     "text": [
      "Accuracy with epsilon 0.0014705882352941176: 71.88%\n"
     ]
    },
    {
     "name": "stderr",
     "output_type": "stream",
     "text": [
      "                                                            \r"
     ]
    },
    {
     "name": "stdout",
     "output_type": "stream",
     "text": [
      "Accuracy with epsilon 0.001764705882352941: 68.75%\n"
     ]
    },
    {
     "name": "stderr",
     "output_type": "stream",
     "text": [
      "                                                            \r"
     ]
    },
    {
     "name": "stdout",
     "output_type": "stream",
     "text": [
      "Accuracy with epsilon 0.002058823529411765: 68.75%\n"
     ]
    },
    {
     "name": "stderr",
     "output_type": "stream",
     "text": [
      "                                                            \r"
     ]
    },
    {
     "name": "stdout",
     "output_type": "stream",
     "text": [
      "Accuracy with epsilon 0.0023529411764705885: 62.50%\n"
     ]
    },
    {
     "name": "stderr",
     "output_type": "stream",
     "text": [
      "                                                            \r"
     ]
    },
    {
     "name": "stdout",
     "output_type": "stream",
     "text": [
      "Accuracy with epsilon 0.0026470588235294116: 62.50%\n"
     ]
    },
    {
     "name": "stderr",
     "output_type": "stream",
     "text": [
      "                                                            \r"
     ]
    },
    {
     "name": "stdout",
     "output_type": "stream",
     "text": [
      "Accuracy with epsilon 0.0029411764705882353: 56.25%\n"
     ]
    },
    {
     "name": "stderr",
     "output_type": "stream",
     "text": [
      "                                                            \r"
     ]
    },
    {
     "name": "stdout",
     "output_type": "stream",
     "text": [
      "Accuracy with epsilon 0.003235294117647059: 56.25%\n"
     ]
    },
    {
     "name": "stderr",
     "output_type": "stream",
     "text": [
      "                                                            \r"
     ]
    },
    {
     "name": "stdout",
     "output_type": "stream",
     "text": [
      "Accuracy with epsilon 0.003529411764705882: 53.12%\n"
     ]
    },
    {
     "name": "stderr",
     "output_type": "stream",
     "text": [
      "                                                            \r"
     ]
    },
    {
     "name": "stdout",
     "output_type": "stream",
     "text": [
      "Accuracy with epsilon 0.003823529411764706: 46.88%\n"
     ]
    },
    {
     "name": "stderr",
     "output_type": "stream",
     "text": [
      "                                                            \r"
     ]
    },
    {
     "name": "stdout",
     "output_type": "stream",
     "text": [
      "Accuracy with epsilon 0.00411764705882353: 43.75%\n"
     ]
    },
    {
     "name": "stderr",
     "output_type": "stream",
     "text": [
      "                                                            \r"
     ]
    },
    {
     "name": "stdout",
     "output_type": "stream",
     "text": [
      "Accuracy with epsilon 0.004411764705882353: 43.75%\n"
     ]
    },
    {
     "name": "stderr",
     "output_type": "stream",
     "text": [
      "                                                            \r"
     ]
    },
    {
     "name": "stdout",
     "output_type": "stream",
     "text": [
      "Accuracy with epsilon 0.004705882352941177: 43.75%\n"
     ]
    },
    {
     "name": "stderr",
     "output_type": "stream",
     "text": [
      "                                                            \r"
     ]
    },
    {
     "name": "stdout",
     "output_type": "stream",
     "text": [
      "Accuracy with epsilon 0.005: 43.75%\n",
      "Running SNP......... MobileNetV3_small_10_CE.pth\n",
      "\n",
      "Evaluating Salt-and-Pepper Noise with noise_percent = 0.0\n"
     ]
    },
    {
     "name": "stderr",
     "output_type": "stream",
     "text": [
      "Adding Noise (percent=0.0): 100%|██████████| 313/313 [00:09<00:00, 31.90it/s]\n"
     ]
    },
    {
     "name": "stdout",
     "output_type": "stream",
     "text": [
      "Accuracy with noise_percent=0.0: 83.81%\n",
      "\n",
      "Evaluating Salt-and-Pepper Noise with noise_percent = 0.05\n"
     ]
    },
    {
     "name": "stderr",
     "output_type": "stream",
     "text": [
      "Adding Noise (percent=0.05): 100%|██████████| 313/313 [00:11<00:00, 26.74it/s]\n"
     ]
    },
    {
     "name": "stdout",
     "output_type": "stream",
     "text": [
      "Accuracy with noise_percent=0.05: 65.95%\n",
      "\n",
      "Evaluating Salt-and-Pepper Noise with noise_percent = 0.1\n"
     ]
    },
    {
     "name": "stderr",
     "output_type": "stream",
     "text": [
      "Adding Noise (percent=0.1): 100%|██████████| 313/313 [00:14<00:00, 21.93it/s]\n"
     ]
    },
    {
     "name": "stdout",
     "output_type": "stream",
     "text": [
      "Accuracy with noise_percent=0.1: 50.63%\n",
      "\n",
      "Evaluating Salt-and-Pepper Noise with noise_percent = 0.15000000000000002\n"
     ]
    },
    {
     "name": "stderr",
     "output_type": "stream",
     "text": [
      "Adding Noise (percent=0.15000000000000002): 100%|██████████| 313/313 [00:17<00:00, 18.17it/s]\n"
     ]
    },
    {
     "name": "stdout",
     "output_type": "stream",
     "text": [
      "Accuracy with noise_percent=0.15000000000000002: 39.14%\n",
      "\n",
      "Evaluating Salt-and-Pepper Noise with noise_percent = 0.2\n"
     ]
    },
    {
     "name": "stderr",
     "output_type": "stream",
     "text": [
      "Adding Noise (percent=0.2): 100%|██████████| 313/313 [00:19<00:00, 15.87it/s]\n"
     ]
    },
    {
     "name": "stdout",
     "output_type": "stream",
     "text": [
      "Accuracy with noise_percent=0.2: 32.34%\n",
      "\n",
      "Evaluating Salt-and-Pepper Noise with noise_percent = 0.25\n"
     ]
    },
    {
     "name": "stderr",
     "output_type": "stream",
     "text": [
      "Adding Noise (percent=0.25): 100%|██████████| 313/313 [00:22<00:00, 14.20it/s]\n"
     ]
    },
    {
     "name": "stdout",
     "output_type": "stream",
     "text": [
      "Accuracy with noise_percent=0.25: 27.21%\n",
      "\n",
      "Evaluating Salt-and-Pepper Noise with noise_percent = 0.30000000000000004\n"
     ]
    },
    {
     "name": "stderr",
     "output_type": "stream",
     "text": [
      "Adding Noise (percent=0.30000000000000004): 100%|██████████| 313/313 [00:24<00:00, 12.80it/s]\n"
     ]
    },
    {
     "name": "stdout",
     "output_type": "stream",
     "text": [
      "Accuracy with noise_percent=0.30000000000000004: 24.00%\n",
      "\n",
      "Evaluating Salt-and-Pepper Noise with noise_percent = 0.35000000000000003\n"
     ]
    },
    {
     "name": "stderr",
     "output_type": "stream",
     "text": [
      "Adding Noise (percent=0.35000000000000003): 100%|██████████| 313/313 [00:27<00:00, 11.44it/s]\n"
     ]
    },
    {
     "name": "stdout",
     "output_type": "stream",
     "text": [
      "Accuracy with noise_percent=0.35000000000000003: 21.58%\n",
      "\n",
      "Evaluating Salt-and-Pepper Noise with noise_percent = 0.4\n"
     ]
    },
    {
     "name": "stderr",
     "output_type": "stream",
     "text": [
      "Adding Noise (percent=0.4): 100%|██████████| 313/313 [00:29<00:00, 10.66it/s]\n"
     ]
    },
    {
     "name": "stdout",
     "output_type": "stream",
     "text": [
      "Accuracy with noise_percent=0.4: 19.65%\n",
      "\n",
      "Evaluating Salt-and-Pepper Noise with noise_percent = 0.45\n"
     ]
    },
    {
     "name": "stderr",
     "output_type": "stream",
     "text": [
      "Adding Noise (percent=0.45): 100%|██████████| 313/313 [00:31<00:00,  9.97it/s]\n"
     ]
    },
    {
     "name": "stdout",
     "output_type": "stream",
     "text": [
      "Accuracy with noise_percent=0.45: 18.32%\n",
      "\n",
      "Evaluating Salt-and-Pepper Noise with noise_percent = 0.5\n"
     ]
    },
    {
     "name": "stderr",
     "output_type": "stream",
     "text": [
      "Adding Noise (percent=0.5): 100%|██████████| 313/313 [00:34<00:00,  9.04it/s]\n"
     ]
    },
    {
     "name": "stdout",
     "output_type": "stream",
     "text": [
      "Accuracy with noise_percent=0.5: 16.93%\n",
      "--------------------------\n",
      "Running PGD......... KD_model_2_0.pth\n"
     ]
    },
    {
     "name": "stderr",
     "output_type": "stream",
     "text": [
      "                                                            \r"
     ]
    },
    {
     "name": "stdout",
     "output_type": "stream",
     "text": [
      "Accuracy with epsilon 0.0: 93.75%\n"
     ]
    },
    {
     "name": "stderr",
     "output_type": "stream",
     "text": [
      "                                                            \r"
     ]
    },
    {
     "name": "stdout",
     "output_type": "stream",
     "text": [
      "Accuracy with epsilon 0.00029411764705882356: 93.75%\n"
     ]
    },
    {
     "name": "stderr",
     "output_type": "stream",
     "text": [
      "                                                            \r"
     ]
    },
    {
     "name": "stdout",
     "output_type": "stream",
     "text": [
      "Accuracy with epsilon 0.0005882352941176471: 90.62%\n"
     ]
    },
    {
     "name": "stderr",
     "output_type": "stream",
     "text": [
      "                                                            \r"
     ]
    },
    {
     "name": "stdout",
     "output_type": "stream",
     "text": [
      "Accuracy with epsilon 0.0008823529411764705: 84.38%\n"
     ]
    },
    {
     "name": "stderr",
     "output_type": "stream",
     "text": [
      "                                                            \r"
     ]
    },
    {
     "name": "stdout",
     "output_type": "stream",
     "text": [
      "Accuracy with epsilon 0.0011764705882352942: 81.25%\n"
     ]
    },
    {
     "name": "stderr",
     "output_type": "stream",
     "text": [
      "                                                            \r"
     ]
    },
    {
     "name": "stdout",
     "output_type": "stream",
     "text": [
      "Accuracy with epsilon 0.0014705882352941176: 78.12%\n"
     ]
    },
    {
     "name": "stderr",
     "output_type": "stream",
     "text": [
      "                                                            \r"
     ]
    },
    {
     "name": "stdout",
     "output_type": "stream",
     "text": [
      "Accuracy with epsilon 0.001764705882352941: 68.75%\n"
     ]
    },
    {
     "name": "stderr",
     "output_type": "stream",
     "text": [
      "                                                            \r"
     ]
    },
    {
     "name": "stdout",
     "output_type": "stream",
     "text": [
      "Accuracy with epsilon 0.002058823529411765: 65.62%\n"
     ]
    },
    {
     "name": "stderr",
     "output_type": "stream",
     "text": [
      "                                                            \r"
     ]
    },
    {
     "name": "stdout",
     "output_type": "stream",
     "text": [
      "Accuracy with epsilon 0.0023529411764705885: 62.50%\n"
     ]
    },
    {
     "name": "stderr",
     "output_type": "stream",
     "text": [
      "                                                            \r"
     ]
    },
    {
     "name": "stdout",
     "output_type": "stream",
     "text": [
      "Accuracy with epsilon 0.0026470588235294116: 59.38%\n"
     ]
    },
    {
     "name": "stderr",
     "output_type": "stream",
     "text": [
      "                                                            \r"
     ]
    },
    {
     "name": "stdout",
     "output_type": "stream",
     "text": [
      "Accuracy with epsilon 0.0029411764705882353: 56.25%\n"
     ]
    },
    {
     "name": "stderr",
     "output_type": "stream",
     "text": [
      "                                                            \r"
     ]
    },
    {
     "name": "stdout",
     "output_type": "stream",
     "text": [
      "Accuracy with epsilon 0.003235294117647059: 53.12%\n"
     ]
    },
    {
     "name": "stderr",
     "output_type": "stream",
     "text": [
      "                                                            \r"
     ]
    },
    {
     "name": "stdout",
     "output_type": "stream",
     "text": [
      "Accuracy with epsilon 0.003529411764705882: 46.88%\n"
     ]
    },
    {
     "name": "stderr",
     "output_type": "stream",
     "text": [
      "                                                            \r"
     ]
    },
    {
     "name": "stdout",
     "output_type": "stream",
     "text": [
      "Accuracy with epsilon 0.003823529411764706: 46.88%\n"
     ]
    },
    {
     "name": "stderr",
     "output_type": "stream",
     "text": [
      "                                                            \r"
     ]
    },
    {
     "name": "stdout",
     "output_type": "stream",
     "text": [
      "Accuracy with epsilon 0.00411764705882353: 40.62%\n"
     ]
    },
    {
     "name": "stderr",
     "output_type": "stream",
     "text": [
      "                                                            \r"
     ]
    },
    {
     "name": "stdout",
     "output_type": "stream",
     "text": [
      "Accuracy with epsilon 0.004411764705882353: 37.50%\n"
     ]
    },
    {
     "name": "stderr",
     "output_type": "stream",
     "text": [
      "                                                            \r"
     ]
    },
    {
     "name": "stdout",
     "output_type": "stream",
     "text": [
      "Accuracy with epsilon 0.004705882352941177: 34.38%\n"
     ]
    },
    {
     "name": "stderr",
     "output_type": "stream",
     "text": [
      "                                                            \r"
     ]
    },
    {
     "name": "stdout",
     "output_type": "stream",
     "text": [
      "Accuracy with epsilon 0.005: 34.38%\n",
      "Running SNP......... KD_model_2_0.pth\n",
      "\n",
      "Evaluating Salt-and-Pepper Noise with noise_percent = 0.0\n"
     ]
    },
    {
     "name": "stderr",
     "output_type": "stream",
     "text": [
      "Adding Noise (percent=0.0): 100%|██████████| 313/313 [00:09<00:00, 31.95it/s]\n"
     ]
    },
    {
     "name": "stdout",
     "output_type": "stream",
     "text": [
      "Accuracy with noise_percent=0.0: 84.48%\n",
      "\n",
      "Evaluating Salt-and-Pepper Noise with noise_percent = 0.05\n"
     ]
    },
    {
     "name": "stderr",
     "output_type": "stream",
     "text": [
      "Adding Noise (percent=0.05): 100%|██████████| 313/313 [00:11<00:00, 26.77it/s]\n"
     ]
    },
    {
     "name": "stdout",
     "output_type": "stream",
     "text": [
      "Accuracy with noise_percent=0.05: 63.36%\n",
      "\n",
      "Evaluating Salt-and-Pepper Noise with noise_percent = 0.1\n"
     ]
    },
    {
     "name": "stderr",
     "output_type": "stream",
     "text": [
      "Adding Noise (percent=0.1): 100%|██████████| 313/313 [00:14<00:00, 21.98it/s]\n"
     ]
    },
    {
     "name": "stdout",
     "output_type": "stream",
     "text": [
      "Accuracy with noise_percent=0.1: 46.45%\n",
      "\n",
      "Evaluating Salt-and-Pepper Noise with noise_percent = 0.15000000000000002\n"
     ]
    },
    {
     "name": "stderr",
     "output_type": "stream",
     "text": [
      "Adding Noise (percent=0.15000000000000002): 100%|██████████| 313/313 [00:17<00:00, 18.22it/s]\n"
     ]
    },
    {
     "name": "stdout",
     "output_type": "stream",
     "text": [
      "Accuracy with noise_percent=0.15000000000000002: 35.24%\n",
      "\n",
      "Evaluating Salt-and-Pepper Noise with noise_percent = 0.2\n"
     ]
    },
    {
     "name": "stderr",
     "output_type": "stream",
     "text": [
      "Adding Noise (percent=0.2): 100%|██████████| 313/313 [00:20<00:00, 15.29it/s]\n"
     ]
    },
    {
     "name": "stdout",
     "output_type": "stream",
     "text": [
      "Accuracy with noise_percent=0.2: 27.92%\n",
      "\n",
      "Evaluating Salt-and-Pepper Noise with noise_percent = 0.25\n"
     ]
    },
    {
     "name": "stderr",
     "output_type": "stream",
     "text": [
      "Adding Noise (percent=0.25): 100%|██████████| 313/313 [00:21<00:00, 14.56it/s]\n"
     ]
    },
    {
     "name": "stdout",
     "output_type": "stream",
     "text": [
      "Accuracy with noise_percent=0.25: 23.37%\n",
      "\n",
      "Evaluating Salt-and-Pepper Noise with noise_percent = 0.30000000000000004\n"
     ]
    },
    {
     "name": "stderr",
     "output_type": "stream",
     "text": [
      "Adding Noise (percent=0.30000000000000004): 100%|██████████| 313/313 [00:23<00:00, 13.24it/s]\n"
     ]
    },
    {
     "name": "stdout",
     "output_type": "stream",
     "text": [
      "Accuracy with noise_percent=0.30000000000000004: 20.63%\n",
      "\n",
      "Evaluating Salt-and-Pepper Noise with noise_percent = 0.35000000000000003\n"
     ]
    },
    {
     "name": "stderr",
     "output_type": "stream",
     "text": [
      "Adding Noise (percent=0.35000000000000003): 100%|██████████| 313/313 [00:26<00:00, 11.98it/s]\n"
     ]
    },
    {
     "name": "stdout",
     "output_type": "stream",
     "text": [
      "Accuracy with noise_percent=0.35000000000000003: 19.08%\n",
      "\n",
      "Evaluating Salt-and-Pepper Noise with noise_percent = 0.4\n"
     ]
    },
    {
     "name": "stderr",
     "output_type": "stream",
     "text": [
      "Adding Noise (percent=0.4): 100%|██████████| 313/313 [00:28<00:00, 10.90it/s]\n"
     ]
    },
    {
     "name": "stdout",
     "output_type": "stream",
     "text": [
      "Accuracy with noise_percent=0.4: 17.68%\n",
      "\n",
      "Evaluating Salt-and-Pepper Noise with noise_percent = 0.45\n"
     ]
    },
    {
     "name": "stderr",
     "output_type": "stream",
     "text": [
      "Adding Noise (percent=0.45): 100%|██████████| 313/313 [00:31<00:00, 10.09it/s]\n"
     ]
    },
    {
     "name": "stdout",
     "output_type": "stream",
     "text": [
      "Accuracy with noise_percent=0.45: 16.83%\n",
      "\n",
      "Evaluating Salt-and-Pepper Noise with noise_percent = 0.5\n"
     ]
    },
    {
     "name": "stderr",
     "output_type": "stream",
     "text": [
      "Adding Noise (percent=0.5): 100%|██████████| 313/313 [00:33<00:00,  9.41it/s]\n"
     ]
    },
    {
     "name": "stdout",
     "output_type": "stream",
     "text": [
      "Accuracy with noise_percent=0.5: 16.21%\n",
      "--------------------------\n",
      "Running PGD......... KD_model_2_1.pth\n"
     ]
    },
    {
     "name": "stderr",
     "output_type": "stream",
     "text": [
      "                                                            \r"
     ]
    },
    {
     "name": "stdout",
     "output_type": "stream",
     "text": [
      "Accuracy with epsilon 0.0: 90.62%\n"
     ]
    },
    {
     "name": "stderr",
     "output_type": "stream",
     "text": [
      "                                                            \r"
     ]
    },
    {
     "name": "stdout",
     "output_type": "stream",
     "text": [
      "Accuracy with epsilon 0.00029411764705882356: 96.88%\n"
     ]
    },
    {
     "name": "stderr",
     "output_type": "stream",
     "text": [
      "                                                            \r"
     ]
    },
    {
     "name": "stdout",
     "output_type": "stream",
     "text": [
      "Accuracy with epsilon 0.0005882352941176471: 90.62%\n"
     ]
    },
    {
     "name": "stderr",
     "output_type": "stream",
     "text": [
      "                                                            \r"
     ]
    },
    {
     "name": "stdout",
     "output_type": "stream",
     "text": [
      "Accuracy with epsilon 0.0008823529411764705: 90.62%\n"
     ]
    },
    {
     "name": "stderr",
     "output_type": "stream",
     "text": [
      "                                                            \r"
     ]
    },
    {
     "name": "stdout",
     "output_type": "stream",
     "text": [
      "Accuracy with epsilon 0.0011764705882352942: 87.50%\n"
     ]
    },
    {
     "name": "stderr",
     "output_type": "stream",
     "text": [
      "                                                            \r"
     ]
    },
    {
     "name": "stdout",
     "output_type": "stream",
     "text": [
      "Accuracy with epsilon 0.0014705882352941176: 84.38%\n"
     ]
    },
    {
     "name": "stderr",
     "output_type": "stream",
     "text": [
      "                                                            \r"
     ]
    },
    {
     "name": "stdout",
     "output_type": "stream",
     "text": [
      "Accuracy with epsilon 0.001764705882352941: 81.25%\n"
     ]
    },
    {
     "name": "stderr",
     "output_type": "stream",
     "text": [
      "                                                            \r"
     ]
    },
    {
     "name": "stdout",
     "output_type": "stream",
     "text": [
      "Accuracy with epsilon 0.002058823529411765: 81.25%\n"
     ]
    },
    {
     "name": "stderr",
     "output_type": "stream",
     "text": [
      "                                                            \r"
     ]
    },
    {
     "name": "stdout",
     "output_type": "stream",
     "text": [
      "Accuracy with epsilon 0.0023529411764705885: 78.12%\n"
     ]
    },
    {
     "name": "stderr",
     "output_type": "stream",
     "text": [
      "                                                            \r"
     ]
    },
    {
     "name": "stdout",
     "output_type": "stream",
     "text": [
      "Accuracy with epsilon 0.0026470588235294116: 75.00%\n"
     ]
    },
    {
     "name": "stderr",
     "output_type": "stream",
     "text": [
      "                                                            \r"
     ]
    },
    {
     "name": "stdout",
     "output_type": "stream",
     "text": [
      "Accuracy with epsilon 0.0029411764705882353: 68.75%\n"
     ]
    },
    {
     "name": "stderr",
     "output_type": "stream",
     "text": [
      "                                                            \r"
     ]
    },
    {
     "name": "stdout",
     "output_type": "stream",
     "text": [
      "Accuracy with epsilon 0.003235294117647059: 56.25%\n"
     ]
    },
    {
     "name": "stderr",
     "output_type": "stream",
     "text": [
      "                                                            \r"
     ]
    },
    {
     "name": "stdout",
     "output_type": "stream",
     "text": [
      "Accuracy with epsilon 0.003529411764705882: 53.12%\n"
     ]
    },
    {
     "name": "stderr",
     "output_type": "stream",
     "text": [
      "                                                            \r"
     ]
    },
    {
     "name": "stdout",
     "output_type": "stream",
     "text": [
      "Accuracy with epsilon 0.003823529411764706: 50.00%\n"
     ]
    },
    {
     "name": "stderr",
     "output_type": "stream",
     "text": [
      "                                                            \r"
     ]
    },
    {
     "name": "stdout",
     "output_type": "stream",
     "text": [
      "Accuracy with epsilon 0.00411764705882353: 46.88%\n"
     ]
    },
    {
     "name": "stderr",
     "output_type": "stream",
     "text": [
      "                                                            \r"
     ]
    },
    {
     "name": "stdout",
     "output_type": "stream",
     "text": [
      "Accuracy with epsilon 0.004411764705882353: 40.62%\n"
     ]
    },
    {
     "name": "stderr",
     "output_type": "stream",
     "text": [
      "                                                            \r"
     ]
    },
    {
     "name": "stdout",
     "output_type": "stream",
     "text": [
      "Accuracy with epsilon 0.004705882352941177: 40.62%\n"
     ]
    },
    {
     "name": "stderr",
     "output_type": "stream",
     "text": [
      "                                                            \r"
     ]
    },
    {
     "name": "stdout",
     "output_type": "stream",
     "text": [
      "Accuracy with epsilon 0.005: 40.62%\n",
      "Running SNP......... KD_model_2_1.pth\n",
      "\n",
      "Evaluating Salt-and-Pepper Noise with noise_percent = 0.0\n"
     ]
    },
    {
     "name": "stderr",
     "output_type": "stream",
     "text": [
      "Adding Noise (percent=0.0): 100%|██████████| 313/313 [00:09<00:00, 34.44it/s]\n"
     ]
    },
    {
     "name": "stdout",
     "output_type": "stream",
     "text": [
      "Accuracy with noise_percent=0.0: 84.72%\n",
      "\n",
      "Evaluating Salt-and-Pepper Noise with noise_percent = 0.05\n"
     ]
    },
    {
     "name": "stderr",
     "output_type": "stream",
     "text": [
      "Adding Noise (percent=0.05): 100%|██████████| 313/313 [00:11<00:00, 28.26it/s]\n"
     ]
    },
    {
     "name": "stdout",
     "output_type": "stream",
     "text": [
      "Accuracy with noise_percent=0.05: 62.22%\n",
      "\n",
      "Evaluating Salt-and-Pepper Noise with noise_percent = 0.1\n"
     ]
    },
    {
     "name": "stderr",
     "output_type": "stream",
     "text": [
      "Adding Noise (percent=0.1): 100%|██████████| 313/313 [00:13<00:00, 22.86it/s]\n"
     ]
    },
    {
     "name": "stdout",
     "output_type": "stream",
     "text": [
      "Accuracy with noise_percent=0.1: 42.99%\n",
      "\n",
      "Evaluating Salt-and-Pepper Noise with noise_percent = 0.15000000000000002\n"
     ]
    },
    {
     "name": "stderr",
     "output_type": "stream",
     "text": [
      "Adding Noise (percent=0.15000000000000002): 100%|██████████| 313/313 [00:16<00:00, 18.95it/s]\n"
     ]
    },
    {
     "name": "stdout",
     "output_type": "stream",
     "text": [
      "Accuracy with noise_percent=0.15000000000000002: 30.98%\n",
      "\n",
      "Evaluating Salt-and-Pepper Noise with noise_percent = 0.2\n"
     ]
    },
    {
     "name": "stderr",
     "output_type": "stream",
     "text": [
      "Adding Noise (percent=0.2): 100%|██████████| 313/313 [00:18<00:00, 16.48it/s]\n"
     ]
    },
    {
     "name": "stdout",
     "output_type": "stream",
     "text": [
      "Accuracy with noise_percent=0.2: 23.57%\n",
      "\n",
      "Evaluating Salt-and-Pepper Noise with noise_percent = 0.25\n"
     ]
    },
    {
     "name": "stderr",
     "output_type": "stream",
     "text": [
      "Adding Noise (percent=0.25): 100%|██████████| 313/313 [00:21<00:00, 14.68it/s]\n"
     ]
    },
    {
     "name": "stdout",
     "output_type": "stream",
     "text": [
      "Accuracy with noise_percent=0.25: 19.26%\n",
      "\n",
      "Evaluating Salt-and-Pepper Noise with noise_percent = 0.30000000000000004\n"
     ]
    },
    {
     "name": "stderr",
     "output_type": "stream",
     "text": [
      "Adding Noise (percent=0.30000000000000004): 100%|██████████| 313/313 [00:23<00:00, 13.09it/s]\n"
     ]
    },
    {
     "name": "stdout",
     "output_type": "stream",
     "text": [
      "Accuracy with noise_percent=0.30000000000000004: 16.66%\n",
      "\n",
      "Evaluating Salt-and-Pepper Noise with noise_percent = 0.35000000000000003\n"
     ]
    },
    {
     "name": "stderr",
     "output_type": "stream",
     "text": [
      "Adding Noise (percent=0.35000000000000003): 100%|██████████| 313/313 [00:26<00:00, 11.89it/s]\n"
     ]
    },
    {
     "name": "stdout",
     "output_type": "stream",
     "text": [
      "Accuracy with noise_percent=0.35000000000000003: 14.73%\n",
      "\n",
      "Evaluating Salt-and-Pepper Noise with noise_percent = 0.4\n"
     ]
    },
    {
     "name": "stderr",
     "output_type": "stream",
     "text": [
      "Adding Noise (percent=0.4): 100%|██████████| 313/313 [00:28<00:00, 10.96it/s]\n"
     ]
    },
    {
     "name": "stdout",
     "output_type": "stream",
     "text": [
      "Accuracy with noise_percent=0.4: 13.60%\n",
      "\n",
      "Evaluating Salt-and-Pepper Noise with noise_percent = 0.45\n"
     ]
    },
    {
     "name": "stderr",
     "output_type": "stream",
     "text": [
      "Adding Noise (percent=0.45): 100%|██████████| 313/313 [00:31<00:00, 10.02it/s]\n"
     ]
    },
    {
     "name": "stdout",
     "output_type": "stream",
     "text": [
      "Accuracy with noise_percent=0.45: 12.64%\n",
      "\n",
      "Evaluating Salt-and-Pepper Noise with noise_percent = 0.5\n"
     ]
    },
    {
     "name": "stderr",
     "output_type": "stream",
     "text": [
      "Adding Noise (percent=0.5): 100%|██████████| 313/313 [00:33<00:00,  9.46it/s]\n"
     ]
    },
    {
     "name": "stdout",
     "output_type": "stream",
     "text": [
      "Accuracy with noise_percent=0.5: 12.04%\n",
      "--------------------------\n",
      "Running PGD......... KD_model_2_2.pth\n"
     ]
    },
    {
     "name": "stderr",
     "output_type": "stream",
     "text": [
      "                                                            \r"
     ]
    },
    {
     "name": "stdout",
     "output_type": "stream",
     "text": [
      "Accuracy with epsilon 0.0: 87.50%\n"
     ]
    },
    {
     "name": "stderr",
     "output_type": "stream",
     "text": [
      "                                                            \r"
     ]
    },
    {
     "name": "stdout",
     "output_type": "stream",
     "text": [
      "Accuracy with epsilon 0.00029411764705882356: 93.75%\n"
     ]
    },
    {
     "name": "stderr",
     "output_type": "stream",
     "text": [
      "                                                            \r"
     ]
    },
    {
     "name": "stdout",
     "output_type": "stream",
     "text": [
      "Accuracy with epsilon 0.0005882352941176471: 93.75%\n"
     ]
    },
    {
     "name": "stderr",
     "output_type": "stream",
     "text": [
      "                                                            \r"
     ]
    },
    {
     "name": "stdout",
     "output_type": "stream",
     "text": [
      "Accuracy with epsilon 0.0008823529411764705: 87.50%\n"
     ]
    },
    {
     "name": "stderr",
     "output_type": "stream",
     "text": [
      "                                                            \r"
     ]
    },
    {
     "name": "stdout",
     "output_type": "stream",
     "text": [
      "Accuracy with epsilon 0.0011764705882352942: 78.12%\n"
     ]
    },
    {
     "name": "stderr",
     "output_type": "stream",
     "text": [
      "                                                            \r"
     ]
    },
    {
     "name": "stdout",
     "output_type": "stream",
     "text": [
      "Accuracy with epsilon 0.0014705882352941176: 78.12%\n"
     ]
    },
    {
     "name": "stderr",
     "output_type": "stream",
     "text": [
      "                                                            \r"
     ]
    },
    {
     "name": "stdout",
     "output_type": "stream",
     "text": [
      "Accuracy with epsilon 0.001764705882352941: 78.12%\n"
     ]
    },
    {
     "name": "stderr",
     "output_type": "stream",
     "text": [
      "                                                            \r"
     ]
    },
    {
     "name": "stdout",
     "output_type": "stream",
     "text": [
      "Accuracy with epsilon 0.002058823529411765: 71.88%\n"
     ]
    },
    {
     "name": "stderr",
     "output_type": "stream",
     "text": [
      "                                                            \r"
     ]
    },
    {
     "name": "stdout",
     "output_type": "stream",
     "text": [
      "Accuracy with epsilon 0.0023529411764705885: 68.75%\n"
     ]
    },
    {
     "name": "stderr",
     "output_type": "stream",
     "text": [
      "                                                            \r"
     ]
    },
    {
     "name": "stdout",
     "output_type": "stream",
     "text": [
      "Accuracy with epsilon 0.0026470588235294116: 65.62%\n"
     ]
    },
    {
     "name": "stderr",
     "output_type": "stream",
     "text": [
      "                                                            \r"
     ]
    },
    {
     "name": "stdout",
     "output_type": "stream",
     "text": [
      "Accuracy with epsilon 0.0029411764705882353: 56.25%\n"
     ]
    },
    {
     "name": "stderr",
     "output_type": "stream",
     "text": [
      "                                                            \r"
     ]
    },
    {
     "name": "stdout",
     "output_type": "stream",
     "text": [
      "Accuracy with epsilon 0.003235294117647059: 53.12%\n"
     ]
    },
    {
     "name": "stderr",
     "output_type": "stream",
     "text": [
      "                                                            \r"
     ]
    },
    {
     "name": "stdout",
     "output_type": "stream",
     "text": [
      "Accuracy with epsilon 0.003529411764705882: 53.12%\n"
     ]
    },
    {
     "name": "stderr",
     "output_type": "stream",
     "text": [
      "                                                            \r"
     ]
    },
    {
     "name": "stdout",
     "output_type": "stream",
     "text": [
      "Accuracy with epsilon 0.003823529411764706: 50.00%\n"
     ]
    },
    {
     "name": "stderr",
     "output_type": "stream",
     "text": [
      "                                                            \r"
     ]
    },
    {
     "name": "stdout",
     "output_type": "stream",
     "text": [
      "Accuracy with epsilon 0.00411764705882353: 50.00%\n"
     ]
    },
    {
     "name": "stderr",
     "output_type": "stream",
     "text": [
      "                                                            \r"
     ]
    },
    {
     "name": "stdout",
     "output_type": "stream",
     "text": [
      "Accuracy with epsilon 0.004411764705882353: 43.75%\n"
     ]
    },
    {
     "name": "stderr",
     "output_type": "stream",
     "text": [
      "                                                            \r"
     ]
    },
    {
     "name": "stdout",
     "output_type": "stream",
     "text": [
      "Accuracy with epsilon 0.004705882352941177: 40.62%\n"
     ]
    },
    {
     "name": "stderr",
     "output_type": "stream",
     "text": [
      "                                                            \r"
     ]
    },
    {
     "name": "stdout",
     "output_type": "stream",
     "text": [
      "Accuracy with epsilon 0.005: 34.38%\n",
      "Running SNP......... KD_model_2_2.pth\n",
      "\n",
      "Evaluating Salt-and-Pepper Noise with noise_percent = 0.0\n"
     ]
    },
    {
     "name": "stderr",
     "output_type": "stream",
     "text": [
      "Adding Noise (percent=0.0): 100%|██████████| 313/313 [00:09<00:00, 34.67it/s]\n"
     ]
    },
    {
     "name": "stdout",
     "output_type": "stream",
     "text": [
      "Accuracy with noise_percent=0.0: 85.29%\n",
      "\n",
      "Evaluating Salt-and-Pepper Noise with noise_percent = 0.05\n"
     ]
    },
    {
     "name": "stderr",
     "output_type": "stream",
     "text": [
      "Adding Noise (percent=0.05): 100%|██████████| 313/313 [00:11<00:00, 28.36it/s]\n"
     ]
    },
    {
     "name": "stdout",
     "output_type": "stream",
     "text": [
      "Accuracy with noise_percent=0.05: 61.86%\n",
      "\n",
      "Evaluating Salt-and-Pepper Noise with noise_percent = 0.1\n"
     ]
    },
    {
     "name": "stderr",
     "output_type": "stream",
     "text": [
      "Adding Noise (percent=0.1): 100%|██████████| 313/313 [00:13<00:00, 23.03it/s]\n"
     ]
    },
    {
     "name": "stdout",
     "output_type": "stream",
     "text": [
      "Accuracy with noise_percent=0.1: 44.05%\n",
      "\n",
      "Evaluating Salt-and-Pepper Noise with noise_percent = 0.15000000000000002\n"
     ]
    },
    {
     "name": "stderr",
     "output_type": "stream",
     "text": [
      "Adding Noise (percent=0.15000000000000002): 100%|██████████| 313/313 [00:16<00:00, 18.95it/s]\n"
     ]
    },
    {
     "name": "stdout",
     "output_type": "stream",
     "text": [
      "Accuracy with noise_percent=0.15000000000000002: 33.10%\n",
      "\n",
      "Evaluating Salt-and-Pepper Noise with noise_percent = 0.2\n"
     ]
    },
    {
     "name": "stderr",
     "output_type": "stream",
     "text": [
      "Adding Noise (percent=0.2): 100%|██████████| 313/313 [00:19<00:00, 16.47it/s]\n"
     ]
    },
    {
     "name": "stdout",
     "output_type": "stream",
     "text": [
      "Accuracy with noise_percent=0.2: 26.18%\n",
      "\n",
      "Evaluating Salt-and-Pepper Noise with noise_percent = 0.25\n"
     ]
    },
    {
     "name": "stderr",
     "output_type": "stream",
     "text": [
      "Adding Noise (percent=0.25): 100%|██████████| 313/313 [00:21<00:00, 14.59it/s]\n"
     ]
    },
    {
     "name": "stdout",
     "output_type": "stream",
     "text": [
      "Accuracy with noise_percent=0.25: 22.15%\n",
      "\n",
      "Evaluating Salt-and-Pepper Noise with noise_percent = 0.30000000000000004\n"
     ]
    },
    {
     "name": "stderr",
     "output_type": "stream",
     "text": [
      "Adding Noise (percent=0.30000000000000004): 100%|██████████| 313/313 [00:23<00:00, 13.20it/s]\n"
     ]
    },
    {
     "name": "stdout",
     "output_type": "stream",
     "text": [
      "Accuracy with noise_percent=0.30000000000000004: 19.81%\n",
      "\n",
      "Evaluating Salt-and-Pepper Noise with noise_percent = 0.35000000000000003\n"
     ]
    },
    {
     "name": "stderr",
     "output_type": "stream",
     "text": [
      "Adding Noise (percent=0.35000000000000003): 100%|██████████| 313/313 [00:26<00:00, 11.88it/s]\n"
     ]
    },
    {
     "name": "stdout",
     "output_type": "stream",
     "text": [
      "Accuracy with noise_percent=0.35000000000000003: 17.74%\n",
      "\n",
      "Evaluating Salt-and-Pepper Noise with noise_percent = 0.4\n"
     ]
    },
    {
     "name": "stderr",
     "output_type": "stream",
     "text": [
      "Adding Noise (percent=0.4): 100%|██████████| 313/313 [00:28<00:00, 10.91it/s]\n"
     ]
    },
    {
     "name": "stdout",
     "output_type": "stream",
     "text": [
      "Accuracy with noise_percent=0.4: 16.44%\n",
      "\n",
      "Evaluating Salt-and-Pepper Noise with noise_percent = 0.45\n"
     ]
    },
    {
     "name": "stderr",
     "output_type": "stream",
     "text": [
      "Adding Noise (percent=0.45): 100%|██████████| 313/313 [00:31<00:00, 10.06it/s]\n"
     ]
    },
    {
     "name": "stdout",
     "output_type": "stream",
     "text": [
      "Accuracy with noise_percent=0.45: 15.75%\n",
      "\n",
      "Evaluating Salt-and-Pepper Noise with noise_percent = 0.5\n"
     ]
    },
    {
     "name": "stderr",
     "output_type": "stream",
     "text": [
      "Adding Noise (percent=0.5): 100%|██████████| 313/313 [00:33<00:00,  9.47it/s]\n"
     ]
    },
    {
     "name": "stdout",
     "output_type": "stream",
     "text": [
      "Accuracy with noise_percent=0.5: 15.00%\n",
      "--------------------------\n",
      "Running PGD......... KD_model_2_3.pth\n"
     ]
    },
    {
     "name": "stderr",
     "output_type": "stream",
     "text": [
      "                                                            \r"
     ]
    },
    {
     "name": "stdout",
     "output_type": "stream",
     "text": [
      "Accuracy with epsilon 0.0: 87.50%\n"
     ]
    },
    {
     "name": "stderr",
     "output_type": "stream",
     "text": [
      "                                                            \r"
     ]
    },
    {
     "name": "stdout",
     "output_type": "stream",
     "text": [
      "Accuracy with epsilon 0.00029411764705882356: 96.88%\n"
     ]
    },
    {
     "name": "stderr",
     "output_type": "stream",
     "text": [
      "                                                            \r"
     ]
    },
    {
     "name": "stdout",
     "output_type": "stream",
     "text": [
      "Accuracy with epsilon 0.0005882352941176471: 93.75%\n"
     ]
    },
    {
     "name": "stderr",
     "output_type": "stream",
     "text": [
      "                                                            \r"
     ]
    },
    {
     "name": "stdout",
     "output_type": "stream",
     "text": [
      "Accuracy with epsilon 0.0008823529411764705: 93.75%\n"
     ]
    },
    {
     "name": "stderr",
     "output_type": "stream",
     "text": [
      "                                                            \r"
     ]
    },
    {
     "name": "stdout",
     "output_type": "stream",
     "text": [
      "Accuracy with epsilon 0.0011764705882352942: 84.38%\n"
     ]
    },
    {
     "name": "stderr",
     "output_type": "stream",
     "text": [
      "                                                            \r"
     ]
    },
    {
     "name": "stdout",
     "output_type": "stream",
     "text": [
      "Accuracy with epsilon 0.0014705882352941176: 75.00%\n"
     ]
    },
    {
     "name": "stderr",
     "output_type": "stream",
     "text": [
      "                                                            \r"
     ]
    },
    {
     "name": "stdout",
     "output_type": "stream",
     "text": [
      "Accuracy with epsilon 0.001764705882352941: 68.75%\n"
     ]
    },
    {
     "name": "stderr",
     "output_type": "stream",
     "text": [
      "                                                            \r"
     ]
    },
    {
     "name": "stdout",
     "output_type": "stream",
     "text": [
      "Accuracy with epsilon 0.002058823529411765: 62.50%\n"
     ]
    },
    {
     "name": "stderr",
     "output_type": "stream",
     "text": [
      "                                                            \r"
     ]
    },
    {
     "name": "stdout",
     "output_type": "stream",
     "text": [
      "Accuracy with epsilon 0.0023529411764705885: 53.12%\n"
     ]
    },
    {
     "name": "stderr",
     "output_type": "stream",
     "text": [
      "                                                            \r"
     ]
    },
    {
     "name": "stdout",
     "output_type": "stream",
     "text": [
      "Accuracy with epsilon 0.0026470588235294116: 50.00%\n"
     ]
    },
    {
     "name": "stderr",
     "output_type": "stream",
     "text": [
      "                                                            \r"
     ]
    },
    {
     "name": "stdout",
     "output_type": "stream",
     "text": [
      "Accuracy with epsilon 0.0029411764705882353: 46.88%\n"
     ]
    },
    {
     "name": "stderr",
     "output_type": "stream",
     "text": [
      "                                                            \r"
     ]
    },
    {
     "name": "stdout",
     "output_type": "stream",
     "text": [
      "Accuracy with epsilon 0.003235294117647059: 43.75%\n"
     ]
    },
    {
     "name": "stderr",
     "output_type": "stream",
     "text": [
      "                                                            \r"
     ]
    },
    {
     "name": "stdout",
     "output_type": "stream",
     "text": [
      "Accuracy with epsilon 0.003529411764705882: 43.75%\n"
     ]
    },
    {
     "name": "stderr",
     "output_type": "stream",
     "text": [
      "                                                            \r"
     ]
    },
    {
     "name": "stdout",
     "output_type": "stream",
     "text": [
      "Accuracy with epsilon 0.003823529411764706: 37.50%\n"
     ]
    },
    {
     "name": "stderr",
     "output_type": "stream",
     "text": [
      "                                                            \r"
     ]
    },
    {
     "name": "stdout",
     "output_type": "stream",
     "text": [
      "Accuracy with epsilon 0.00411764705882353: 34.38%\n"
     ]
    },
    {
     "name": "stderr",
     "output_type": "stream",
     "text": [
      "                                                            \r"
     ]
    },
    {
     "name": "stdout",
     "output_type": "stream",
     "text": [
      "Accuracy with epsilon 0.004411764705882353: 34.38%\n"
     ]
    },
    {
     "name": "stderr",
     "output_type": "stream",
     "text": [
      "                                                            \r"
     ]
    },
    {
     "name": "stdout",
     "output_type": "stream",
     "text": [
      "Accuracy with epsilon 0.004705882352941177: 34.38%\n"
     ]
    },
    {
     "name": "stderr",
     "output_type": "stream",
     "text": [
      "                                                            \r"
     ]
    },
    {
     "name": "stdout",
     "output_type": "stream",
     "text": [
      "Accuracy with epsilon 0.005: 28.12%\n",
      "Running SNP......... KD_model_2_3.pth\n",
      "\n",
      "Evaluating Salt-and-Pepper Noise with noise_percent = 0.0\n"
     ]
    },
    {
     "name": "stderr",
     "output_type": "stream",
     "text": [
      "Adding Noise (percent=0.0): 100%|██████████| 313/313 [00:09<00:00, 34.11it/s]\n"
     ]
    },
    {
     "name": "stdout",
     "output_type": "stream",
     "text": [
      "Accuracy with noise_percent=0.0: 85.26%\n",
      "\n",
      "Evaluating Salt-and-Pepper Noise with noise_percent = 0.05\n"
     ]
    },
    {
     "name": "stderr",
     "output_type": "stream",
     "text": [
      "Adding Noise (percent=0.05): 100%|██████████| 313/313 [00:11<00:00, 28.17it/s]\n"
     ]
    },
    {
     "name": "stdout",
     "output_type": "stream",
     "text": [
      "Accuracy with noise_percent=0.05: 59.02%\n",
      "\n",
      "Evaluating Salt-and-Pepper Noise with noise_percent = 0.1\n"
     ]
    },
    {
     "name": "stderr",
     "output_type": "stream",
     "text": [
      "Adding Noise (percent=0.1): 100%|██████████| 313/313 [00:13<00:00, 22.81it/s]\n"
     ]
    },
    {
     "name": "stdout",
     "output_type": "stream",
     "text": [
      "Accuracy with noise_percent=0.1: 42.83%\n",
      "\n",
      "Evaluating Salt-and-Pepper Noise with noise_percent = 0.15000000000000002\n"
     ]
    },
    {
     "name": "stderr",
     "output_type": "stream",
     "text": [
      "Adding Noise (percent=0.15000000000000002): 100%|██████████| 313/313 [00:16<00:00, 18.93it/s]\n"
     ]
    },
    {
     "name": "stdout",
     "output_type": "stream",
     "text": [
      "Accuracy with noise_percent=0.15000000000000002: 32.90%\n",
      "\n",
      "Evaluating Salt-and-Pepper Noise with noise_percent = 0.2\n"
     ]
    },
    {
     "name": "stderr",
     "output_type": "stream",
     "text": [
      "Adding Noise (percent=0.2): 100%|██████████| 313/313 [00:19<00:00, 16.38it/s]\n"
     ]
    },
    {
     "name": "stdout",
     "output_type": "stream",
     "text": [
      "Accuracy with noise_percent=0.2: 26.46%\n",
      "\n",
      "Evaluating Salt-and-Pepper Noise with noise_percent = 0.25\n"
     ]
    },
    {
     "name": "stderr",
     "output_type": "stream",
     "text": [
      "Adding Noise (percent=0.25): 100%|██████████| 313/313 [00:21<00:00, 14.62it/s]\n"
     ]
    },
    {
     "name": "stdout",
     "output_type": "stream",
     "text": [
      "Accuracy with noise_percent=0.25: 22.17%\n",
      "\n",
      "Evaluating Salt-and-Pepper Noise with noise_percent = 0.30000000000000004\n"
     ]
    },
    {
     "name": "stderr",
     "output_type": "stream",
     "text": [
      "Adding Noise (percent=0.30000000000000004): 100%|██████████| 313/313 [00:23<00:00, 13.09it/s]\n"
     ]
    },
    {
     "name": "stdout",
     "output_type": "stream",
     "text": [
      "Accuracy with noise_percent=0.30000000000000004: 18.93%\n",
      "\n",
      "Evaluating Salt-and-Pepper Noise with noise_percent = 0.35000000000000003\n"
     ]
    },
    {
     "name": "stderr",
     "output_type": "stream",
     "text": [
      "Adding Noise (percent=0.35000000000000003): 100%|██████████| 313/313 [00:26<00:00, 11.97it/s]\n"
     ]
    },
    {
     "name": "stdout",
     "output_type": "stream",
     "text": [
      "Accuracy with noise_percent=0.35000000000000003: 16.92%\n",
      "\n",
      "Evaluating Salt-and-Pepper Noise with noise_percent = 0.4\n"
     ]
    },
    {
     "name": "stderr",
     "output_type": "stream",
     "text": [
      "Adding Noise (percent=0.4): 100%|██████████| 313/313 [00:28<00:00, 11.05it/s]\n"
     ]
    },
    {
     "name": "stdout",
     "output_type": "stream",
     "text": [
      "Accuracy with noise_percent=0.4: 15.64%\n",
      "\n",
      "Evaluating Salt-and-Pepper Noise with noise_percent = 0.45\n"
     ]
    },
    {
     "name": "stderr",
     "output_type": "stream",
     "text": [
      "Adding Noise (percent=0.45): 100%|██████████| 313/313 [00:30<00:00, 10.13it/s]\n"
     ]
    },
    {
     "name": "stdout",
     "output_type": "stream",
     "text": [
      "Accuracy with noise_percent=0.45: 14.63%\n",
      "\n",
      "Evaluating Salt-and-Pepper Noise with noise_percent = 0.5\n"
     ]
    },
    {
     "name": "stderr",
     "output_type": "stream",
     "text": [
      "Adding Noise (percent=0.5): 100%|██████████| 313/313 [00:33<00:00,  9.32it/s]\n"
     ]
    },
    {
     "name": "stdout",
     "output_type": "stream",
     "text": [
      "Accuracy with noise_percent=0.5: 13.88%\n",
      "--------------------------\n",
      "Running PGD......... KD_model_2_4.pth\n"
     ]
    },
    {
     "name": "stderr",
     "output_type": "stream",
     "text": [
      "                                                            \r"
     ]
    },
    {
     "name": "stdout",
     "output_type": "stream",
     "text": [
      "Accuracy with epsilon 0.0: 93.75%\n"
     ]
    },
    {
     "name": "stderr",
     "output_type": "stream",
     "text": [
      "                                                            \r"
     ]
    },
    {
     "name": "stdout",
     "output_type": "stream",
     "text": [
      "Accuracy with epsilon 0.00029411764705882356: 90.62%\n"
     ]
    },
    {
     "name": "stderr",
     "output_type": "stream",
     "text": [
      "                                                            \r"
     ]
    },
    {
     "name": "stdout",
     "output_type": "stream",
     "text": [
      "Accuracy with epsilon 0.0005882352941176471: 84.38%\n"
     ]
    },
    {
     "name": "stderr",
     "output_type": "stream",
     "text": [
      "                                                            \r"
     ]
    },
    {
     "name": "stdout",
     "output_type": "stream",
     "text": [
      "Accuracy with epsilon 0.0008823529411764705: 81.25%\n"
     ]
    },
    {
     "name": "stderr",
     "output_type": "stream",
     "text": [
      "                                                            \r"
     ]
    },
    {
     "name": "stdout",
     "output_type": "stream",
     "text": [
      "Accuracy with epsilon 0.0011764705882352942: 75.00%\n"
     ]
    },
    {
     "name": "stderr",
     "output_type": "stream",
     "text": [
      "                                                            \r"
     ]
    },
    {
     "name": "stdout",
     "output_type": "stream",
     "text": [
      "Accuracy with epsilon 0.0014705882352941176: 68.75%\n"
     ]
    },
    {
     "name": "stderr",
     "output_type": "stream",
     "text": [
      "                                                            \r"
     ]
    },
    {
     "name": "stdout",
     "output_type": "stream",
     "text": [
      "Accuracy with epsilon 0.001764705882352941: 71.88%\n"
     ]
    },
    {
     "name": "stderr",
     "output_type": "stream",
     "text": [
      "                                                            \r"
     ]
    },
    {
     "name": "stdout",
     "output_type": "stream",
     "text": [
      "Accuracy with epsilon 0.002058823529411765: 68.75%\n"
     ]
    },
    {
     "name": "stderr",
     "output_type": "stream",
     "text": [
      "                                                            \r"
     ]
    },
    {
     "name": "stdout",
     "output_type": "stream",
     "text": [
      "Accuracy with epsilon 0.0023529411764705885: 65.62%\n"
     ]
    },
    {
     "name": "stderr",
     "output_type": "stream",
     "text": [
      "                                                            \r"
     ]
    },
    {
     "name": "stdout",
     "output_type": "stream",
     "text": [
      "Accuracy with epsilon 0.0026470588235294116: 50.00%\n"
     ]
    },
    {
     "name": "stderr",
     "output_type": "stream",
     "text": [
      "                                                            \r"
     ]
    },
    {
     "name": "stdout",
     "output_type": "stream",
     "text": [
      "Accuracy with epsilon 0.0029411764705882353: 50.00%\n"
     ]
    },
    {
     "name": "stderr",
     "output_type": "stream",
     "text": [
      "                                                            \r"
     ]
    },
    {
     "name": "stdout",
     "output_type": "stream",
     "text": [
      "Accuracy with epsilon 0.003235294117647059: 50.00%\n"
     ]
    },
    {
     "name": "stderr",
     "output_type": "stream",
     "text": [
      "                                                            \r"
     ]
    },
    {
     "name": "stdout",
     "output_type": "stream",
     "text": [
      "Accuracy with epsilon 0.003529411764705882: 43.75%\n"
     ]
    },
    {
     "name": "stderr",
     "output_type": "stream",
     "text": [
      "                                                            \r"
     ]
    },
    {
     "name": "stdout",
     "output_type": "stream",
     "text": [
      "Accuracy with epsilon 0.003823529411764706: 37.50%\n"
     ]
    },
    {
     "name": "stderr",
     "output_type": "stream",
     "text": [
      "                                                            \r"
     ]
    },
    {
     "name": "stdout",
     "output_type": "stream",
     "text": [
      "Accuracy with epsilon 0.00411764705882353: 37.50%\n"
     ]
    },
    {
     "name": "stderr",
     "output_type": "stream",
     "text": [
      "                                                            \r"
     ]
    },
    {
     "name": "stdout",
     "output_type": "stream",
     "text": [
      "Accuracy with epsilon 0.004411764705882353: 34.38%\n"
     ]
    },
    {
     "name": "stderr",
     "output_type": "stream",
     "text": [
      "                                                            \r"
     ]
    },
    {
     "name": "stdout",
     "output_type": "stream",
     "text": [
      "Accuracy with epsilon 0.004705882352941177: 34.38%\n"
     ]
    },
    {
     "name": "stderr",
     "output_type": "stream",
     "text": [
      "                                                            \r"
     ]
    },
    {
     "name": "stdout",
     "output_type": "stream",
     "text": [
      "Accuracy with epsilon 0.005: 31.25%\n",
      "Running SNP......... KD_model_2_4.pth\n",
      "\n",
      "Evaluating Salt-and-Pepper Noise with noise_percent = 0.0\n"
     ]
    },
    {
     "name": "stderr",
     "output_type": "stream",
     "text": [
      "Adding Noise (percent=0.0): 100%|██████████| 313/313 [00:09<00:00, 34.44it/s]\n"
     ]
    },
    {
     "name": "stdout",
     "output_type": "stream",
     "text": [
      "Accuracy with noise_percent=0.0: 84.22%\n",
      "\n",
      "Evaluating Salt-and-Pepper Noise with noise_percent = 0.05\n"
     ]
    },
    {
     "name": "stderr",
     "output_type": "stream",
     "text": [
      "Adding Noise (percent=0.05): 100%|██████████| 313/313 [00:11<00:00, 28.18it/s]\n"
     ]
    },
    {
     "name": "stdout",
     "output_type": "stream",
     "text": [
      "Accuracy with noise_percent=0.05: 60.04%\n",
      "\n",
      "Evaluating Salt-and-Pepper Noise with noise_percent = 0.1\n"
     ]
    },
    {
     "name": "stderr",
     "output_type": "stream",
     "text": [
      "Adding Noise (percent=0.1): 100%|██████████| 313/313 [00:13<00:00, 22.84it/s]\n"
     ]
    },
    {
     "name": "stdout",
     "output_type": "stream",
     "text": [
      "Accuracy with noise_percent=0.1: 42.48%\n",
      "\n",
      "Evaluating Salt-and-Pepper Noise with noise_percent = 0.15000000000000002\n"
     ]
    },
    {
     "name": "stderr",
     "output_type": "stream",
     "text": [
      "Adding Noise (percent=0.15000000000000002): 100%|██████████| 313/313 [00:16<00:00, 18.98it/s]\n"
     ]
    },
    {
     "name": "stdout",
     "output_type": "stream",
     "text": [
      "Accuracy with noise_percent=0.15000000000000002: 31.58%\n",
      "\n",
      "Evaluating Salt-and-Pepper Noise with noise_percent = 0.2\n"
     ]
    },
    {
     "name": "stderr",
     "output_type": "stream",
     "text": [
      "Adding Noise (percent=0.2): 100%|██████████| 313/313 [00:18<00:00, 16.49it/s]\n"
     ]
    },
    {
     "name": "stdout",
     "output_type": "stream",
     "text": [
      "Accuracy with noise_percent=0.2: 24.43%\n",
      "\n",
      "Evaluating Salt-and-Pepper Noise with noise_percent = 0.25\n"
     ]
    },
    {
     "name": "stderr",
     "output_type": "stream",
     "text": [
      "Adding Noise (percent=0.25): 100%|██████████| 313/313 [00:21<00:00, 14.68it/s]\n"
     ]
    },
    {
     "name": "stdout",
     "output_type": "stream",
     "text": [
      "Accuracy with noise_percent=0.25: 20.12%\n",
      "\n",
      "Evaluating Salt-and-Pepper Noise with noise_percent = 0.30000000000000004\n"
     ]
    },
    {
     "name": "stderr",
     "output_type": "stream",
     "text": [
      "Adding Noise (percent=0.30000000000000004): 100%|██████████| 313/313 [00:23<00:00, 13.15it/s]\n"
     ]
    },
    {
     "name": "stdout",
     "output_type": "stream",
     "text": [
      "Accuracy with noise_percent=0.30000000000000004: 17.16%\n",
      "\n",
      "Evaluating Salt-and-Pepper Noise with noise_percent = 0.35000000000000003\n"
     ]
    },
    {
     "name": "stderr",
     "output_type": "stream",
     "text": [
      "Adding Noise (percent=0.35000000000000003): 100%|██████████| 313/313 [00:26<00:00, 11.87it/s]\n"
     ]
    },
    {
     "name": "stdout",
     "output_type": "stream",
     "text": [
      "Accuracy with noise_percent=0.35000000000000003: 15.02%\n",
      "\n",
      "Evaluating Salt-and-Pepper Noise with noise_percent = 0.4\n"
     ]
    },
    {
     "name": "stderr",
     "output_type": "stream",
     "text": [
      "Adding Noise (percent=0.4): 100%|██████████| 313/313 [00:28<00:00, 10.94it/s]\n"
     ]
    },
    {
     "name": "stdout",
     "output_type": "stream",
     "text": [
      "Accuracy with noise_percent=0.4: 14.00%\n",
      "\n",
      "Evaluating Salt-and-Pepper Noise with noise_percent = 0.45\n"
     ]
    },
    {
     "name": "stderr",
     "output_type": "stream",
     "text": [
      "Adding Noise (percent=0.45): 100%|██████████| 313/313 [00:31<00:00, 10.00it/s]\n"
     ]
    },
    {
     "name": "stdout",
     "output_type": "stream",
     "text": [
      "Accuracy with noise_percent=0.45: 13.08%\n",
      "\n",
      "Evaluating Salt-and-Pepper Noise with noise_percent = 0.5\n"
     ]
    },
    {
     "name": "stderr",
     "output_type": "stream",
     "text": [
      "Adding Noise (percent=0.5): 100%|██████████| 313/313 [00:33<00:00,  9.31it/s]\n"
     ]
    },
    {
     "name": "stdout",
     "output_type": "stream",
     "text": [
      "Accuracy with noise_percent=0.5: 12.38%\n",
      "--------------------------\n",
      "Running PGD......... KD_model_3_5.pth\n"
     ]
    },
    {
     "name": "stderr",
     "output_type": "stream",
     "text": [
      "                                                            \r"
     ]
    },
    {
     "name": "stdout",
     "output_type": "stream",
     "text": [
      "Accuracy with epsilon 0.0: 84.38%\n"
     ]
    },
    {
     "name": "stderr",
     "output_type": "stream",
     "text": [
      "                                                            \r"
     ]
    },
    {
     "name": "stdout",
     "output_type": "stream",
     "text": [
      "Accuracy with epsilon 0.00029411764705882356: 87.50%\n"
     ]
    },
    {
     "name": "stderr",
     "output_type": "stream",
     "text": [
      "                                                            \r"
     ]
    },
    {
     "name": "stdout",
     "output_type": "stream",
     "text": [
      "Accuracy with epsilon 0.0005882352941176471: 87.50%\n"
     ]
    },
    {
     "name": "stderr",
     "output_type": "stream",
     "text": [
      "                                                            \r"
     ]
    },
    {
     "name": "stdout",
     "output_type": "stream",
     "text": [
      "Accuracy with epsilon 0.0008823529411764705: 87.50%\n"
     ]
    },
    {
     "name": "stderr",
     "output_type": "stream",
     "text": [
      "                                                            \r"
     ]
    },
    {
     "name": "stdout",
     "output_type": "stream",
     "text": [
      "Accuracy with epsilon 0.0011764705882352942: 87.50%\n"
     ]
    },
    {
     "name": "stderr",
     "output_type": "stream",
     "text": [
      "                                                            \r"
     ]
    },
    {
     "name": "stdout",
     "output_type": "stream",
     "text": [
      "Accuracy with epsilon 0.0014705882352941176: 84.38%\n"
     ]
    },
    {
     "name": "stderr",
     "output_type": "stream",
     "text": [
      "                                                            \r"
     ]
    },
    {
     "name": "stdout",
     "output_type": "stream",
     "text": [
      "Accuracy with epsilon 0.001764705882352941: 84.38%\n"
     ]
    },
    {
     "name": "stderr",
     "output_type": "stream",
     "text": [
      "                                                            \r"
     ]
    },
    {
     "name": "stdout",
     "output_type": "stream",
     "text": [
      "Accuracy with epsilon 0.002058823529411765: 81.25%\n"
     ]
    },
    {
     "name": "stderr",
     "output_type": "stream",
     "text": [
      "                                                            \r"
     ]
    },
    {
     "name": "stdout",
     "output_type": "stream",
     "text": [
      "Accuracy with epsilon 0.0023529411764705885: 75.00%\n"
     ]
    },
    {
     "name": "stderr",
     "output_type": "stream",
     "text": [
      "                                                            \r"
     ]
    },
    {
     "name": "stdout",
     "output_type": "stream",
     "text": [
      "Accuracy with epsilon 0.0026470588235294116: 68.75%\n"
     ]
    },
    {
     "name": "stderr",
     "output_type": "stream",
     "text": [
      "                                                            \r"
     ]
    },
    {
     "name": "stdout",
     "output_type": "stream",
     "text": [
      "Accuracy with epsilon 0.0029411764705882353: 62.50%\n"
     ]
    },
    {
     "name": "stderr",
     "output_type": "stream",
     "text": [
      "                                                            \r"
     ]
    },
    {
     "name": "stdout",
     "output_type": "stream",
     "text": [
      "Accuracy with epsilon 0.003235294117647059: 59.38%\n"
     ]
    },
    {
     "name": "stderr",
     "output_type": "stream",
     "text": [
      "                                                            \r"
     ]
    },
    {
     "name": "stdout",
     "output_type": "stream",
     "text": [
      "Accuracy with epsilon 0.003529411764705882: 53.12%\n"
     ]
    },
    {
     "name": "stderr",
     "output_type": "stream",
     "text": [
      "                                                            \r"
     ]
    },
    {
     "name": "stdout",
     "output_type": "stream",
     "text": [
      "Accuracy with epsilon 0.003823529411764706: 53.12%\n"
     ]
    },
    {
     "name": "stderr",
     "output_type": "stream",
     "text": [
      "                                                            \r"
     ]
    },
    {
     "name": "stdout",
     "output_type": "stream",
     "text": [
      "Accuracy with epsilon 0.00411764705882353: 50.00%\n"
     ]
    },
    {
     "name": "stderr",
     "output_type": "stream",
     "text": [
      "                                                            \r"
     ]
    },
    {
     "name": "stdout",
     "output_type": "stream",
     "text": [
      "Accuracy with epsilon 0.004411764705882353: 43.75%\n"
     ]
    },
    {
     "name": "stderr",
     "output_type": "stream",
     "text": [
      "                                                            \r"
     ]
    },
    {
     "name": "stdout",
     "output_type": "stream",
     "text": [
      "Accuracy with epsilon 0.004705882352941177: 43.75%\n"
     ]
    },
    {
     "name": "stderr",
     "output_type": "stream",
     "text": [
      "                                                            \r"
     ]
    },
    {
     "name": "stdout",
     "output_type": "stream",
     "text": [
      "Accuracy with epsilon 0.005: 40.62%\n",
      "Running SNP......... KD_model_3_5.pth\n",
      "\n",
      "Evaluating Salt-and-Pepper Noise with noise_percent = 0.0\n"
     ]
    },
    {
     "name": "stderr",
     "output_type": "stream",
     "text": [
      "Adding Noise (percent=0.0): 100%|██████████| 313/313 [00:09<00:00, 34.44it/s]\n"
     ]
    },
    {
     "name": "stdout",
     "output_type": "stream",
     "text": [
      "Accuracy with noise_percent=0.0: 85.19%\n",
      "\n",
      "Evaluating Salt-and-Pepper Noise with noise_percent = 0.05\n"
     ]
    },
    {
     "name": "stderr",
     "output_type": "stream",
     "text": [
      "Adding Noise (percent=0.05): 100%|██████████| 313/313 [00:11<00:00, 28.39it/s]\n"
     ]
    },
    {
     "name": "stdout",
     "output_type": "stream",
     "text": [
      "Accuracy with noise_percent=0.05: 63.16%\n",
      "\n",
      "Evaluating Salt-and-Pepper Noise with noise_percent = 0.1\n"
     ]
    },
    {
     "name": "stderr",
     "output_type": "stream",
     "text": [
      "Adding Noise (percent=0.1): 100%|██████████| 313/313 [00:13<00:00, 22.99it/s]\n"
     ]
    },
    {
     "name": "stdout",
     "output_type": "stream",
     "text": [
      "Accuracy with noise_percent=0.1: 46.46%\n",
      "\n",
      "Evaluating Salt-and-Pepper Noise with noise_percent = 0.15000000000000002\n"
     ]
    },
    {
     "name": "stderr",
     "output_type": "stream",
     "text": [
      "Adding Noise (percent=0.15000000000000002): 100%|██████████| 313/313 [00:16<00:00, 19.03it/s]\n"
     ]
    },
    {
     "name": "stdout",
     "output_type": "stream",
     "text": [
      "Accuracy with noise_percent=0.15000000000000002: 35.25%\n",
      "\n",
      "Evaluating Salt-and-Pepper Noise with noise_percent = 0.2\n"
     ]
    },
    {
     "name": "stderr",
     "output_type": "stream",
     "text": [
      "Adding Noise (percent=0.2): 100%|██████████| 313/313 [00:18<00:00, 16.56it/s]\n"
     ]
    },
    {
     "name": "stdout",
     "output_type": "stream",
     "text": [
      "Accuracy with noise_percent=0.2: 28.53%\n",
      "\n",
      "Evaluating Salt-and-Pepper Noise with noise_percent = 0.25\n"
     ]
    },
    {
     "name": "stderr",
     "output_type": "stream",
     "text": [
      "Adding Noise (percent=0.25): 100%|██████████| 313/313 [00:21<00:00, 14.68it/s]\n"
     ]
    },
    {
     "name": "stdout",
     "output_type": "stream",
     "text": [
      "Accuracy with noise_percent=0.25: 23.87%\n",
      "\n",
      "Evaluating Salt-and-Pepper Noise with noise_percent = 0.30000000000000004\n"
     ]
    },
    {
     "name": "stderr",
     "output_type": "stream",
     "text": [
      "Adding Noise (percent=0.30000000000000004): 100%|██████████| 313/313 [00:23<00:00, 13.16it/s]\n"
     ]
    },
    {
     "name": "stdout",
     "output_type": "stream",
     "text": [
      "Accuracy with noise_percent=0.30000000000000004: 20.71%\n",
      "\n",
      "Evaluating Salt-and-Pepper Noise with noise_percent = 0.35000000000000003\n"
     ]
    },
    {
     "name": "stderr",
     "output_type": "stream",
     "text": [
      "Adding Noise (percent=0.35000000000000003): 100%|██████████| 313/313 [00:26<00:00, 11.84it/s]\n"
     ]
    },
    {
     "name": "stdout",
     "output_type": "stream",
     "text": [
      "Accuracy with noise_percent=0.35000000000000003: 19.08%\n",
      "\n",
      "Evaluating Salt-and-Pepper Noise with noise_percent = 0.4\n"
     ]
    },
    {
     "name": "stderr",
     "output_type": "stream",
     "text": [
      "Adding Noise (percent=0.4): 100%|██████████| 313/313 [00:28<00:00, 10.87it/s]\n"
     ]
    },
    {
     "name": "stdout",
     "output_type": "stream",
     "text": [
      "Accuracy with noise_percent=0.4: 17.62%\n",
      "\n",
      "Evaluating Salt-and-Pepper Noise with noise_percent = 0.45\n"
     ]
    },
    {
     "name": "stderr",
     "output_type": "stream",
     "text": [
      "Adding Noise (percent=0.45): 100%|██████████| 313/313 [00:31<00:00, 10.09it/s]\n"
     ]
    },
    {
     "name": "stdout",
     "output_type": "stream",
     "text": [
      "Accuracy with noise_percent=0.45: 16.85%\n",
      "\n",
      "Evaluating Salt-and-Pepper Noise with noise_percent = 0.5\n"
     ]
    },
    {
     "name": "stderr",
     "output_type": "stream",
     "text": [
      "Adding Noise (percent=0.5): 100%|██████████| 313/313 [00:33<00:00,  9.35it/s]\n"
     ]
    },
    {
     "name": "stdout",
     "output_type": "stream",
     "text": [
      "Accuracy with noise_percent=0.5: 16.15%\n",
      "--------------------------\n",
      "Running PGD......... KD_model_3_6.pth\n"
     ]
    },
    {
     "name": "stderr",
     "output_type": "stream",
     "text": [
      "                                                            \r"
     ]
    },
    {
     "name": "stdout",
     "output_type": "stream",
     "text": [
      "Accuracy with epsilon 0.0: 96.88%\n"
     ]
    },
    {
     "name": "stderr",
     "output_type": "stream",
     "text": [
      "                                                            \r"
     ]
    },
    {
     "name": "stdout",
     "output_type": "stream",
     "text": [
      "Accuracy with epsilon 0.00029411764705882356: 90.62%\n"
     ]
    },
    {
     "name": "stderr",
     "output_type": "stream",
     "text": [
      "                                                            \r"
     ]
    },
    {
     "name": "stdout",
     "output_type": "stream",
     "text": [
      "Accuracy with epsilon 0.0005882352941176471: 81.25%\n"
     ]
    },
    {
     "name": "stderr",
     "output_type": "stream",
     "text": [
      "                                                            \r"
     ]
    },
    {
     "name": "stdout",
     "output_type": "stream",
     "text": [
      "Accuracy with epsilon 0.0008823529411764705: 78.12%\n"
     ]
    },
    {
     "name": "stderr",
     "output_type": "stream",
     "text": [
      "                                                            \r"
     ]
    },
    {
     "name": "stdout",
     "output_type": "stream",
     "text": [
      "Accuracy with epsilon 0.0011764705882352942: 75.00%\n"
     ]
    },
    {
     "name": "stderr",
     "output_type": "stream",
     "text": [
      "                                                            \r"
     ]
    },
    {
     "name": "stdout",
     "output_type": "stream",
     "text": [
      "Accuracy with epsilon 0.0014705882352941176: 71.88%\n"
     ]
    },
    {
     "name": "stderr",
     "output_type": "stream",
     "text": [
      "                                                            \r"
     ]
    },
    {
     "name": "stdout",
     "output_type": "stream",
     "text": [
      "Accuracy with epsilon 0.001764705882352941: 68.75%\n"
     ]
    },
    {
     "name": "stderr",
     "output_type": "stream",
     "text": [
      "                                                            \r"
     ]
    },
    {
     "name": "stdout",
     "output_type": "stream",
     "text": [
      "Accuracy with epsilon 0.002058823529411765: 62.50%\n"
     ]
    },
    {
     "name": "stderr",
     "output_type": "stream",
     "text": [
      "                                                            \r"
     ]
    },
    {
     "name": "stdout",
     "output_type": "stream",
     "text": [
      "Accuracy with epsilon 0.0023529411764705885: 59.38%\n"
     ]
    },
    {
     "name": "stderr",
     "output_type": "stream",
     "text": [
      "                                                            \r"
     ]
    },
    {
     "name": "stdout",
     "output_type": "stream",
     "text": [
      "Accuracy with epsilon 0.0026470588235294116: 56.25%\n"
     ]
    },
    {
     "name": "stderr",
     "output_type": "stream",
     "text": [
      "                                                            \r"
     ]
    },
    {
     "name": "stdout",
     "output_type": "stream",
     "text": [
      "Accuracy with epsilon 0.0029411764705882353: 50.00%\n"
     ]
    },
    {
     "name": "stderr",
     "output_type": "stream",
     "text": [
      "                                                            \r"
     ]
    },
    {
     "name": "stdout",
     "output_type": "stream",
     "text": [
      "Accuracy with epsilon 0.003235294117647059: 46.88%\n"
     ]
    },
    {
     "name": "stderr",
     "output_type": "stream",
     "text": [
      "                                                            \r"
     ]
    },
    {
     "name": "stdout",
     "output_type": "stream",
     "text": [
      "Accuracy with epsilon 0.003529411764705882: 43.75%\n"
     ]
    },
    {
     "name": "stderr",
     "output_type": "stream",
     "text": [
      "                                                            \r"
     ]
    },
    {
     "name": "stdout",
     "output_type": "stream",
     "text": [
      "Accuracy with epsilon 0.003823529411764706: 37.50%\n"
     ]
    },
    {
     "name": "stderr",
     "output_type": "stream",
     "text": [
      "                                                            \r"
     ]
    },
    {
     "name": "stdout",
     "output_type": "stream",
     "text": [
      "Accuracy with epsilon 0.00411764705882353: 37.50%\n"
     ]
    },
    {
     "name": "stderr",
     "output_type": "stream",
     "text": [
      "                                                            \r"
     ]
    },
    {
     "name": "stdout",
     "output_type": "stream",
     "text": [
      "Accuracy with epsilon 0.004411764705882353: 31.25%\n"
     ]
    },
    {
     "name": "stderr",
     "output_type": "stream",
     "text": [
      "                                                            \r"
     ]
    },
    {
     "name": "stdout",
     "output_type": "stream",
     "text": [
      "Accuracy with epsilon 0.004705882352941177: 28.12%\n"
     ]
    },
    {
     "name": "stderr",
     "output_type": "stream",
     "text": [
      "                                                            \r"
     ]
    },
    {
     "name": "stdout",
     "output_type": "stream",
     "text": [
      "Accuracy with epsilon 0.005: 31.25%\n",
      "Running SNP......... KD_model_3_6.pth\n",
      "\n",
      "Evaluating Salt-and-Pepper Noise with noise_percent = 0.0\n"
     ]
    },
    {
     "name": "stderr",
     "output_type": "stream",
     "text": [
      "Adding Noise (percent=0.0): 100%|██████████| 313/313 [00:09<00:00, 34.64it/s]\n"
     ]
    },
    {
     "name": "stdout",
     "output_type": "stream",
     "text": [
      "Accuracy with noise_percent=0.0: 85.14%\n",
      "\n",
      "Evaluating Salt-and-Pepper Noise with noise_percent = 0.05\n"
     ]
    },
    {
     "name": "stderr",
     "output_type": "stream",
     "text": [
      "Adding Noise (percent=0.05): 100%|██████████| 313/313 [00:11<00:00, 28.39it/s]\n"
     ]
    },
    {
     "name": "stdout",
     "output_type": "stream",
     "text": [
      "Accuracy with noise_percent=0.05: 64.24%\n",
      "\n",
      "Evaluating Salt-and-Pepper Noise with noise_percent = 0.1\n"
     ]
    },
    {
     "name": "stderr",
     "output_type": "stream",
     "text": [
      "Adding Noise (percent=0.1): 100%|██████████| 313/313 [00:13<00:00, 23.01it/s]\n"
     ]
    },
    {
     "name": "stdout",
     "output_type": "stream",
     "text": [
      "Accuracy with noise_percent=0.1: 46.85%\n",
      "\n",
      "Evaluating Salt-and-Pepper Noise with noise_percent = 0.15000000000000002\n"
     ]
    },
    {
     "name": "stderr",
     "output_type": "stream",
     "text": [
      "Adding Noise (percent=0.15000000000000002): 100%|██████████| 313/313 [00:16<00:00, 18.96it/s]\n"
     ]
    },
    {
     "name": "stdout",
     "output_type": "stream",
     "text": [
      "Accuracy with noise_percent=0.15000000000000002: 34.48%\n",
      "\n",
      "Evaluating Salt-and-Pepper Noise with noise_percent = 0.2\n"
     ]
    },
    {
     "name": "stderr",
     "output_type": "stream",
     "text": [
      "Adding Noise (percent=0.2): 100%|██████████| 313/313 [00:18<00:00, 16.50it/s]\n"
     ]
    },
    {
     "name": "stdout",
     "output_type": "stream",
     "text": [
      "Accuracy with noise_percent=0.2: 26.86%\n",
      "\n",
      "Evaluating Salt-and-Pepper Noise with noise_percent = 0.25\n"
     ]
    },
    {
     "name": "stderr",
     "output_type": "stream",
     "text": [
      "Adding Noise (percent=0.25): 100%|██████████| 313/313 [00:21<00:00, 14.55it/s]\n"
     ]
    },
    {
     "name": "stdout",
     "output_type": "stream",
     "text": [
      "Accuracy with noise_percent=0.25: 22.39%\n",
      "\n",
      "Evaluating Salt-and-Pepper Noise with noise_percent = 0.30000000000000004\n"
     ]
    },
    {
     "name": "stderr",
     "output_type": "stream",
     "text": [
      "Adding Noise (percent=0.30000000000000004): 100%|██████████| 313/313 [00:23<00:00, 13.11it/s]\n"
     ]
    },
    {
     "name": "stdout",
     "output_type": "stream",
     "text": [
      "Accuracy with noise_percent=0.30000000000000004: 19.77%\n",
      "\n",
      "Evaluating Salt-and-Pepper Noise with noise_percent = 0.35000000000000003\n"
     ]
    },
    {
     "name": "stderr",
     "output_type": "stream",
     "text": [
      "Adding Noise (percent=0.35000000000000003): 100%|██████████| 313/313 [00:26<00:00, 11.89it/s]\n"
     ]
    },
    {
     "name": "stdout",
     "output_type": "stream",
     "text": [
      "Accuracy with noise_percent=0.35000000000000003: 18.07%\n",
      "\n",
      "Evaluating Salt-and-Pepper Noise with noise_percent = 0.4\n"
     ]
    },
    {
     "name": "stderr",
     "output_type": "stream",
     "text": [
      "Adding Noise (percent=0.4): 100%|██████████| 313/313 [00:28<00:00, 10.92it/s]\n"
     ]
    },
    {
     "name": "stdout",
     "output_type": "stream",
     "text": [
      "Accuracy with noise_percent=0.4: 16.61%\n",
      "\n",
      "Evaluating Salt-and-Pepper Noise with noise_percent = 0.45\n"
     ]
    },
    {
     "name": "stderr",
     "output_type": "stream",
     "text": [
      "Adding Noise (percent=0.45): 100%|██████████| 313/313 [00:31<00:00, 10.08it/s]\n"
     ]
    },
    {
     "name": "stdout",
     "output_type": "stream",
     "text": [
      "Accuracy with noise_percent=0.45: 15.80%\n",
      "\n",
      "Evaluating Salt-and-Pepper Noise with noise_percent = 0.5\n"
     ]
    },
    {
     "name": "stderr",
     "output_type": "stream",
     "text": [
      "Adding Noise (percent=0.5): 100%|██████████| 313/313 [00:33<00:00,  9.40it/s]\n"
     ]
    },
    {
     "name": "stdout",
     "output_type": "stream",
     "text": [
      "Accuracy with noise_percent=0.5: 15.13%\n",
      "--------------------------\n",
      "Running PGD......... KD_model_3_7.pth\n"
     ]
    },
    {
     "name": "stderr",
     "output_type": "stream",
     "text": [
      "                                                            \r"
     ]
    },
    {
     "name": "stdout",
     "output_type": "stream",
     "text": [
      "Accuracy with epsilon 0.0: 93.75%\n"
     ]
    },
    {
     "name": "stderr",
     "output_type": "stream",
     "text": [
      "                                                            \r"
     ]
    },
    {
     "name": "stdout",
     "output_type": "stream",
     "text": [
      "Accuracy with epsilon 0.00029411764705882356: 93.75%\n"
     ]
    },
    {
     "name": "stderr",
     "output_type": "stream",
     "text": [
      "                                                            \r"
     ]
    },
    {
     "name": "stdout",
     "output_type": "stream",
     "text": [
      "Accuracy with epsilon 0.0005882352941176471: 90.62%\n"
     ]
    },
    {
     "name": "stderr",
     "output_type": "stream",
     "text": [
      "                                                            \r"
     ]
    },
    {
     "name": "stdout",
     "output_type": "stream",
     "text": [
      "Accuracy with epsilon 0.0008823529411764705: 84.38%\n"
     ]
    },
    {
     "name": "stderr",
     "output_type": "stream",
     "text": [
      "                                                            \r"
     ]
    },
    {
     "name": "stdout",
     "output_type": "stream",
     "text": [
      "Accuracy with epsilon 0.0011764705882352942: 84.38%\n"
     ]
    },
    {
     "name": "stderr",
     "output_type": "stream",
     "text": [
      "                                                            \r"
     ]
    },
    {
     "name": "stdout",
     "output_type": "stream",
     "text": [
      "Accuracy with epsilon 0.0014705882352941176: 78.12%\n"
     ]
    },
    {
     "name": "stderr",
     "output_type": "stream",
     "text": [
      "                                                            \r"
     ]
    },
    {
     "name": "stdout",
     "output_type": "stream",
     "text": [
      "Accuracy with epsilon 0.001764705882352941: 68.75%\n"
     ]
    },
    {
     "name": "stderr",
     "output_type": "stream",
     "text": [
      "                                                            \r"
     ]
    },
    {
     "name": "stdout",
     "output_type": "stream",
     "text": [
      "Accuracy with epsilon 0.002058823529411765: 62.50%\n"
     ]
    },
    {
     "name": "stderr",
     "output_type": "stream",
     "text": [
      "                                                            \r"
     ]
    },
    {
     "name": "stdout",
     "output_type": "stream",
     "text": [
      "Accuracy with epsilon 0.0023529411764705885: 56.25%\n"
     ]
    },
    {
     "name": "stderr",
     "output_type": "stream",
     "text": [
      "                                                            \r"
     ]
    },
    {
     "name": "stdout",
     "output_type": "stream",
     "text": [
      "Accuracy with epsilon 0.0026470588235294116: 56.25%\n"
     ]
    },
    {
     "name": "stderr",
     "output_type": "stream",
     "text": [
      "                                                            \r"
     ]
    },
    {
     "name": "stdout",
     "output_type": "stream",
     "text": [
      "Accuracy with epsilon 0.0029411764705882353: 50.00%\n"
     ]
    },
    {
     "name": "stderr",
     "output_type": "stream",
     "text": [
      "                                                            \r"
     ]
    },
    {
     "name": "stdout",
     "output_type": "stream",
     "text": [
      "Accuracy with epsilon 0.003235294117647059: 43.75%\n"
     ]
    },
    {
     "name": "stderr",
     "output_type": "stream",
     "text": [
      "                                                            \r"
     ]
    },
    {
     "name": "stdout",
     "output_type": "stream",
     "text": [
      "Accuracy with epsilon 0.003529411764705882: 40.62%\n"
     ]
    },
    {
     "name": "stderr",
     "output_type": "stream",
     "text": [
      "                                                            \r"
     ]
    },
    {
     "name": "stdout",
     "output_type": "stream",
     "text": [
      "Accuracy with epsilon 0.003823529411764706: 37.50%\n"
     ]
    },
    {
     "name": "stderr",
     "output_type": "stream",
     "text": [
      "                                                            \r"
     ]
    },
    {
     "name": "stdout",
     "output_type": "stream",
     "text": [
      "Accuracy with epsilon 0.00411764705882353: 37.50%\n"
     ]
    },
    {
     "name": "stderr",
     "output_type": "stream",
     "text": [
      "                                                            \r"
     ]
    },
    {
     "name": "stdout",
     "output_type": "stream",
     "text": [
      "Accuracy with epsilon 0.004411764705882353: 31.25%\n"
     ]
    },
    {
     "name": "stderr",
     "output_type": "stream",
     "text": [
      "                                                            \r"
     ]
    },
    {
     "name": "stdout",
     "output_type": "stream",
     "text": [
      "Accuracy with epsilon 0.004705882352941177: 31.25%\n"
     ]
    },
    {
     "name": "stderr",
     "output_type": "stream",
     "text": [
      "                                                            \r"
     ]
    },
    {
     "name": "stdout",
     "output_type": "stream",
     "text": [
      "Accuracy with epsilon 0.005: 31.25%\n",
      "Running SNP......... KD_model_3_7.pth\n",
      "\n",
      "Evaluating Salt-and-Pepper Noise with noise_percent = 0.0\n"
     ]
    },
    {
     "name": "stderr",
     "output_type": "stream",
     "text": [
      "Adding Noise (percent=0.0): 100%|██████████| 313/313 [00:09<00:00, 34.46it/s]\n"
     ]
    },
    {
     "name": "stdout",
     "output_type": "stream",
     "text": [
      "Accuracy with noise_percent=0.0: 85.72%\n",
      "\n",
      "Evaluating Salt-and-Pepper Noise with noise_percent = 0.05\n"
     ]
    },
    {
     "name": "stderr",
     "output_type": "stream",
     "text": [
      "Adding Noise (percent=0.05): 100%|██████████| 313/313 [00:11<00:00, 28.34it/s]\n"
     ]
    },
    {
     "name": "stdout",
     "output_type": "stream",
     "text": [
      "Accuracy with noise_percent=0.05: 57.15%\n",
      "\n",
      "Evaluating Salt-and-Pepper Noise with noise_percent = 0.1\n"
     ]
    },
    {
     "name": "stderr",
     "output_type": "stream",
     "text": [
      "Adding Noise (percent=0.1): 100%|██████████| 313/313 [00:13<00:00, 22.88it/s]\n"
     ]
    },
    {
     "name": "stdout",
     "output_type": "stream",
     "text": [
      "Accuracy with noise_percent=0.1: 38.36%\n",
      "\n",
      "Evaluating Salt-and-Pepper Noise with noise_percent = 0.15000000000000002\n"
     ]
    },
    {
     "name": "stderr",
     "output_type": "stream",
     "text": [
      "Adding Noise (percent=0.15000000000000002): 100%|██████████| 313/313 [00:16<00:00, 19.04it/s]\n"
     ]
    },
    {
     "name": "stdout",
     "output_type": "stream",
     "text": [
      "Accuracy with noise_percent=0.15000000000000002: 29.14%\n",
      "\n",
      "Evaluating Salt-and-Pepper Noise with noise_percent = 0.2\n"
     ]
    },
    {
     "name": "stderr",
     "output_type": "stream",
     "text": [
      "Adding Noise (percent=0.2): 100%|██████████| 313/313 [00:19<00:00, 16.43it/s]\n"
     ]
    },
    {
     "name": "stdout",
     "output_type": "stream",
     "text": [
      "Accuracy with noise_percent=0.2: 23.60%\n",
      "\n",
      "Evaluating Salt-and-Pepper Noise with noise_percent = 0.25\n"
     ]
    },
    {
     "name": "stderr",
     "output_type": "stream",
     "text": [
      "Adding Noise (percent=0.25): 100%|██████████| 313/313 [00:21<00:00, 14.56it/s]\n"
     ]
    },
    {
     "name": "stdout",
     "output_type": "stream",
     "text": [
      "Accuracy with noise_percent=0.25: 20.34%\n",
      "\n",
      "Evaluating Salt-and-Pepper Noise with noise_percent = 0.30000000000000004\n"
     ]
    },
    {
     "name": "stderr",
     "output_type": "stream",
     "text": [
      "Adding Noise (percent=0.30000000000000004): 100%|██████████| 313/313 [00:23<00:00, 13.09it/s]\n"
     ]
    },
    {
     "name": "stdout",
     "output_type": "stream",
     "text": [
      "Accuracy with noise_percent=0.30000000000000004: 18.46%\n",
      "\n",
      "Evaluating Salt-and-Pepper Noise with noise_percent = 0.35000000000000003\n"
     ]
    },
    {
     "name": "stderr",
     "output_type": "stream",
     "text": [
      "Adding Noise (percent=0.35000000000000003): 100%|██████████| 313/313 [00:26<00:00, 11.86it/s]\n"
     ]
    },
    {
     "name": "stdout",
     "output_type": "stream",
     "text": [
      "Accuracy with noise_percent=0.35000000000000003: 17.57%\n",
      "\n",
      "Evaluating Salt-and-Pepper Noise with noise_percent = 0.4\n"
     ]
    },
    {
     "name": "stderr",
     "output_type": "stream",
     "text": [
      "Adding Noise (percent=0.4): 100%|██████████| 313/313 [00:28<00:00, 10.87it/s]\n"
     ]
    },
    {
     "name": "stdout",
     "output_type": "stream",
     "text": [
      "Accuracy with noise_percent=0.4: 16.59%\n",
      "\n",
      "Evaluating Salt-and-Pepper Noise with noise_percent = 0.45\n"
     ]
    },
    {
     "name": "stderr",
     "output_type": "stream",
     "text": [
      "Adding Noise (percent=0.45): 100%|██████████| 313/313 [00:30<00:00, 10.15it/s]\n"
     ]
    },
    {
     "name": "stdout",
     "output_type": "stream",
     "text": [
      "Accuracy with noise_percent=0.45: 16.11%\n",
      "\n",
      "Evaluating Salt-and-Pepper Noise with noise_percent = 0.5\n"
     ]
    },
    {
     "name": "stderr",
     "output_type": "stream",
     "text": [
      "Adding Noise (percent=0.5): 100%|██████████| 313/313 [00:33<00:00,  9.42it/s]\n"
     ]
    },
    {
     "name": "stdout",
     "output_type": "stream",
     "text": [
      "Accuracy with noise_percent=0.5: 15.19%\n",
      "--------------------------\n",
      "Running PGD......... KD_model_3_8.pth\n"
     ]
    },
    {
     "name": "stderr",
     "output_type": "stream",
     "text": [
      "                                                            \r"
     ]
    },
    {
     "name": "stdout",
     "output_type": "stream",
     "text": [
      "Accuracy with epsilon 0.0: 96.88%\n"
     ]
    },
    {
     "name": "stderr",
     "output_type": "stream",
     "text": [
      "                                                            \r"
     ]
    },
    {
     "name": "stdout",
     "output_type": "stream",
     "text": [
      "Accuracy with epsilon 0.00029411764705882356: 100.00%\n"
     ]
    },
    {
     "name": "stderr",
     "output_type": "stream",
     "text": [
      "                                                            \r"
     ]
    },
    {
     "name": "stdout",
     "output_type": "stream",
     "text": [
      "Accuracy with epsilon 0.0005882352941176471: 93.75%\n"
     ]
    },
    {
     "name": "stderr",
     "output_type": "stream",
     "text": [
      "                                                            \r"
     ]
    },
    {
     "name": "stdout",
     "output_type": "stream",
     "text": [
      "Accuracy with epsilon 0.0008823529411764705: 90.62%\n"
     ]
    },
    {
     "name": "stderr",
     "output_type": "stream",
     "text": [
      "                                                            \r"
     ]
    },
    {
     "name": "stdout",
     "output_type": "stream",
     "text": [
      "Accuracy with epsilon 0.0011764705882352942: 87.50%\n"
     ]
    },
    {
     "name": "stderr",
     "output_type": "stream",
     "text": [
      "                                                            \r"
     ]
    },
    {
     "name": "stdout",
     "output_type": "stream",
     "text": [
      "Accuracy with epsilon 0.0014705882352941176: 84.38%\n"
     ]
    },
    {
     "name": "stderr",
     "output_type": "stream",
     "text": [
      "                                                            \r"
     ]
    },
    {
     "name": "stdout",
     "output_type": "stream",
     "text": [
      "Accuracy with epsilon 0.001764705882352941: 81.25%\n"
     ]
    },
    {
     "name": "stderr",
     "output_type": "stream",
     "text": [
      "                                                            \r"
     ]
    },
    {
     "name": "stdout",
     "output_type": "stream",
     "text": [
      "Accuracy with epsilon 0.002058823529411765: 75.00%\n"
     ]
    },
    {
     "name": "stderr",
     "output_type": "stream",
     "text": [
      "                                                            \r"
     ]
    },
    {
     "name": "stdout",
     "output_type": "stream",
     "text": [
      "Accuracy with epsilon 0.0023529411764705885: 68.75%\n"
     ]
    },
    {
     "name": "stderr",
     "output_type": "stream",
     "text": [
      "                                                            \r"
     ]
    },
    {
     "name": "stdout",
     "output_type": "stream",
     "text": [
      "Accuracy with epsilon 0.0026470588235294116: 59.38%\n"
     ]
    },
    {
     "name": "stderr",
     "output_type": "stream",
     "text": [
      "                                                            \r"
     ]
    },
    {
     "name": "stdout",
     "output_type": "stream",
     "text": [
      "Accuracy with epsilon 0.0029411764705882353: 59.38%\n"
     ]
    },
    {
     "name": "stderr",
     "output_type": "stream",
     "text": [
      "                                                            \r"
     ]
    },
    {
     "name": "stdout",
     "output_type": "stream",
     "text": [
      "Accuracy with epsilon 0.003235294117647059: 56.25%\n"
     ]
    },
    {
     "name": "stderr",
     "output_type": "stream",
     "text": [
      "                                                            \r"
     ]
    },
    {
     "name": "stdout",
     "output_type": "stream",
     "text": [
      "Accuracy with epsilon 0.003529411764705882: 53.12%\n"
     ]
    },
    {
     "name": "stderr",
     "output_type": "stream",
     "text": [
      "                                                            \r"
     ]
    },
    {
     "name": "stdout",
     "output_type": "stream",
     "text": [
      "Accuracy with epsilon 0.003823529411764706: 50.00%\n"
     ]
    },
    {
     "name": "stderr",
     "output_type": "stream",
     "text": [
      "                                                            \r"
     ]
    },
    {
     "name": "stdout",
     "output_type": "stream",
     "text": [
      "Accuracy with epsilon 0.00411764705882353: 43.75%\n"
     ]
    },
    {
     "name": "stderr",
     "output_type": "stream",
     "text": [
      "                                                            \r"
     ]
    },
    {
     "name": "stdout",
     "output_type": "stream",
     "text": [
      "Accuracy with epsilon 0.004411764705882353: 43.75%\n"
     ]
    },
    {
     "name": "stderr",
     "output_type": "stream",
     "text": [
      "                                                            \r"
     ]
    },
    {
     "name": "stdout",
     "output_type": "stream",
     "text": [
      "Accuracy with epsilon 0.004705882352941177: 40.62%\n"
     ]
    },
    {
     "name": "stderr",
     "output_type": "stream",
     "text": [
      "                                                            \r"
     ]
    },
    {
     "name": "stdout",
     "output_type": "stream",
     "text": [
      "Accuracy with epsilon 0.005: 34.38%\n",
      "Running SNP......... KD_model_3_8.pth\n",
      "\n",
      "Evaluating Salt-and-Pepper Noise with noise_percent = 0.0\n"
     ]
    },
    {
     "name": "stderr",
     "output_type": "stream",
     "text": [
      "Adding Noise (percent=0.0): 100%|██████████| 313/313 [00:09<00:00, 34.40it/s]\n"
     ]
    },
    {
     "name": "stdout",
     "output_type": "stream",
     "text": [
      "Accuracy with noise_percent=0.0: 85.12%\n",
      "\n",
      "Evaluating Salt-and-Pepper Noise with noise_percent = 0.05\n"
     ]
    },
    {
     "name": "stderr",
     "output_type": "stream",
     "text": [
      "Adding Noise (percent=0.05): 100%|██████████| 313/313 [00:11<00:00, 28.20it/s]\n"
     ]
    },
    {
     "name": "stdout",
     "output_type": "stream",
     "text": [
      "Accuracy with noise_percent=0.05: 66.93%\n",
      "\n",
      "Evaluating Salt-and-Pepper Noise with noise_percent = 0.1\n"
     ]
    },
    {
     "name": "stderr",
     "output_type": "stream",
     "text": [
      "Adding Noise (percent=0.1): 100%|██████████| 313/313 [00:13<00:00, 23.06it/s]\n"
     ]
    },
    {
     "name": "stdout",
     "output_type": "stream",
     "text": [
      "Accuracy with noise_percent=0.1: 54.25%\n",
      "\n",
      "Evaluating Salt-and-Pepper Noise with noise_percent = 0.15000000000000002\n"
     ]
    },
    {
     "name": "stderr",
     "output_type": "stream",
     "text": [
      "Adding Noise (percent=0.15000000000000002): 100%|██████████| 313/313 [00:16<00:00, 19.03it/s]\n"
     ]
    },
    {
     "name": "stdout",
     "output_type": "stream",
     "text": [
      "Accuracy with noise_percent=0.15000000000000002: 45.65%\n",
      "\n",
      "Evaluating Salt-and-Pepper Noise with noise_percent = 0.2\n"
     ]
    },
    {
     "name": "stderr",
     "output_type": "stream",
     "text": [
      "Adding Noise (percent=0.2): 100%|██████████| 313/313 [00:19<00:00, 16.36it/s]\n"
     ]
    },
    {
     "name": "stdout",
     "output_type": "stream",
     "text": [
      "Accuracy with noise_percent=0.2: 38.84%\n",
      "\n",
      "Evaluating Salt-and-Pepper Noise with noise_percent = 0.25\n"
     ]
    },
    {
     "name": "stderr",
     "output_type": "stream",
     "text": [
      "Adding Noise (percent=0.25): 100%|██████████| 313/313 [00:21<00:00, 14.59it/s]\n"
     ]
    },
    {
     "name": "stdout",
     "output_type": "stream",
     "text": [
      "Accuracy with noise_percent=0.25: 34.61%\n",
      "\n",
      "Evaluating Salt-and-Pepper Noise with noise_percent = 0.30000000000000004\n"
     ]
    },
    {
     "name": "stderr",
     "output_type": "stream",
     "text": [
      "Adding Noise (percent=0.30000000000000004): 100%|██████████| 313/313 [00:23<00:00, 13.14it/s]\n"
     ]
    },
    {
     "name": "stdout",
     "output_type": "stream",
     "text": [
      "Accuracy with noise_percent=0.30000000000000004: 31.36%\n",
      "\n",
      "Evaluating Salt-and-Pepper Noise with noise_percent = 0.35000000000000003\n"
     ]
    },
    {
     "name": "stderr",
     "output_type": "stream",
     "text": [
      "Adding Noise (percent=0.35000000000000003): 100%|██████████| 313/313 [00:26<00:00, 11.83it/s]\n"
     ]
    },
    {
     "name": "stdout",
     "output_type": "stream",
     "text": [
      "Accuracy with noise_percent=0.35000000000000003: 28.81%\n",
      "\n",
      "Evaluating Salt-and-Pepper Noise with noise_percent = 0.4\n"
     ]
    },
    {
     "name": "stderr",
     "output_type": "stream",
     "text": [
      "Adding Noise (percent=0.4): 100%|██████████| 313/313 [00:28<00:00, 10.96it/s]\n"
     ]
    },
    {
     "name": "stdout",
     "output_type": "stream",
     "text": [
      "Accuracy with noise_percent=0.4: 27.21%\n",
      "\n",
      "Evaluating Salt-and-Pepper Noise with noise_percent = 0.45\n"
     ]
    },
    {
     "name": "stderr",
     "output_type": "stream",
     "text": [
      "Adding Noise (percent=0.45): 100%|██████████| 313/313 [00:30<00:00, 10.15it/s]\n"
     ]
    },
    {
     "name": "stdout",
     "output_type": "stream",
     "text": [
      "Accuracy with noise_percent=0.45: 25.72%\n",
      "\n",
      "Evaluating Salt-and-Pepper Noise with noise_percent = 0.5\n"
     ]
    },
    {
     "name": "stderr",
     "output_type": "stream",
     "text": [
      "Adding Noise (percent=0.5): 100%|██████████| 313/313 [00:33<00:00,  9.32it/s]\n"
     ]
    },
    {
     "name": "stdout",
     "output_type": "stream",
     "text": [
      "Accuracy with noise_percent=0.5: 24.55%\n",
      "--------------------------\n",
      "Running PGD......... KD_model_3_9.pth\n"
     ]
    },
    {
     "name": "stderr",
     "output_type": "stream",
     "text": [
      "                                                            \r"
     ]
    },
    {
     "name": "stdout",
     "output_type": "stream",
     "text": [
      "Accuracy with epsilon 0.0: 93.75%\n"
     ]
    },
    {
     "name": "stderr",
     "output_type": "stream",
     "text": [
      "                                                            \r"
     ]
    },
    {
     "name": "stdout",
     "output_type": "stream",
     "text": [
      "Accuracy with epsilon 0.00029411764705882356: 90.62%\n"
     ]
    },
    {
     "name": "stderr",
     "output_type": "stream",
     "text": [
      "                                                            \r"
     ]
    },
    {
     "name": "stdout",
     "output_type": "stream",
     "text": [
      "Accuracy with epsilon 0.0005882352941176471: 93.75%\n"
     ]
    },
    {
     "name": "stderr",
     "output_type": "stream",
     "text": [
      "                                                            \r"
     ]
    },
    {
     "name": "stdout",
     "output_type": "stream",
     "text": [
      "Accuracy with epsilon 0.0008823529411764705: 81.25%\n"
     ]
    },
    {
     "name": "stderr",
     "output_type": "stream",
     "text": [
      "                                                            \r"
     ]
    },
    {
     "name": "stdout",
     "output_type": "stream",
     "text": [
      "Accuracy with epsilon 0.0011764705882352942: 78.12%\n"
     ]
    },
    {
     "name": "stderr",
     "output_type": "stream",
     "text": [
      "                                                            \r"
     ]
    },
    {
     "name": "stdout",
     "output_type": "stream",
     "text": [
      "Accuracy with epsilon 0.0014705882352941176: 71.88%\n"
     ]
    },
    {
     "name": "stderr",
     "output_type": "stream",
     "text": [
      "                                                            \r"
     ]
    },
    {
     "name": "stdout",
     "output_type": "stream",
     "text": [
      "Accuracy with epsilon 0.001764705882352941: 68.75%\n"
     ]
    },
    {
     "name": "stderr",
     "output_type": "stream",
     "text": [
      "                                                            \r"
     ]
    },
    {
     "name": "stdout",
     "output_type": "stream",
     "text": [
      "Accuracy with epsilon 0.002058823529411765: 62.50%\n"
     ]
    },
    {
     "name": "stderr",
     "output_type": "stream",
     "text": [
      "                                                            \r"
     ]
    },
    {
     "name": "stdout",
     "output_type": "stream",
     "text": [
      "Accuracy with epsilon 0.0023529411764705885: 56.25%\n"
     ]
    },
    {
     "name": "stderr",
     "output_type": "stream",
     "text": [
      "                                                            \r"
     ]
    },
    {
     "name": "stdout",
     "output_type": "stream",
     "text": [
      "Accuracy with epsilon 0.0026470588235294116: 53.12%\n"
     ]
    },
    {
     "name": "stderr",
     "output_type": "stream",
     "text": [
      "                                                            \r"
     ]
    },
    {
     "name": "stdout",
     "output_type": "stream",
     "text": [
      "Accuracy with epsilon 0.0029411764705882353: 50.00%\n"
     ]
    },
    {
     "name": "stderr",
     "output_type": "stream",
     "text": [
      "                                                            \r"
     ]
    },
    {
     "name": "stdout",
     "output_type": "stream",
     "text": [
      "Accuracy with epsilon 0.003235294117647059: 40.62%\n"
     ]
    },
    {
     "name": "stderr",
     "output_type": "stream",
     "text": [
      "                                                            \r"
     ]
    },
    {
     "name": "stdout",
     "output_type": "stream",
     "text": [
      "Accuracy with epsilon 0.003529411764705882: 40.62%\n"
     ]
    },
    {
     "name": "stderr",
     "output_type": "stream",
     "text": [
      "                                                            \r"
     ]
    },
    {
     "name": "stdout",
     "output_type": "stream",
     "text": [
      "Accuracy with epsilon 0.003823529411764706: 37.50%\n"
     ]
    },
    {
     "name": "stderr",
     "output_type": "stream",
     "text": [
      "                                                            \r"
     ]
    },
    {
     "name": "stdout",
     "output_type": "stream",
     "text": [
      "Accuracy with epsilon 0.00411764705882353: 31.25%\n"
     ]
    },
    {
     "name": "stderr",
     "output_type": "stream",
     "text": [
      "                                                            \r"
     ]
    },
    {
     "name": "stdout",
     "output_type": "stream",
     "text": [
      "Accuracy with epsilon 0.004411764705882353: 31.25%\n"
     ]
    },
    {
     "name": "stderr",
     "output_type": "stream",
     "text": [
      "                                                            \r"
     ]
    },
    {
     "name": "stdout",
     "output_type": "stream",
     "text": [
      "Accuracy with epsilon 0.004705882352941177: 28.12%\n"
     ]
    },
    {
     "name": "stderr",
     "output_type": "stream",
     "text": [
      "                                                            \r"
     ]
    },
    {
     "name": "stdout",
     "output_type": "stream",
     "text": [
      "Accuracy with epsilon 0.005: 28.12%\n",
      "Running SNP......... KD_model_3_9.pth\n",
      "\n",
      "Evaluating Salt-and-Pepper Noise with noise_percent = 0.0\n"
     ]
    },
    {
     "name": "stderr",
     "output_type": "stream",
     "text": [
      "Adding Noise (percent=0.0): 100%|██████████| 313/313 [00:09<00:00, 34.43it/s]\n"
     ]
    },
    {
     "name": "stdout",
     "output_type": "stream",
     "text": [
      "Accuracy with noise_percent=0.0: 85.25%\n",
      "\n",
      "Evaluating Salt-and-Pepper Noise with noise_percent = 0.05\n"
     ]
    },
    {
     "name": "stderr",
     "output_type": "stream",
     "text": [
      "Adding Noise (percent=0.05): 100%|██████████| 313/313 [00:11<00:00, 28.15it/s]\n"
     ]
    },
    {
     "name": "stdout",
     "output_type": "stream",
     "text": [
      "Accuracy with noise_percent=0.05: 60.78%\n",
      "\n",
      "Evaluating Salt-and-Pepper Noise with noise_percent = 0.1\n"
     ]
    },
    {
     "name": "stderr",
     "output_type": "stream",
     "text": [
      "Adding Noise (percent=0.1): 100%|██████████| 313/313 [00:13<00:00, 23.01it/s]\n"
     ]
    },
    {
     "name": "stdout",
     "output_type": "stream",
     "text": [
      "Accuracy with noise_percent=0.1: 41.41%\n",
      "\n",
      "Evaluating Salt-and-Pepper Noise with noise_percent = 0.15000000000000002\n"
     ]
    },
    {
     "name": "stderr",
     "output_type": "stream",
     "text": [
      "Adding Noise (percent=0.15000000000000002): 100%|██████████| 313/313 [00:16<00:00, 19.05it/s]\n"
     ]
    },
    {
     "name": "stdout",
     "output_type": "stream",
     "text": [
      "Accuracy with noise_percent=0.15000000000000002: 30.22%\n",
      "\n",
      "Evaluating Salt-and-Pepper Noise with noise_percent = 0.2\n"
     ]
    },
    {
     "name": "stderr",
     "output_type": "stream",
     "text": [
      "Adding Noise (percent=0.2): 100%|██████████| 313/313 [00:18<00:00, 16.54it/s]\n"
     ]
    },
    {
     "name": "stdout",
     "output_type": "stream",
     "text": [
      "Accuracy with noise_percent=0.2: 23.58%\n",
      "\n",
      "Evaluating Salt-and-Pepper Noise with noise_percent = 0.25\n"
     ]
    },
    {
     "name": "stderr",
     "output_type": "stream",
     "text": [
      "Adding Noise (percent=0.25): 100%|██████████| 313/313 [00:21<00:00, 14.74it/s]\n"
     ]
    },
    {
     "name": "stdout",
     "output_type": "stream",
     "text": [
      "Accuracy with noise_percent=0.25: 19.43%\n",
      "\n",
      "Evaluating Salt-and-Pepper Noise with noise_percent = 0.30000000000000004\n"
     ]
    },
    {
     "name": "stderr",
     "output_type": "stream",
     "text": [
      "Adding Noise (percent=0.30000000000000004): 100%|██████████| 313/313 [00:23<00:00, 13.17it/s]\n"
     ]
    },
    {
     "name": "stdout",
     "output_type": "stream",
     "text": [
      "Accuracy with noise_percent=0.30000000000000004: 17.30%\n",
      "\n",
      "Evaluating Salt-and-Pepper Noise with noise_percent = 0.35000000000000003\n"
     ]
    },
    {
     "name": "stderr",
     "output_type": "stream",
     "text": [
      "Adding Noise (percent=0.35000000000000003): 100%|██████████| 313/313 [00:26<00:00, 11.94it/s]\n"
     ]
    },
    {
     "name": "stdout",
     "output_type": "stream",
     "text": [
      "Accuracy with noise_percent=0.35000000000000003: 15.56%\n",
      "\n",
      "Evaluating Salt-and-Pepper Noise with noise_percent = 0.4\n"
     ]
    },
    {
     "name": "stderr",
     "output_type": "stream",
     "text": [
      "Adding Noise (percent=0.4): 100%|██████████| 313/313 [00:28<00:00, 10.96it/s]\n"
     ]
    },
    {
     "name": "stdout",
     "output_type": "stream",
     "text": [
      "Accuracy with noise_percent=0.4: 14.67%\n",
      "\n",
      "Evaluating Salt-and-Pepper Noise with noise_percent = 0.45\n"
     ]
    },
    {
     "name": "stderr",
     "output_type": "stream",
     "text": [
      "Adding Noise (percent=0.45): 100%|██████████| 313/313 [00:31<00:00, 10.03it/s]\n"
     ]
    },
    {
     "name": "stdout",
     "output_type": "stream",
     "text": [
      "Accuracy with noise_percent=0.45: 13.97%\n",
      "\n",
      "Evaluating Salt-and-Pepper Noise with noise_percent = 0.5\n"
     ]
    },
    {
     "name": "stderr",
     "output_type": "stream",
     "text": [
      "Adding Noise (percent=0.5): 100%|██████████| 313/313 [00:33<00:00,  9.37it/s]\n"
     ]
    },
    {
     "name": "stdout",
     "output_type": "stream",
     "text": [
      "Accuracy with noise_percent=0.5: 13.76%\n",
      "--------------------------\n",
      "Running PGD......... KD_model_4_10.pth\n"
     ]
    },
    {
     "name": "stderr",
     "output_type": "stream",
     "text": [
      "                                                            \r"
     ]
    },
    {
     "name": "stdout",
     "output_type": "stream",
     "text": [
      "Accuracy with epsilon 0.0: 93.75%\n"
     ]
    },
    {
     "name": "stderr",
     "output_type": "stream",
     "text": [
      "                                                            \r"
     ]
    },
    {
     "name": "stdout",
     "output_type": "stream",
     "text": [
      "Accuracy with epsilon 0.00029411764705882356: 93.75%\n"
     ]
    },
    {
     "name": "stderr",
     "output_type": "stream",
     "text": [
      "                                                            \r"
     ]
    },
    {
     "name": "stdout",
     "output_type": "stream",
     "text": [
      "Accuracy with epsilon 0.0005882352941176471: 90.62%\n"
     ]
    },
    {
     "name": "stderr",
     "output_type": "stream",
     "text": [
      "                                                            \r"
     ]
    },
    {
     "name": "stdout",
     "output_type": "stream",
     "text": [
      "Accuracy with epsilon 0.0008823529411764705: 81.25%\n"
     ]
    },
    {
     "name": "stderr",
     "output_type": "stream",
     "text": [
      "                                                            \r"
     ]
    },
    {
     "name": "stdout",
     "output_type": "stream",
     "text": [
      "Accuracy with epsilon 0.0011764705882352942: 81.25%\n"
     ]
    },
    {
     "name": "stderr",
     "output_type": "stream",
     "text": [
      "                                                            \r"
     ]
    },
    {
     "name": "stdout",
     "output_type": "stream",
     "text": [
      "Accuracy with epsilon 0.0014705882352941176: 81.25%\n"
     ]
    },
    {
     "name": "stderr",
     "output_type": "stream",
     "text": [
      "                                                            \r"
     ]
    },
    {
     "name": "stdout",
     "output_type": "stream",
     "text": [
      "Accuracy with epsilon 0.001764705882352941: 75.00%\n"
     ]
    },
    {
     "name": "stderr",
     "output_type": "stream",
     "text": [
      "                                                            \r"
     ]
    },
    {
     "name": "stdout",
     "output_type": "stream",
     "text": [
      "Accuracy with epsilon 0.002058823529411765: 65.62%\n"
     ]
    },
    {
     "name": "stderr",
     "output_type": "stream",
     "text": [
      "                                                            \r"
     ]
    },
    {
     "name": "stdout",
     "output_type": "stream",
     "text": [
      "Accuracy with epsilon 0.0023529411764705885: 65.62%\n"
     ]
    },
    {
     "name": "stderr",
     "output_type": "stream",
     "text": [
      "                                                            \r"
     ]
    },
    {
     "name": "stdout",
     "output_type": "stream",
     "text": [
      "Accuracy with epsilon 0.0026470588235294116: 62.50%\n"
     ]
    },
    {
     "name": "stderr",
     "output_type": "stream",
     "text": [
      "                                                            \r"
     ]
    },
    {
     "name": "stdout",
     "output_type": "stream",
     "text": [
      "Accuracy with epsilon 0.0029411764705882353: 59.38%\n"
     ]
    },
    {
     "name": "stderr",
     "output_type": "stream",
     "text": [
      "                                                            \r"
     ]
    },
    {
     "name": "stdout",
     "output_type": "stream",
     "text": [
      "Accuracy with epsilon 0.003235294117647059: 56.25%\n"
     ]
    },
    {
     "name": "stderr",
     "output_type": "stream",
     "text": [
      "                                                            \r"
     ]
    },
    {
     "name": "stdout",
     "output_type": "stream",
     "text": [
      "Accuracy with epsilon 0.003529411764705882: 53.12%\n"
     ]
    },
    {
     "name": "stderr",
     "output_type": "stream",
     "text": [
      "                                                            \r"
     ]
    },
    {
     "name": "stdout",
     "output_type": "stream",
     "text": [
      "Accuracy with epsilon 0.003823529411764706: 50.00%\n"
     ]
    },
    {
     "name": "stderr",
     "output_type": "stream",
     "text": [
      "                                                            \r"
     ]
    },
    {
     "name": "stdout",
     "output_type": "stream",
     "text": [
      "Accuracy with epsilon 0.00411764705882353: 50.00%\n"
     ]
    },
    {
     "name": "stderr",
     "output_type": "stream",
     "text": [
      "                                                            \r"
     ]
    },
    {
     "name": "stdout",
     "output_type": "stream",
     "text": [
      "Accuracy with epsilon 0.004411764705882353: 40.62%\n"
     ]
    },
    {
     "name": "stderr",
     "output_type": "stream",
     "text": [
      "                                                            \r"
     ]
    },
    {
     "name": "stdout",
     "output_type": "stream",
     "text": [
      "Accuracy with epsilon 0.004705882352941177: 40.62%\n"
     ]
    },
    {
     "name": "stderr",
     "output_type": "stream",
     "text": [
      "                                                            \r"
     ]
    },
    {
     "name": "stdout",
     "output_type": "stream",
     "text": [
      "Accuracy with epsilon 0.005: 37.50%\n",
      "Running SNP......... KD_model_4_10.pth\n",
      "\n",
      "Evaluating Salt-and-Pepper Noise with noise_percent = 0.0\n"
     ]
    },
    {
     "name": "stderr",
     "output_type": "stream",
     "text": [
      "Adding Noise (percent=0.0): 100%|██████████| 313/313 [00:09<00:00, 34.59it/s]\n"
     ]
    },
    {
     "name": "stdout",
     "output_type": "stream",
     "text": [
      "Accuracy with noise_percent=0.0: 85.15%\n",
      "\n",
      "Evaluating Salt-and-Pepper Noise with noise_percent = 0.05\n"
     ]
    },
    {
     "name": "stderr",
     "output_type": "stream",
     "text": [
      "Adding Noise (percent=0.05): 100%|██████████| 313/313 [00:11<00:00, 28.31it/s]\n"
     ]
    },
    {
     "name": "stdout",
     "output_type": "stream",
     "text": [
      "Accuracy with noise_percent=0.05: 60.88%\n",
      "\n",
      "Evaluating Salt-and-Pepper Noise with noise_percent = 0.1\n"
     ]
    },
    {
     "name": "stderr",
     "output_type": "stream",
     "text": [
      "Adding Noise (percent=0.1): 100%|██████████| 313/313 [00:13<00:00, 22.36it/s]\n"
     ]
    },
    {
     "name": "stdout",
     "output_type": "stream",
     "text": [
      "Accuracy with noise_percent=0.1: 43.99%\n",
      "\n",
      "Evaluating Salt-and-Pepper Noise with noise_percent = 0.15000000000000002\n"
     ]
    },
    {
     "name": "stderr",
     "output_type": "stream",
     "text": [
      "Adding Noise (percent=0.15000000000000002): 100%|██████████| 313/313 [00:16<00:00, 19.00it/s]\n"
     ]
    },
    {
     "name": "stdout",
     "output_type": "stream",
     "text": [
      "Accuracy with noise_percent=0.15000000000000002: 33.57%\n",
      "\n",
      "Evaluating Salt-and-Pepper Noise with noise_percent = 0.2\n"
     ]
    },
    {
     "name": "stderr",
     "output_type": "stream",
     "text": [
      "Adding Noise (percent=0.2): 100%|██████████| 313/313 [00:18<00:00, 16.60it/s]\n"
     ]
    },
    {
     "name": "stdout",
     "output_type": "stream",
     "text": [
      "Accuracy with noise_percent=0.2: 25.84%\n",
      "\n",
      "Evaluating Salt-and-Pepper Noise with noise_percent = 0.25\n"
     ]
    },
    {
     "name": "stderr",
     "output_type": "stream",
     "text": [
      "Adding Noise (percent=0.25): 100%|██████████| 313/313 [00:21<00:00, 14.68it/s]\n"
     ]
    },
    {
     "name": "stdout",
     "output_type": "stream",
     "text": [
      "Accuracy with noise_percent=0.25: 21.54%\n",
      "\n",
      "Evaluating Salt-and-Pepper Noise with noise_percent = 0.30000000000000004\n"
     ]
    },
    {
     "name": "stderr",
     "output_type": "stream",
     "text": [
      "Adding Noise (percent=0.30000000000000004): 100%|██████████| 313/313 [00:23<00:00, 13.07it/s]\n"
     ]
    },
    {
     "name": "stdout",
     "output_type": "stream",
     "text": [
      "Accuracy with noise_percent=0.30000000000000004: 18.62%\n",
      "\n",
      "Evaluating Salt-and-Pepper Noise with noise_percent = 0.35000000000000003\n"
     ]
    },
    {
     "name": "stderr",
     "output_type": "stream",
     "text": [
      "Adding Noise (percent=0.35000000000000003): 100%|██████████| 313/313 [00:26<00:00, 11.85it/s]\n"
     ]
    },
    {
     "name": "stdout",
     "output_type": "stream",
     "text": [
      "Accuracy with noise_percent=0.35000000000000003: 16.31%\n",
      "\n",
      "Evaluating Salt-and-Pepper Noise with noise_percent = 0.4\n"
     ]
    },
    {
     "name": "stderr",
     "output_type": "stream",
     "text": [
      "Adding Noise (percent=0.4): 100%|██████████| 313/313 [00:28<00:00, 10.98it/s]\n"
     ]
    },
    {
     "name": "stdout",
     "output_type": "stream",
     "text": [
      "Accuracy with noise_percent=0.4: 15.29%\n",
      "\n",
      "Evaluating Salt-and-Pepper Noise with noise_percent = 0.45\n"
     ]
    },
    {
     "name": "stderr",
     "output_type": "stream",
     "text": [
      "Adding Noise (percent=0.45): 100%|██████████| 313/313 [00:31<00:00, 10.05it/s]\n"
     ]
    },
    {
     "name": "stdout",
     "output_type": "stream",
     "text": [
      "Accuracy with noise_percent=0.45: 14.25%\n",
      "\n",
      "Evaluating Salt-and-Pepper Noise with noise_percent = 0.5\n"
     ]
    },
    {
     "name": "stderr",
     "output_type": "stream",
     "text": [
      "Adding Noise (percent=0.5): 100%|██████████| 313/313 [00:33<00:00,  9.41it/s]\n"
     ]
    },
    {
     "name": "stdout",
     "output_type": "stream",
     "text": [
      "Accuracy with noise_percent=0.5: 13.64%\n",
      "--------------------------\n",
      "Running PGD......... KD_model_4_11.pth\n"
     ]
    },
    {
     "name": "stderr",
     "output_type": "stream",
     "text": [
      "                                                            \r"
     ]
    },
    {
     "name": "stdout",
     "output_type": "stream",
     "text": [
      "Accuracy with epsilon 0.0: 96.88%\n"
     ]
    },
    {
     "name": "stderr",
     "output_type": "stream",
     "text": [
      "                                                            \r"
     ]
    },
    {
     "name": "stdout",
     "output_type": "stream",
     "text": [
      "Accuracy with epsilon 0.00029411764705882356: 93.75%\n"
     ]
    },
    {
     "name": "stderr",
     "output_type": "stream",
     "text": [
      "                                                            \r"
     ]
    },
    {
     "name": "stdout",
     "output_type": "stream",
     "text": [
      "Accuracy with epsilon 0.0005882352941176471: 90.62%\n"
     ]
    },
    {
     "name": "stderr",
     "output_type": "stream",
     "text": [
      "                                                            \r"
     ]
    },
    {
     "name": "stdout",
     "output_type": "stream",
     "text": [
      "Accuracy with epsilon 0.0008823529411764705: 84.38%\n"
     ]
    },
    {
     "name": "stderr",
     "output_type": "stream",
     "text": [
      "                                                            \r"
     ]
    },
    {
     "name": "stdout",
     "output_type": "stream",
     "text": [
      "Accuracy with epsilon 0.0011764705882352942: 84.38%\n"
     ]
    },
    {
     "name": "stderr",
     "output_type": "stream",
     "text": [
      "                                                            \r"
     ]
    },
    {
     "name": "stdout",
     "output_type": "stream",
     "text": [
      "Accuracy with epsilon 0.0014705882352941176: 75.00%\n"
     ]
    },
    {
     "name": "stderr",
     "output_type": "stream",
     "text": [
      "                                                            \r"
     ]
    },
    {
     "name": "stdout",
     "output_type": "stream",
     "text": [
      "Accuracy with epsilon 0.001764705882352941: 68.75%\n"
     ]
    },
    {
     "name": "stderr",
     "output_type": "stream",
     "text": [
      "                                                            \r"
     ]
    },
    {
     "name": "stdout",
     "output_type": "stream",
     "text": [
      "Accuracy with epsilon 0.002058823529411765: 56.25%\n"
     ]
    },
    {
     "name": "stderr",
     "output_type": "stream",
     "text": [
      "                                                            \r"
     ]
    },
    {
     "name": "stdout",
     "output_type": "stream",
     "text": [
      "Accuracy with epsilon 0.0023529411764705885: 46.88%\n"
     ]
    },
    {
     "name": "stderr",
     "output_type": "stream",
     "text": [
      "                                                            \r"
     ]
    },
    {
     "name": "stdout",
     "output_type": "stream",
     "text": [
      "Accuracy with epsilon 0.0026470588235294116: 46.88%\n"
     ]
    },
    {
     "name": "stderr",
     "output_type": "stream",
     "text": [
      "                                                            \r"
     ]
    },
    {
     "name": "stdout",
     "output_type": "stream",
     "text": [
      "Accuracy with epsilon 0.0029411764705882353: 43.75%\n"
     ]
    },
    {
     "name": "stderr",
     "output_type": "stream",
     "text": [
      "                                                            \r"
     ]
    },
    {
     "name": "stdout",
     "output_type": "stream",
     "text": [
      "Accuracy with epsilon 0.003235294117647059: 40.62%\n"
     ]
    },
    {
     "name": "stderr",
     "output_type": "stream",
     "text": [
      "                                                            \r"
     ]
    },
    {
     "name": "stdout",
     "output_type": "stream",
     "text": [
      "Accuracy with epsilon 0.003529411764705882: 34.38%\n"
     ]
    },
    {
     "name": "stderr",
     "output_type": "stream",
     "text": [
      "                                                            \r"
     ]
    },
    {
     "name": "stdout",
     "output_type": "stream",
     "text": [
      "Accuracy with epsilon 0.003823529411764706: 34.38%\n"
     ]
    },
    {
     "name": "stderr",
     "output_type": "stream",
     "text": [
      "                                                            \r"
     ]
    },
    {
     "name": "stdout",
     "output_type": "stream",
     "text": [
      "Accuracy with epsilon 0.00411764705882353: 34.38%\n"
     ]
    },
    {
     "name": "stderr",
     "output_type": "stream",
     "text": [
      "                                                            \r"
     ]
    },
    {
     "name": "stdout",
     "output_type": "stream",
     "text": [
      "Accuracy with epsilon 0.004411764705882353: 31.25%\n"
     ]
    },
    {
     "name": "stderr",
     "output_type": "stream",
     "text": [
      "                                                            \r"
     ]
    },
    {
     "name": "stdout",
     "output_type": "stream",
     "text": [
      "Accuracy with epsilon 0.004705882352941177: 31.25%\n"
     ]
    },
    {
     "name": "stderr",
     "output_type": "stream",
     "text": [
      "                                                            \r"
     ]
    },
    {
     "name": "stdout",
     "output_type": "stream",
     "text": [
      "Accuracy with epsilon 0.005: 28.12%\n",
      "Running SNP......... KD_model_4_11.pth\n",
      "\n",
      "Evaluating Salt-and-Pepper Noise with noise_percent = 0.0\n"
     ]
    },
    {
     "name": "stderr",
     "output_type": "stream",
     "text": [
      "Adding Noise (percent=0.0): 100%|██████████| 313/313 [00:08<00:00, 34.78it/s]\n"
     ]
    },
    {
     "name": "stdout",
     "output_type": "stream",
     "text": [
      "Accuracy with noise_percent=0.0: 85.58%\n",
      "\n",
      "Evaluating Salt-and-Pepper Noise with noise_percent = 0.05\n"
     ]
    },
    {
     "name": "stderr",
     "output_type": "stream",
     "text": [
      "Adding Noise (percent=0.05): 100%|██████████| 313/313 [00:11<00:00, 28.35it/s]\n"
     ]
    },
    {
     "name": "stdout",
     "output_type": "stream",
     "text": [
      "Accuracy with noise_percent=0.05: 63.87%\n",
      "\n",
      "Evaluating Salt-and-Pepper Noise with noise_percent = 0.1\n"
     ]
    },
    {
     "name": "stderr",
     "output_type": "stream",
     "text": [
      "Adding Noise (percent=0.1): 100%|██████████| 313/313 [00:13<00:00, 23.19it/s]\n"
     ]
    },
    {
     "name": "stdout",
     "output_type": "stream",
     "text": [
      "Accuracy with noise_percent=0.1: 46.75%\n",
      "\n",
      "Evaluating Salt-and-Pepper Noise with noise_percent = 0.15000000000000002\n"
     ]
    },
    {
     "name": "stderr",
     "output_type": "stream",
     "text": [
      "Adding Noise (percent=0.15000000000000002): 100%|██████████| 313/313 [00:16<00:00, 19.11it/s]\n"
     ]
    },
    {
     "name": "stdout",
     "output_type": "stream",
     "text": [
      "Accuracy with noise_percent=0.15000000000000002: 35.44%\n",
      "\n",
      "Evaluating Salt-and-Pepper Noise with noise_percent = 0.2\n"
     ]
    },
    {
     "name": "stderr",
     "output_type": "stream",
     "text": [
      "Adding Noise (percent=0.2): 100%|██████████| 313/313 [00:19<00:00, 16.39it/s]\n"
     ]
    },
    {
     "name": "stdout",
     "output_type": "stream",
     "text": [
      "Accuracy with noise_percent=0.2: 27.34%\n",
      "\n",
      "Evaluating Salt-and-Pepper Noise with noise_percent = 0.25\n"
     ]
    },
    {
     "name": "stderr",
     "output_type": "stream",
     "text": [
      "Adding Noise (percent=0.25): 100%|██████████| 313/313 [00:21<00:00, 14.61it/s]\n"
     ]
    },
    {
     "name": "stdout",
     "output_type": "stream",
     "text": [
      "Accuracy with noise_percent=0.25: 22.18%\n",
      "\n",
      "Evaluating Salt-and-Pepper Noise with noise_percent = 0.30000000000000004\n"
     ]
    },
    {
     "name": "stderr",
     "output_type": "stream",
     "text": [
      "Adding Noise (percent=0.30000000000000004): 100%|██████████| 313/313 [00:23<00:00, 13.17it/s]\n"
     ]
    },
    {
     "name": "stdout",
     "output_type": "stream",
     "text": [
      "Accuracy with noise_percent=0.30000000000000004: 18.85%\n",
      "\n",
      "Evaluating Salt-and-Pepper Noise with noise_percent = 0.35000000000000003\n"
     ]
    },
    {
     "name": "stderr",
     "output_type": "stream",
     "text": [
      "Adding Noise (percent=0.35000000000000003): 100%|██████████| 313/313 [00:26<00:00, 11.89it/s]\n"
     ]
    },
    {
     "name": "stdout",
     "output_type": "stream",
     "text": [
      "Accuracy with noise_percent=0.35000000000000003: 16.47%\n",
      "\n",
      "Evaluating Salt-and-Pepper Noise with noise_percent = 0.4\n"
     ]
    },
    {
     "name": "stderr",
     "output_type": "stream",
     "text": [
      "Adding Noise (percent=0.4): 100%|██████████| 313/313 [00:28<00:00, 10.88it/s]\n"
     ]
    },
    {
     "name": "stdout",
     "output_type": "stream",
     "text": [
      "Accuracy with noise_percent=0.4: 15.24%\n",
      "\n",
      "Evaluating Salt-and-Pepper Noise with noise_percent = 0.45\n"
     ]
    },
    {
     "name": "stderr",
     "output_type": "stream",
     "text": [
      "Adding Noise (percent=0.45): 100%|██████████| 313/313 [00:31<00:00, 10.07it/s]\n"
     ]
    },
    {
     "name": "stdout",
     "output_type": "stream",
     "text": [
      "Accuracy with noise_percent=0.45: 14.37%\n",
      "\n",
      "Evaluating Salt-and-Pepper Noise with noise_percent = 0.5\n"
     ]
    },
    {
     "name": "stderr",
     "output_type": "stream",
     "text": [
      "Adding Noise (percent=0.5): 100%|██████████| 313/313 [00:33<00:00,  9.45it/s]\n"
     ]
    },
    {
     "name": "stdout",
     "output_type": "stream",
     "text": [
      "Accuracy with noise_percent=0.5: 13.35%\n",
      "--------------------------\n",
      "Running PGD......... KD_model_4_12.pth\n"
     ]
    },
    {
     "name": "stderr",
     "output_type": "stream",
     "text": [
      "                                                            \r"
     ]
    },
    {
     "name": "stdout",
     "output_type": "stream",
     "text": [
      "Accuracy with epsilon 0.0: 100.00%\n"
     ]
    },
    {
     "name": "stderr",
     "output_type": "stream",
     "text": [
      "                                                            \r"
     ]
    },
    {
     "name": "stdout",
     "output_type": "stream",
     "text": [
      "Accuracy with epsilon 0.00029411764705882356: 93.75%\n"
     ]
    },
    {
     "name": "stderr",
     "output_type": "stream",
     "text": [
      "                                                            \r"
     ]
    },
    {
     "name": "stdout",
     "output_type": "stream",
     "text": [
      "Accuracy with epsilon 0.0005882352941176471: 90.62%\n"
     ]
    },
    {
     "name": "stderr",
     "output_type": "stream",
     "text": [
      "                                                            \r"
     ]
    },
    {
     "name": "stdout",
     "output_type": "stream",
     "text": [
      "Accuracy with epsilon 0.0008823529411764705: 84.38%\n"
     ]
    },
    {
     "name": "stderr",
     "output_type": "stream",
     "text": [
      "                                                            \r"
     ]
    },
    {
     "name": "stdout",
     "output_type": "stream",
     "text": [
      "Accuracy with epsilon 0.0011764705882352942: 75.00%\n"
     ]
    },
    {
     "name": "stderr",
     "output_type": "stream",
     "text": [
      "                                                            \r"
     ]
    },
    {
     "name": "stdout",
     "output_type": "stream",
     "text": [
      "Accuracy with epsilon 0.0014705882352941176: 68.75%\n"
     ]
    },
    {
     "name": "stderr",
     "output_type": "stream",
     "text": [
      "                                                            \r"
     ]
    },
    {
     "name": "stdout",
     "output_type": "stream",
     "text": [
      "Accuracy with epsilon 0.001764705882352941: 62.50%\n"
     ]
    },
    {
     "name": "stderr",
     "output_type": "stream",
     "text": [
      "                                                            \r"
     ]
    },
    {
     "name": "stdout",
     "output_type": "stream",
     "text": [
      "Accuracy with epsilon 0.002058823529411765: 53.12%\n"
     ]
    },
    {
     "name": "stderr",
     "output_type": "stream",
     "text": [
      "                                                            \r"
     ]
    },
    {
     "name": "stdout",
     "output_type": "stream",
     "text": [
      "Accuracy with epsilon 0.0023529411764705885: 46.88%\n"
     ]
    },
    {
     "name": "stderr",
     "output_type": "stream",
     "text": [
      "                                                            \r"
     ]
    },
    {
     "name": "stdout",
     "output_type": "stream",
     "text": [
      "Accuracy with epsilon 0.0026470588235294116: 43.75%\n"
     ]
    },
    {
     "name": "stderr",
     "output_type": "stream",
     "text": [
      "                                                            \r"
     ]
    },
    {
     "name": "stdout",
     "output_type": "stream",
     "text": [
      "Accuracy with epsilon 0.0029411764705882353: 40.62%\n"
     ]
    },
    {
     "name": "stderr",
     "output_type": "stream",
     "text": [
      "                                                            \r"
     ]
    },
    {
     "name": "stdout",
     "output_type": "stream",
     "text": [
      "Accuracy with epsilon 0.003235294117647059: 40.62%\n"
     ]
    },
    {
     "name": "stderr",
     "output_type": "stream",
     "text": [
      "                                                            \r"
     ]
    },
    {
     "name": "stdout",
     "output_type": "stream",
     "text": [
      "Accuracy with epsilon 0.003529411764705882: 40.62%\n"
     ]
    },
    {
     "name": "stderr",
     "output_type": "stream",
     "text": [
      "                                                            \r"
     ]
    },
    {
     "name": "stdout",
     "output_type": "stream",
     "text": [
      "Accuracy with epsilon 0.003823529411764706: 37.50%\n"
     ]
    },
    {
     "name": "stderr",
     "output_type": "stream",
     "text": [
      "                                                            \r"
     ]
    },
    {
     "name": "stdout",
     "output_type": "stream",
     "text": [
      "Accuracy with epsilon 0.00411764705882353: 34.38%\n"
     ]
    },
    {
     "name": "stderr",
     "output_type": "stream",
     "text": [
      "                                                            \r"
     ]
    },
    {
     "name": "stdout",
     "output_type": "stream",
     "text": [
      "Accuracy with epsilon 0.004411764705882353: 28.12%\n"
     ]
    },
    {
     "name": "stderr",
     "output_type": "stream",
     "text": [
      "                                                            \r"
     ]
    },
    {
     "name": "stdout",
     "output_type": "stream",
     "text": [
      "Accuracy with epsilon 0.004705882352941177: 25.00%\n"
     ]
    },
    {
     "name": "stderr",
     "output_type": "stream",
     "text": [
      "                                                            \r"
     ]
    },
    {
     "name": "stdout",
     "output_type": "stream",
     "text": [
      "Accuracy with epsilon 0.005: 25.00%\n",
      "Running SNP......... KD_model_4_12.pth\n",
      "\n",
      "Evaluating Salt-and-Pepper Noise with noise_percent = 0.0\n"
     ]
    },
    {
     "name": "stderr",
     "output_type": "stream",
     "text": [
      "Adding Noise (percent=0.0): 100%|██████████| 313/313 [00:09<00:00, 34.38it/s]\n"
     ]
    },
    {
     "name": "stdout",
     "output_type": "stream",
     "text": [
      "Accuracy with noise_percent=0.0: 85.79%\n",
      "\n",
      "Evaluating Salt-and-Pepper Noise with noise_percent = 0.05\n"
     ]
    },
    {
     "name": "stderr",
     "output_type": "stream",
     "text": [
      "Adding Noise (percent=0.05): 100%|██████████| 313/313 [00:13<00:00, 22.67it/s]\n"
     ]
    },
    {
     "name": "stdout",
     "output_type": "stream",
     "text": [
      "Accuracy with noise_percent=0.05: 61.53%\n",
      "\n",
      "Evaluating Salt-and-Pepper Noise with noise_percent = 0.1\n"
     ]
    },
    {
     "name": "stderr",
     "output_type": "stream",
     "text": [
      "Adding Noise (percent=0.1): 100%|██████████| 313/313 [00:14<00:00, 21.51it/s]\n"
     ]
    },
    {
     "name": "stdout",
     "output_type": "stream",
     "text": [
      "Accuracy with noise_percent=0.1: 44.00%\n",
      "\n",
      "Evaluating Salt-and-Pepper Noise with noise_percent = 0.15000000000000002\n"
     ]
    },
    {
     "name": "stderr",
     "output_type": "stream",
     "text": [
      "Adding Noise (percent=0.15000000000000002): 100%|██████████| 313/313 [00:17<00:00, 17.92it/s]\n"
     ]
    },
    {
     "name": "stdout",
     "output_type": "stream",
     "text": [
      "Accuracy with noise_percent=0.15000000000000002: 33.65%\n",
      "\n",
      "Evaluating Salt-and-Pepper Noise with noise_percent = 0.2\n"
     ]
    },
    {
     "name": "stderr",
     "output_type": "stream",
     "text": [
      "Adding Noise (percent=0.2): 100%|██████████| 313/313 [00:20<00:00, 15.63it/s]\n"
     ]
    },
    {
     "name": "stdout",
     "output_type": "stream",
     "text": [
      "Accuracy with noise_percent=0.2: 27.02%\n",
      "\n",
      "Evaluating Salt-and-Pepper Noise with noise_percent = 0.25\n"
     ]
    },
    {
     "name": "stderr",
     "output_type": "stream",
     "text": [
      "Adding Noise (percent=0.25): 100%|██████████| 313/313 [00:22<00:00, 13.93it/s]\n"
     ]
    },
    {
     "name": "stdout",
     "output_type": "stream",
     "text": [
      "Accuracy with noise_percent=0.25: 23.59%\n",
      "\n",
      "Evaluating Salt-and-Pepper Noise with noise_percent = 0.30000000000000004\n"
     ]
    },
    {
     "name": "stderr",
     "output_type": "stream",
     "text": [
      "Adding Noise (percent=0.30000000000000004): 100%|██████████| 313/313 [00:24<00:00, 12.58it/s]\n"
     ]
    },
    {
     "name": "stdout",
     "output_type": "stream",
     "text": [
      "Accuracy with noise_percent=0.30000000000000004: 20.86%\n",
      "\n",
      "Evaluating Salt-and-Pepper Noise with noise_percent = 0.35000000000000003\n"
     ]
    },
    {
     "name": "stderr",
     "output_type": "stream",
     "text": [
      "Adding Noise (percent=0.35000000000000003): 100%|██████████| 313/313 [00:27<00:00, 11.44it/s]\n"
     ]
    },
    {
     "name": "stdout",
     "output_type": "stream",
     "text": [
      "Accuracy with noise_percent=0.35000000000000003: 19.17%\n",
      "\n",
      "Evaluating Salt-and-Pepper Noise with noise_percent = 0.4\n"
     ]
    },
    {
     "name": "stderr",
     "output_type": "stream",
     "text": [
      "Adding Noise (percent=0.4): 100%|██████████| 313/313 [00:29<00:00, 10.47it/s]\n"
     ]
    },
    {
     "name": "stdout",
     "output_type": "stream",
     "text": [
      "Accuracy with noise_percent=0.4: 18.10%\n",
      "\n",
      "Evaluating Salt-and-Pepper Noise with noise_percent = 0.45\n"
     ]
    },
    {
     "name": "stderr",
     "output_type": "stream",
     "text": [
      "Adding Noise (percent=0.45): 100%|██████████| 313/313 [00:32<00:00,  9.77it/s]\n"
     ]
    },
    {
     "name": "stdout",
     "output_type": "stream",
     "text": [
      "Accuracy with noise_percent=0.45: 16.88%\n",
      "\n",
      "Evaluating Salt-and-Pepper Noise with noise_percent = 0.5\n"
     ]
    },
    {
     "name": "stderr",
     "output_type": "stream",
     "text": [
      "Adding Noise (percent=0.5): 100%|██████████| 313/313 [00:35<00:00,  8.85it/s]\n"
     ]
    },
    {
     "name": "stdout",
     "output_type": "stream",
     "text": [
      "Accuracy with noise_percent=0.5: 16.24%\n",
      "--------------------------\n",
      "Running PGD......... KD_model_4_13.pth\n"
     ]
    },
    {
     "name": "stderr",
     "output_type": "stream",
     "text": [
      "                                                            \r"
     ]
    },
    {
     "name": "stdout",
     "output_type": "stream",
     "text": [
      "Accuracy with epsilon 0.0: 93.75%\n"
     ]
    },
    {
     "name": "stderr",
     "output_type": "stream",
     "text": [
      "                                                            \r"
     ]
    },
    {
     "name": "stdout",
     "output_type": "stream",
     "text": [
      "Accuracy with epsilon 0.00029411764705882356: 90.62%\n"
     ]
    },
    {
     "name": "stderr",
     "output_type": "stream",
     "text": [
      "                                                            \r"
     ]
    },
    {
     "name": "stdout",
     "output_type": "stream",
     "text": [
      "Accuracy with epsilon 0.0005882352941176471: 87.50%\n"
     ]
    },
    {
     "name": "stderr",
     "output_type": "stream",
     "text": [
      "                                                            \r"
     ]
    },
    {
     "name": "stdout",
     "output_type": "stream",
     "text": [
      "Accuracy with epsilon 0.0008823529411764705: 81.25%\n"
     ]
    },
    {
     "name": "stderr",
     "output_type": "stream",
     "text": [
      "                                                            \r"
     ]
    },
    {
     "name": "stdout",
     "output_type": "stream",
     "text": [
      "Accuracy with epsilon 0.0011764705882352942: 78.12%\n"
     ]
    },
    {
     "name": "stderr",
     "output_type": "stream",
     "text": [
      "                                                            \r"
     ]
    },
    {
     "name": "stdout",
     "output_type": "stream",
     "text": [
      "Accuracy with epsilon 0.0014705882352941176: 75.00%\n"
     ]
    },
    {
     "name": "stderr",
     "output_type": "stream",
     "text": [
      "                                                            \r"
     ]
    },
    {
     "name": "stdout",
     "output_type": "stream",
     "text": [
      "Accuracy with epsilon 0.001764705882352941: 71.88%\n"
     ]
    },
    {
     "name": "stderr",
     "output_type": "stream",
     "text": [
      "                                                            \r"
     ]
    },
    {
     "name": "stdout",
     "output_type": "stream",
     "text": [
      "Accuracy with epsilon 0.002058823529411765: 65.62%\n"
     ]
    },
    {
     "name": "stderr",
     "output_type": "stream",
     "text": [
      "                                                            \r"
     ]
    },
    {
     "name": "stdout",
     "output_type": "stream",
     "text": [
      "Accuracy with epsilon 0.0023529411764705885: 62.50%\n"
     ]
    },
    {
     "name": "stderr",
     "output_type": "stream",
     "text": [
      "                                                            \r"
     ]
    },
    {
     "name": "stdout",
     "output_type": "stream",
     "text": [
      "Accuracy with epsilon 0.0026470588235294116: 56.25%\n"
     ]
    },
    {
     "name": "stderr",
     "output_type": "stream",
     "text": [
      "                                                            \r"
     ]
    },
    {
     "name": "stdout",
     "output_type": "stream",
     "text": [
      "Accuracy with epsilon 0.0029411764705882353: 53.12%\n"
     ]
    },
    {
     "name": "stderr",
     "output_type": "stream",
     "text": [
      "                                                            \r"
     ]
    },
    {
     "name": "stdout",
     "output_type": "stream",
     "text": [
      "Accuracy with epsilon 0.003235294117647059: 53.12%\n"
     ]
    },
    {
     "name": "stderr",
     "output_type": "stream",
     "text": [
      "                                                            \r"
     ]
    },
    {
     "name": "stdout",
     "output_type": "stream",
     "text": [
      "Accuracy with epsilon 0.003529411764705882: 53.12%\n"
     ]
    },
    {
     "name": "stderr",
     "output_type": "stream",
     "text": [
      "                                                            \r"
     ]
    },
    {
     "name": "stdout",
     "output_type": "stream",
     "text": [
      "Accuracy with epsilon 0.003823529411764706: 46.88%\n"
     ]
    },
    {
     "name": "stderr",
     "output_type": "stream",
     "text": [
      "                                                            \r"
     ]
    },
    {
     "name": "stdout",
     "output_type": "stream",
     "text": [
      "Accuracy with epsilon 0.00411764705882353: 46.88%\n"
     ]
    },
    {
     "name": "stderr",
     "output_type": "stream",
     "text": [
      "                                                            \r"
     ]
    },
    {
     "name": "stdout",
     "output_type": "stream",
     "text": [
      "Accuracy with epsilon 0.004411764705882353: 34.38%\n"
     ]
    },
    {
     "name": "stderr",
     "output_type": "stream",
     "text": [
      "                                                            \r"
     ]
    },
    {
     "name": "stdout",
     "output_type": "stream",
     "text": [
      "Accuracy with epsilon 0.004705882352941177: 31.25%\n"
     ]
    },
    {
     "name": "stderr",
     "output_type": "stream",
     "text": [
      "                                                            \r"
     ]
    },
    {
     "name": "stdout",
     "output_type": "stream",
     "text": [
      "Accuracy with epsilon 0.005: 31.25%\n",
      "Running SNP......... KD_model_4_13.pth\n",
      "\n",
      "Evaluating Salt-and-Pepper Noise with noise_percent = 0.0\n"
     ]
    },
    {
     "name": "stderr",
     "output_type": "stream",
     "text": [
      "Adding Noise (percent=0.0): 100%|██████████| 313/313 [00:09<00:00, 31.95it/s]\n"
     ]
    },
    {
     "name": "stdout",
     "output_type": "stream",
     "text": [
      "Accuracy with noise_percent=0.0: 85.28%\n",
      "\n",
      "Evaluating Salt-and-Pepper Noise with noise_percent = 0.05\n"
     ]
    },
    {
     "name": "stderr",
     "output_type": "stream",
     "text": [
      "Adding Noise (percent=0.05): 100%|██████████| 313/313 [00:11<00:00, 26.89it/s]\n"
     ]
    },
    {
     "name": "stdout",
     "output_type": "stream",
     "text": [
      "Accuracy with noise_percent=0.05: 58.00%\n",
      "\n",
      "Evaluating Salt-and-Pepper Noise with noise_percent = 0.1\n"
     ]
    },
    {
     "name": "stderr",
     "output_type": "stream",
     "text": [
      "Adding Noise (percent=0.1): 100%|██████████| 313/313 [00:14<00:00, 22.03it/s]\n"
     ]
    },
    {
     "name": "stdout",
     "output_type": "stream",
     "text": [
      "Accuracy with noise_percent=0.1: 40.15%\n",
      "\n",
      "Evaluating Salt-and-Pepper Noise with noise_percent = 0.15000000000000002\n"
     ]
    },
    {
     "name": "stderr",
     "output_type": "stream",
     "text": [
      "Adding Noise (percent=0.15000000000000002): 100%|██████████| 313/313 [00:17<00:00, 18.28it/s]\n"
     ]
    },
    {
     "name": "stdout",
     "output_type": "stream",
     "text": [
      "Accuracy with noise_percent=0.15000000000000002: 29.05%\n",
      "\n",
      "Evaluating Salt-and-Pepper Noise with noise_percent = 0.2\n"
     ]
    },
    {
     "name": "stderr",
     "output_type": "stream",
     "text": [
      "Adding Noise (percent=0.2): 100%|██████████| 313/313 [00:19<00:00, 15.91it/s]\n"
     ]
    },
    {
     "name": "stdout",
     "output_type": "stream",
     "text": [
      "Accuracy with noise_percent=0.2: 22.70%\n",
      "\n",
      "Evaluating Salt-and-Pepper Noise with noise_percent = 0.25\n"
     ]
    },
    {
     "name": "stderr",
     "output_type": "stream",
     "text": [
      "Adding Noise (percent=0.25): 100%|██████████| 313/313 [00:22<00:00, 14.21it/s]\n"
     ]
    },
    {
     "name": "stdout",
     "output_type": "stream",
     "text": [
      "Accuracy with noise_percent=0.25: 19.33%\n",
      "\n",
      "Evaluating Salt-and-Pepper Noise with noise_percent = 0.30000000000000004\n"
     ]
    },
    {
     "name": "stderr",
     "output_type": "stream",
     "text": [
      "Adding Noise (percent=0.30000000000000004): 100%|██████████| 313/313 [00:24<00:00, 12.76it/s]\n"
     ]
    },
    {
     "name": "stdout",
     "output_type": "stream",
     "text": [
      "Accuracy with noise_percent=0.30000000000000004: 17.10%\n",
      "\n",
      "Evaluating Salt-and-Pepper Noise with noise_percent = 0.35000000000000003\n"
     ]
    },
    {
     "name": "stderr",
     "output_type": "stream",
     "text": [
      "Adding Noise (percent=0.35000000000000003): 100%|██████████| 313/313 [00:27<00:00, 11.56it/s]\n"
     ]
    },
    {
     "name": "stdout",
     "output_type": "stream",
     "text": [
      "Accuracy with noise_percent=0.35000000000000003: 15.89%\n",
      "\n",
      "Evaluating Salt-and-Pepper Noise with noise_percent = 0.4\n"
     ]
    },
    {
     "name": "stderr",
     "output_type": "stream",
     "text": [
      "Adding Noise (percent=0.4): 100%|██████████| 313/313 [00:29<00:00, 10.65it/s]\n"
     ]
    },
    {
     "name": "stdout",
     "output_type": "stream",
     "text": [
      "Accuracy with noise_percent=0.4: 14.71%\n",
      "\n",
      "Evaluating Salt-and-Pepper Noise with noise_percent = 0.45\n"
     ]
    },
    {
     "name": "stderr",
     "output_type": "stream",
     "text": [
      "Adding Noise (percent=0.45): 100%|██████████| 313/313 [00:31<00:00,  9.95it/s]\n"
     ]
    },
    {
     "name": "stdout",
     "output_type": "stream",
     "text": [
      "Accuracy with noise_percent=0.45: 14.37%\n",
      "\n",
      "Evaluating Salt-and-Pepper Noise with noise_percent = 0.5\n"
     ]
    },
    {
     "name": "stderr",
     "output_type": "stream",
     "text": [
      "Adding Noise (percent=0.5): 100%|██████████| 313/313 [00:33<00:00,  9.22it/s]\n"
     ]
    },
    {
     "name": "stdout",
     "output_type": "stream",
     "text": [
      "Accuracy with noise_percent=0.5: 13.78%\n",
      "--------------------------\n",
      "Running PGD......... KD_model_4_14.pth\n"
     ]
    },
    {
     "name": "stderr",
     "output_type": "stream",
     "text": [
      "                                                            \r"
     ]
    },
    {
     "name": "stdout",
     "output_type": "stream",
     "text": [
      "Accuracy with epsilon 0.0: 87.50%\n"
     ]
    },
    {
     "name": "stderr",
     "output_type": "stream",
     "text": [
      "                                                            \r"
     ]
    },
    {
     "name": "stdout",
     "output_type": "stream",
     "text": [
      "Accuracy with epsilon 0.00029411764705882356: 90.62%\n"
     ]
    },
    {
     "name": "stderr",
     "output_type": "stream",
     "text": [
      "                                                            \r"
     ]
    },
    {
     "name": "stdout",
     "output_type": "stream",
     "text": [
      "Accuracy with epsilon 0.0005882352941176471: 93.75%\n"
     ]
    },
    {
     "name": "stderr",
     "output_type": "stream",
     "text": [
      "                                                            \r"
     ]
    },
    {
     "name": "stdout",
     "output_type": "stream",
     "text": [
      "Accuracy with epsilon 0.0008823529411764705: 93.75%\n"
     ]
    },
    {
     "name": "stderr",
     "output_type": "stream",
     "text": [
      "                                                            \r"
     ]
    },
    {
     "name": "stdout",
     "output_type": "stream",
     "text": [
      "Accuracy with epsilon 0.0011764705882352942: 90.62%\n"
     ]
    },
    {
     "name": "stderr",
     "output_type": "stream",
     "text": [
      "                                                            \r"
     ]
    },
    {
     "name": "stdout",
     "output_type": "stream",
     "text": [
      "Accuracy with epsilon 0.0014705882352941176: 87.50%\n"
     ]
    },
    {
     "name": "stderr",
     "output_type": "stream",
     "text": [
      "                                                            \r"
     ]
    },
    {
     "name": "stdout",
     "output_type": "stream",
     "text": [
      "Accuracy with epsilon 0.001764705882352941: 84.38%\n"
     ]
    },
    {
     "name": "stderr",
     "output_type": "stream",
     "text": [
      "                                                            \r"
     ]
    },
    {
     "name": "stdout",
     "output_type": "stream",
     "text": [
      "Accuracy with epsilon 0.002058823529411765: 78.12%\n"
     ]
    },
    {
     "name": "stderr",
     "output_type": "stream",
     "text": [
      "                                                            \r"
     ]
    },
    {
     "name": "stdout",
     "output_type": "stream",
     "text": [
      "Accuracy with epsilon 0.0023529411764705885: 75.00%\n"
     ]
    },
    {
     "name": "stderr",
     "output_type": "stream",
     "text": [
      "                                                            \r"
     ]
    },
    {
     "name": "stdout",
     "output_type": "stream",
     "text": [
      "Accuracy with epsilon 0.0026470588235294116: 71.88%\n"
     ]
    },
    {
     "name": "stderr",
     "output_type": "stream",
     "text": [
      "                                                            \r"
     ]
    },
    {
     "name": "stdout",
     "output_type": "stream",
     "text": [
      "Accuracy with epsilon 0.0029411764705882353: 59.38%\n"
     ]
    },
    {
     "name": "stderr",
     "output_type": "stream",
     "text": [
      "                                                            \r"
     ]
    },
    {
     "name": "stdout",
     "output_type": "stream",
     "text": [
      "Accuracy with epsilon 0.003235294117647059: 56.25%\n"
     ]
    },
    {
     "name": "stderr",
     "output_type": "stream",
     "text": [
      "                                                            \r"
     ]
    },
    {
     "name": "stdout",
     "output_type": "stream",
     "text": [
      "Accuracy with epsilon 0.003529411764705882: 53.12%\n"
     ]
    },
    {
     "name": "stderr",
     "output_type": "stream",
     "text": [
      "                                                            \r"
     ]
    },
    {
     "name": "stdout",
     "output_type": "stream",
     "text": [
      "Accuracy with epsilon 0.003823529411764706: 53.12%\n"
     ]
    },
    {
     "name": "stderr",
     "output_type": "stream",
     "text": [
      "                                                            \r"
     ]
    },
    {
     "name": "stdout",
     "output_type": "stream",
     "text": [
      "Accuracy with epsilon 0.00411764705882353: 50.00%\n"
     ]
    },
    {
     "name": "stderr",
     "output_type": "stream",
     "text": [
      "                                                            \r"
     ]
    },
    {
     "name": "stdout",
     "output_type": "stream",
     "text": [
      "Accuracy with epsilon 0.004411764705882353: 46.88%\n"
     ]
    },
    {
     "name": "stderr",
     "output_type": "stream",
     "text": [
      "                                                            \r"
     ]
    },
    {
     "name": "stdout",
     "output_type": "stream",
     "text": [
      "Accuracy with epsilon 0.004705882352941177: 40.62%\n"
     ]
    },
    {
     "name": "stderr",
     "output_type": "stream",
     "text": [
      "                                                            \r"
     ]
    },
    {
     "name": "stdout",
     "output_type": "stream",
     "text": [
      "Accuracy with epsilon 0.005: 40.62%\n",
      "Running SNP......... KD_model_4_14.pth\n",
      "\n",
      "Evaluating Salt-and-Pepper Noise with noise_percent = 0.0\n"
     ]
    },
    {
     "name": "stderr",
     "output_type": "stream",
     "text": [
      "Adding Noise (percent=0.0): 100%|██████████| 313/313 [00:09<00:00, 32.02it/s]\n"
     ]
    },
    {
     "name": "stdout",
     "output_type": "stream",
     "text": [
      "Accuracy with noise_percent=0.0: 84.98%\n",
      "\n",
      "Evaluating Salt-and-Pepper Noise with noise_percent = 0.05\n"
     ]
    },
    {
     "name": "stderr",
     "output_type": "stream",
     "text": [
      "Adding Noise (percent=0.05): 100%|██████████| 313/313 [00:11<00:00, 27.04it/s]\n"
     ]
    },
    {
     "name": "stdout",
     "output_type": "stream",
     "text": [
      "Accuracy with noise_percent=0.05: 56.08%\n",
      "\n",
      "Evaluating Salt-and-Pepper Noise with noise_percent = 0.1\n"
     ]
    },
    {
     "name": "stderr",
     "output_type": "stream",
     "text": [
      "Adding Noise (percent=0.1): 100%|██████████| 313/313 [00:14<00:00, 22.21it/s]\n"
     ]
    },
    {
     "name": "stdout",
     "output_type": "stream",
     "text": [
      "Accuracy with noise_percent=0.1: 34.21%\n",
      "\n",
      "Evaluating Salt-and-Pepper Noise with noise_percent = 0.15000000000000002\n"
     ]
    },
    {
     "name": "stderr",
     "output_type": "stream",
     "text": [
      "Adding Noise (percent=0.15000000000000002): 100%|██████████| 313/313 [00:17<00:00, 18.31it/s]\n"
     ]
    },
    {
     "name": "stdout",
     "output_type": "stream",
     "text": [
      "Accuracy with noise_percent=0.15000000000000002: 22.02%\n",
      "\n",
      "Evaluating Salt-and-Pepper Noise with noise_percent = 0.2\n"
     ]
    },
    {
     "name": "stderr",
     "output_type": "stream",
     "text": [
      "Adding Noise (percent=0.2): 100%|██████████| 313/313 [00:19<00:00, 15.83it/s]\n"
     ]
    },
    {
     "name": "stdout",
     "output_type": "stream",
     "text": [
      "Accuracy with noise_percent=0.2: 16.89%\n",
      "\n",
      "Evaluating Salt-and-Pepper Noise with noise_percent = 0.25\n"
     ]
    },
    {
     "name": "stderr",
     "output_type": "stream",
     "text": [
      "Adding Noise (percent=0.25): 100%|██████████| 313/313 [00:22<00:00, 14.17it/s]\n"
     ]
    },
    {
     "name": "stdout",
     "output_type": "stream",
     "text": [
      "Accuracy with noise_percent=0.25: 14.00%\n",
      "\n",
      "Evaluating Salt-and-Pepper Noise with noise_percent = 0.30000000000000004\n"
     ]
    },
    {
     "name": "stderr",
     "output_type": "stream",
     "text": [
      "Adding Noise (percent=0.30000000000000004): 100%|██████████| 313/313 [00:24<00:00, 12.76it/s]\n"
     ]
    },
    {
     "name": "stdout",
     "output_type": "stream",
     "text": [
      "Accuracy with noise_percent=0.30000000000000004: 12.45%\n",
      "\n",
      "Evaluating Salt-and-Pepper Noise with noise_percent = 0.35000000000000003\n"
     ]
    },
    {
     "name": "stderr",
     "output_type": "stream",
     "text": [
      "Adding Noise (percent=0.35000000000000003): 100%|██████████| 313/313 [00:26<00:00, 11.70it/s]\n"
     ]
    },
    {
     "name": "stdout",
     "output_type": "stream",
     "text": [
      "Accuracy with noise_percent=0.35000000000000003: 11.40%\n",
      "\n",
      "Evaluating Salt-and-Pepper Noise with noise_percent = 0.4\n"
     ]
    },
    {
     "name": "stderr",
     "output_type": "stream",
     "text": [
      "Adding Noise (percent=0.4): 100%|██████████| 313/313 [00:29<00:00, 10.76it/s]\n"
     ]
    },
    {
     "name": "stdout",
     "output_type": "stream",
     "text": [
      "Accuracy with noise_percent=0.4: 10.99%\n",
      "\n",
      "Evaluating Salt-and-Pepper Noise with noise_percent = 0.45\n"
     ]
    },
    {
     "name": "stderr",
     "output_type": "stream",
     "text": [
      "Adding Noise (percent=0.45): 100%|██████████| 313/313 [00:31<00:00, 10.01it/s]\n"
     ]
    },
    {
     "name": "stdout",
     "output_type": "stream",
     "text": [
      "Accuracy with noise_percent=0.45: 10.65%\n",
      "\n",
      "Evaluating Salt-and-Pepper Noise with noise_percent = 0.5\n"
     ]
    },
    {
     "name": "stderr",
     "output_type": "stream",
     "text": [
      "Adding Noise (percent=0.5): 100%|██████████| 313/313 [00:33<00:00,  9.26it/s]\n"
     ]
    },
    {
     "name": "stdout",
     "output_type": "stream",
     "text": [
      "Accuracy with noise_percent=0.5: 10.47%\n",
      "--------------------------\n",
      "Running PGD......... KD_model_5_15.pth\n"
     ]
    },
    {
     "name": "stderr",
     "output_type": "stream",
     "text": [
      "                                                            \r"
     ]
    },
    {
     "name": "stdout",
     "output_type": "stream",
     "text": [
      "Accuracy with epsilon 0.0: 87.50%\n"
     ]
    },
    {
     "name": "stderr",
     "output_type": "stream",
     "text": [
      "                                                            \r"
     ]
    },
    {
     "name": "stdout",
     "output_type": "stream",
     "text": [
      "Accuracy with epsilon 0.00029411764705882356: 90.62%\n"
     ]
    },
    {
     "name": "stderr",
     "output_type": "stream",
     "text": [
      "                                                            \r"
     ]
    },
    {
     "name": "stdout",
     "output_type": "stream",
     "text": [
      "Accuracy with epsilon 0.0005882352941176471: 87.50%\n"
     ]
    },
    {
     "name": "stderr",
     "output_type": "stream",
     "text": [
      "                                                            \r"
     ]
    },
    {
     "name": "stdout",
     "output_type": "stream",
     "text": [
      "Accuracy with epsilon 0.0008823529411764705: 90.62%\n"
     ]
    },
    {
     "name": "stderr",
     "output_type": "stream",
     "text": [
      "                                                            \r"
     ]
    },
    {
     "name": "stdout",
     "output_type": "stream",
     "text": [
      "Accuracy with epsilon 0.0011764705882352942: 81.25%\n"
     ]
    },
    {
     "name": "stderr",
     "output_type": "stream",
     "text": [
      "                                                            \r"
     ]
    },
    {
     "name": "stdout",
     "output_type": "stream",
     "text": [
      "Accuracy with epsilon 0.0014705882352941176: 75.00%\n"
     ]
    },
    {
     "name": "stderr",
     "output_type": "stream",
     "text": [
      "                                                            \r"
     ]
    },
    {
     "name": "stdout",
     "output_type": "stream",
     "text": [
      "Accuracy with epsilon 0.001764705882352941: 71.88%\n"
     ]
    },
    {
     "name": "stderr",
     "output_type": "stream",
     "text": [
      "                                                            \r"
     ]
    },
    {
     "name": "stdout",
     "output_type": "stream",
     "text": [
      "Accuracy with epsilon 0.002058823529411765: 71.88%\n"
     ]
    },
    {
     "name": "stderr",
     "output_type": "stream",
     "text": [
      "                                                            \r"
     ]
    },
    {
     "name": "stdout",
     "output_type": "stream",
     "text": [
      "Accuracy with epsilon 0.0023529411764705885: 62.50%\n"
     ]
    },
    {
     "name": "stderr",
     "output_type": "stream",
     "text": [
      "                                                            \r"
     ]
    },
    {
     "name": "stdout",
     "output_type": "stream",
     "text": [
      "Accuracy with epsilon 0.0026470588235294116: 59.38%\n"
     ]
    },
    {
     "name": "stderr",
     "output_type": "stream",
     "text": [
      "                                                            \r"
     ]
    },
    {
     "name": "stdout",
     "output_type": "stream",
     "text": [
      "Accuracy with epsilon 0.0029411764705882353: 53.12%\n"
     ]
    },
    {
     "name": "stderr",
     "output_type": "stream",
     "text": [
      "                                                            \r"
     ]
    },
    {
     "name": "stdout",
     "output_type": "stream",
     "text": [
      "Accuracy with epsilon 0.003235294117647059: 50.00%\n"
     ]
    },
    {
     "name": "stderr",
     "output_type": "stream",
     "text": [
      "                                                            \r"
     ]
    },
    {
     "name": "stdout",
     "output_type": "stream",
     "text": [
      "Accuracy with epsilon 0.003529411764705882: 46.88%\n"
     ]
    },
    {
     "name": "stderr",
     "output_type": "stream",
     "text": [
      "                                                            \r"
     ]
    },
    {
     "name": "stdout",
     "output_type": "stream",
     "text": [
      "Accuracy with epsilon 0.003823529411764706: 43.75%\n"
     ]
    },
    {
     "name": "stderr",
     "output_type": "stream",
     "text": [
      "                                                            \r"
     ]
    },
    {
     "name": "stdout",
     "output_type": "stream",
     "text": [
      "Accuracy with epsilon 0.00411764705882353: 40.62%\n"
     ]
    },
    {
     "name": "stderr",
     "output_type": "stream",
     "text": [
      "                                                            \r"
     ]
    },
    {
     "name": "stdout",
     "output_type": "stream",
     "text": [
      "Accuracy with epsilon 0.004411764705882353: 40.62%\n"
     ]
    },
    {
     "name": "stderr",
     "output_type": "stream",
     "text": [
      "                                                            \r"
     ]
    },
    {
     "name": "stdout",
     "output_type": "stream",
     "text": [
      "Accuracy with epsilon 0.004705882352941177: 34.38%\n"
     ]
    },
    {
     "name": "stderr",
     "output_type": "stream",
     "text": [
      "                                                            \r"
     ]
    },
    {
     "name": "stdout",
     "output_type": "stream",
     "text": [
      "Accuracy with epsilon 0.005: 34.38%\n",
      "Running SNP......... KD_model_5_15.pth\n",
      "\n",
      "Evaluating Salt-and-Pepper Noise with noise_percent = 0.0\n"
     ]
    },
    {
     "name": "stderr",
     "output_type": "stream",
     "text": [
      "Adding Noise (percent=0.0): 100%|██████████| 313/313 [00:09<00:00, 31.71it/s]\n"
     ]
    },
    {
     "name": "stdout",
     "output_type": "stream",
     "text": [
      "Accuracy with noise_percent=0.0: 85.86%\n",
      "\n",
      "Evaluating Salt-and-Pepper Noise with noise_percent = 0.05\n"
     ]
    },
    {
     "name": "stderr",
     "output_type": "stream",
     "text": [
      "Adding Noise (percent=0.05): 100%|██████████| 313/313 [00:11<00:00, 26.79it/s]\n"
     ]
    },
    {
     "name": "stdout",
     "output_type": "stream",
     "text": [
      "Accuracy with noise_percent=0.05: 62.77%\n",
      "\n",
      "Evaluating Salt-and-Pepper Noise with noise_percent = 0.1\n"
     ]
    },
    {
     "name": "stderr",
     "output_type": "stream",
     "text": [
      "Adding Noise (percent=0.1): 100%|██████████| 313/313 [00:14<00:00, 22.12it/s]\n"
     ]
    },
    {
     "name": "stdout",
     "output_type": "stream",
     "text": [
      "Accuracy with noise_percent=0.1: 45.48%\n",
      "\n",
      "Evaluating Salt-and-Pepper Noise with noise_percent = 0.15000000000000002\n"
     ]
    },
    {
     "name": "stderr",
     "output_type": "stream",
     "text": [
      "Adding Noise (percent=0.15000000000000002): 100%|██████████| 313/313 [00:17<00:00, 18.32it/s]\n"
     ]
    },
    {
     "name": "stdout",
     "output_type": "stream",
     "text": [
      "Accuracy with noise_percent=0.15000000000000002: 33.87%\n",
      "\n",
      "Evaluating Salt-and-Pepper Noise with noise_percent = 0.2\n"
     ]
    },
    {
     "name": "stderr",
     "output_type": "stream",
     "text": [
      "Adding Noise (percent=0.2): 100%|██████████| 313/313 [00:19<00:00, 15.99it/s]\n"
     ]
    },
    {
     "name": "stdout",
     "output_type": "stream",
     "text": [
      "Accuracy with noise_percent=0.2: 26.71%\n",
      "\n",
      "Evaluating Salt-and-Pepper Noise with noise_percent = 0.25\n"
     ]
    },
    {
     "name": "stderr",
     "output_type": "stream",
     "text": [
      "Adding Noise (percent=0.25): 100%|██████████| 313/313 [00:21<00:00, 14.29it/s]\n"
     ]
    },
    {
     "name": "stdout",
     "output_type": "stream",
     "text": [
      "Accuracy with noise_percent=0.25: 22.18%\n",
      "\n",
      "Evaluating Salt-and-Pepper Noise with noise_percent = 0.30000000000000004\n"
     ]
    },
    {
     "name": "stderr",
     "output_type": "stream",
     "text": [
      "Adding Noise (percent=0.30000000000000004): 100%|██████████| 313/313 [00:24<00:00, 12.81it/s]\n"
     ]
    },
    {
     "name": "stdout",
     "output_type": "stream",
     "text": [
      "Accuracy with noise_percent=0.30000000000000004: 18.64%\n",
      "\n",
      "Evaluating Salt-and-Pepper Noise with noise_percent = 0.35000000000000003\n"
     ]
    },
    {
     "name": "stderr",
     "output_type": "stream",
     "text": [
      "Adding Noise (percent=0.35000000000000003): 100%|██████████| 313/313 [00:27<00:00, 11.57it/s]\n"
     ]
    },
    {
     "name": "stdout",
     "output_type": "stream",
     "text": [
      "Accuracy with noise_percent=0.35000000000000003: 16.64%\n",
      "\n",
      "Evaluating Salt-and-Pepper Noise with noise_percent = 0.4\n"
     ]
    },
    {
     "name": "stderr",
     "output_type": "stream",
     "text": [
      "Adding Noise (percent=0.4): 100%|██████████| 313/313 [00:29<00:00, 10.72it/s]\n"
     ]
    },
    {
     "name": "stdout",
     "output_type": "stream",
     "text": [
      "Accuracy with noise_percent=0.4: 15.18%\n",
      "\n",
      "Evaluating Salt-and-Pepper Noise with noise_percent = 0.45\n"
     ]
    },
    {
     "name": "stderr",
     "output_type": "stream",
     "text": [
      "Adding Noise (percent=0.45): 100%|██████████| 313/313 [00:31<00:00,  9.91it/s]\n"
     ]
    },
    {
     "name": "stdout",
     "output_type": "stream",
     "text": [
      "Accuracy with noise_percent=0.45: 14.36%\n",
      "\n",
      "Evaluating Salt-and-Pepper Noise with noise_percent = 0.5\n"
     ]
    },
    {
     "name": "stderr",
     "output_type": "stream",
     "text": [
      "Adding Noise (percent=0.5): 100%|██████████| 313/313 [00:34<00:00,  9.15it/s]\n"
     ]
    },
    {
     "name": "stdout",
     "output_type": "stream",
     "text": [
      "Accuracy with noise_percent=0.5: 13.61%\n",
      "--------------------------\n",
      "Running PGD......... KD_model_5_16.pth\n"
     ]
    },
    {
     "name": "stderr",
     "output_type": "stream",
     "text": [
      "                                                            \r"
     ]
    },
    {
     "name": "stdout",
     "output_type": "stream",
     "text": [
      "Accuracy with epsilon 0.0: 96.88%\n"
     ]
    },
    {
     "name": "stderr",
     "output_type": "stream",
     "text": [
      "                                                            \r"
     ]
    },
    {
     "name": "stdout",
     "output_type": "stream",
     "text": [
      "Accuracy with epsilon 0.00029411764705882356: 100.00%\n"
     ]
    },
    {
     "name": "stderr",
     "output_type": "stream",
     "text": [
      "                                                            \r"
     ]
    },
    {
     "name": "stdout",
     "output_type": "stream",
     "text": [
      "Accuracy with epsilon 0.0005882352941176471: 96.88%\n"
     ]
    },
    {
     "name": "stderr",
     "output_type": "stream",
     "text": [
      "                                                            \r"
     ]
    },
    {
     "name": "stdout",
     "output_type": "stream",
     "text": [
      "Accuracy with epsilon 0.0008823529411764705: 90.62%\n"
     ]
    },
    {
     "name": "stderr",
     "output_type": "stream",
     "text": [
      "                                                            \r"
     ]
    },
    {
     "name": "stdout",
     "output_type": "stream",
     "text": [
      "Accuracy with epsilon 0.0011764705882352942: 84.38%\n"
     ]
    },
    {
     "name": "stderr",
     "output_type": "stream",
     "text": [
      "                                                            \r"
     ]
    },
    {
     "name": "stdout",
     "output_type": "stream",
     "text": [
      "Accuracy with epsilon 0.0014705882352941176: 75.00%\n"
     ]
    },
    {
     "name": "stderr",
     "output_type": "stream",
     "text": [
      "                                                            \r"
     ]
    },
    {
     "name": "stdout",
     "output_type": "stream",
     "text": [
      "Accuracy with epsilon 0.001764705882352941: 62.50%\n"
     ]
    },
    {
     "name": "stderr",
     "output_type": "stream",
     "text": [
      "                                                            \r"
     ]
    },
    {
     "name": "stdout",
     "output_type": "stream",
     "text": [
      "Accuracy with epsilon 0.002058823529411765: 62.50%\n"
     ]
    },
    {
     "name": "stderr",
     "output_type": "stream",
     "text": [
      "                                                            \r"
     ]
    },
    {
     "name": "stdout",
     "output_type": "stream",
     "text": [
      "Accuracy with epsilon 0.0023529411764705885: 50.00%\n"
     ]
    },
    {
     "name": "stderr",
     "output_type": "stream",
     "text": [
      "                                                            \r"
     ]
    },
    {
     "name": "stdout",
     "output_type": "stream",
     "text": [
      "Accuracy with epsilon 0.0026470588235294116: 43.75%\n"
     ]
    },
    {
     "name": "stderr",
     "output_type": "stream",
     "text": [
      "                                                            \r"
     ]
    },
    {
     "name": "stdout",
     "output_type": "stream",
     "text": [
      "Accuracy with epsilon 0.0029411764705882353: 34.38%\n"
     ]
    },
    {
     "name": "stderr",
     "output_type": "stream",
     "text": [
      "                                                            \r"
     ]
    },
    {
     "name": "stdout",
     "output_type": "stream",
     "text": [
      "Accuracy with epsilon 0.003235294117647059: 31.25%\n"
     ]
    },
    {
     "name": "stderr",
     "output_type": "stream",
     "text": [
      "                                                            \r"
     ]
    },
    {
     "name": "stdout",
     "output_type": "stream",
     "text": [
      "Accuracy with epsilon 0.003529411764705882: 28.12%\n"
     ]
    },
    {
     "name": "stderr",
     "output_type": "stream",
     "text": [
      "                                                            \r"
     ]
    },
    {
     "name": "stdout",
     "output_type": "stream",
     "text": [
      "Accuracy with epsilon 0.003823529411764706: 28.12%\n"
     ]
    },
    {
     "name": "stderr",
     "output_type": "stream",
     "text": [
      "                                                            \r"
     ]
    },
    {
     "name": "stdout",
     "output_type": "stream",
     "text": [
      "Accuracy with epsilon 0.00411764705882353: 25.00%\n"
     ]
    },
    {
     "name": "stderr",
     "output_type": "stream",
     "text": [
      "                                                            \r"
     ]
    },
    {
     "name": "stdout",
     "output_type": "stream",
     "text": [
      "Accuracy with epsilon 0.004411764705882353: 21.88%\n"
     ]
    },
    {
     "name": "stderr",
     "output_type": "stream",
     "text": [
      "                                                            \r"
     ]
    },
    {
     "name": "stdout",
     "output_type": "stream",
     "text": [
      "Accuracy with epsilon 0.004705882352941177: 21.88%\n"
     ]
    },
    {
     "name": "stderr",
     "output_type": "stream",
     "text": [
      "                                                            \r"
     ]
    },
    {
     "name": "stdout",
     "output_type": "stream",
     "text": [
      "Accuracy with epsilon 0.005: 18.75%\n",
      "Running SNP......... KD_model_5_16.pth\n",
      "\n",
      "Evaluating Salt-and-Pepper Noise with noise_percent = 0.0\n"
     ]
    },
    {
     "name": "stderr",
     "output_type": "stream",
     "text": [
      "Adding Noise (percent=0.0): 100%|██████████| 313/313 [00:09<00:00, 32.46it/s]\n"
     ]
    },
    {
     "name": "stdout",
     "output_type": "stream",
     "text": [
      "Accuracy with noise_percent=0.0: 85.94%\n",
      "\n",
      "Evaluating Salt-and-Pepper Noise with noise_percent = 0.05\n"
     ]
    },
    {
     "name": "stderr",
     "output_type": "stream",
     "text": [
      "Adding Noise (percent=0.05): 100%|██████████| 313/313 [00:11<00:00, 26.95it/s]\n"
     ]
    },
    {
     "name": "stdout",
     "output_type": "stream",
     "text": [
      "Accuracy with noise_percent=0.05: 54.94%\n",
      "\n",
      "Evaluating Salt-and-Pepper Noise with noise_percent = 0.1\n"
     ]
    },
    {
     "name": "stderr",
     "output_type": "stream",
     "text": [
      "Adding Noise (percent=0.1): 100%|██████████| 313/313 [00:14<00:00, 22.23it/s]\n"
     ]
    },
    {
     "name": "stdout",
     "output_type": "stream",
     "text": [
      "Accuracy with noise_percent=0.1: 36.83%\n",
      "\n",
      "Evaluating Salt-and-Pepper Noise with noise_percent = 0.15000000000000002\n"
     ]
    },
    {
     "name": "stderr",
     "output_type": "stream",
     "text": [
      "Adding Noise (percent=0.15000000000000002): 100%|██████████| 313/313 [00:17<00:00, 18.41it/s]\n"
     ]
    },
    {
     "name": "stdout",
     "output_type": "stream",
     "text": [
      "Accuracy with noise_percent=0.15000000000000002: 26.43%\n",
      "\n",
      "Evaluating Salt-and-Pepper Noise with noise_percent = 0.2\n"
     ]
    },
    {
     "name": "stderr",
     "output_type": "stream",
     "text": [
      "Adding Noise (percent=0.2): 100%|██████████| 313/313 [00:19<00:00, 15.95it/s]\n"
     ]
    },
    {
     "name": "stdout",
     "output_type": "stream",
     "text": [
      "Accuracy with noise_percent=0.2: 21.58%\n",
      "\n",
      "Evaluating Salt-and-Pepper Noise with noise_percent = 0.25\n"
     ]
    },
    {
     "name": "stderr",
     "output_type": "stream",
     "text": [
      "Adding Noise (percent=0.25): 100%|██████████| 313/313 [00:21<00:00, 14.25it/s]\n"
     ]
    },
    {
     "name": "stdout",
     "output_type": "stream",
     "text": [
      "Accuracy with noise_percent=0.25: 18.60%\n",
      "\n",
      "Evaluating Salt-and-Pepper Noise with noise_percent = 0.30000000000000004\n"
     ]
    },
    {
     "name": "stderr",
     "output_type": "stream",
     "text": [
      "Adding Noise (percent=0.30000000000000004): 100%|██████████| 313/313 [00:24<00:00, 12.82it/s]\n"
     ]
    },
    {
     "name": "stdout",
     "output_type": "stream",
     "text": [
      "Accuracy with noise_percent=0.30000000000000004: 16.84%\n",
      "\n",
      "Evaluating Salt-and-Pepper Noise with noise_percent = 0.35000000000000003\n"
     ]
    },
    {
     "name": "stderr",
     "output_type": "stream",
     "text": [
      "Adding Noise (percent=0.35000000000000003): 100%|██████████| 313/313 [00:26<00:00, 11.61it/s]\n"
     ]
    },
    {
     "name": "stdout",
     "output_type": "stream",
     "text": [
      "Accuracy with noise_percent=0.35000000000000003: 15.82%\n",
      "\n",
      "Evaluating Salt-and-Pepper Noise with noise_percent = 0.4\n"
     ]
    },
    {
     "name": "stderr",
     "output_type": "stream",
     "text": [
      "Adding Noise (percent=0.4): 100%|██████████| 313/313 [00:29<00:00, 10.64it/s]\n"
     ]
    },
    {
     "name": "stdout",
     "output_type": "stream",
     "text": [
      "Accuracy with noise_percent=0.4: 14.92%\n",
      "\n",
      "Evaluating Salt-and-Pepper Noise with noise_percent = 0.45\n"
     ]
    },
    {
     "name": "stderr",
     "output_type": "stream",
     "text": [
      "Adding Noise (percent=0.45): 100%|██████████| 313/313 [00:31<00:00,  9.90it/s]\n"
     ]
    },
    {
     "name": "stdout",
     "output_type": "stream",
     "text": [
      "Accuracy with noise_percent=0.45: 13.93%\n",
      "\n",
      "Evaluating Salt-and-Pepper Noise with noise_percent = 0.5\n"
     ]
    },
    {
     "name": "stderr",
     "output_type": "stream",
     "text": [
      "Adding Noise (percent=0.5): 100%|██████████| 313/313 [00:33<00:00,  9.26it/s]\n"
     ]
    },
    {
     "name": "stdout",
     "output_type": "stream",
     "text": [
      "Accuracy with noise_percent=0.5: 13.91%\n",
      "--------------------------\n",
      "Running PGD......... KD_model_5_17.pth\n"
     ]
    },
    {
     "name": "stderr",
     "output_type": "stream",
     "text": [
      "                                                            \r"
     ]
    },
    {
     "name": "stdout",
     "output_type": "stream",
     "text": [
      "Accuracy with epsilon 0.0: 87.50%\n"
     ]
    },
    {
     "name": "stderr",
     "output_type": "stream",
     "text": [
      "                                                            \r"
     ]
    },
    {
     "name": "stdout",
     "output_type": "stream",
     "text": [
      "Accuracy with epsilon 0.00029411764705882356: 87.50%\n"
     ]
    },
    {
     "name": "stderr",
     "output_type": "stream",
     "text": [
      "                                                            \r"
     ]
    },
    {
     "name": "stdout",
     "output_type": "stream",
     "text": [
      "Accuracy with epsilon 0.0005882352941176471: 87.50%\n"
     ]
    },
    {
     "name": "stderr",
     "output_type": "stream",
     "text": [
      "                                                            \r"
     ]
    },
    {
     "name": "stdout",
     "output_type": "stream",
     "text": [
      "Accuracy with epsilon 0.0008823529411764705: 81.25%\n"
     ]
    },
    {
     "name": "stderr",
     "output_type": "stream",
     "text": [
      "                                                            \r"
     ]
    },
    {
     "name": "stdout",
     "output_type": "stream",
     "text": [
      "Accuracy with epsilon 0.0011764705882352942: 81.25%\n"
     ]
    },
    {
     "name": "stderr",
     "output_type": "stream",
     "text": [
      "                                                            \r"
     ]
    },
    {
     "name": "stdout",
     "output_type": "stream",
     "text": [
      "Accuracy with epsilon 0.0014705882352941176: 78.12%\n"
     ]
    },
    {
     "name": "stderr",
     "output_type": "stream",
     "text": [
      "                                                            \r"
     ]
    },
    {
     "name": "stdout",
     "output_type": "stream",
     "text": [
      "Accuracy with epsilon 0.001764705882352941: 71.88%\n"
     ]
    },
    {
     "name": "stderr",
     "output_type": "stream",
     "text": [
      "                                                            \r"
     ]
    },
    {
     "name": "stdout",
     "output_type": "stream",
     "text": [
      "Accuracy with epsilon 0.002058823529411765: 68.75%\n"
     ]
    },
    {
     "name": "stderr",
     "output_type": "stream",
     "text": [
      "                                                            \r"
     ]
    },
    {
     "name": "stdout",
     "output_type": "stream",
     "text": [
      "Accuracy with epsilon 0.0023529411764705885: 62.50%\n"
     ]
    },
    {
     "name": "stderr",
     "output_type": "stream",
     "text": [
      "                                                            \r"
     ]
    },
    {
     "name": "stdout",
     "output_type": "stream",
     "text": [
      "Accuracy with epsilon 0.0026470588235294116: 56.25%\n"
     ]
    },
    {
     "name": "stderr",
     "output_type": "stream",
     "text": [
      "                                                            \r"
     ]
    },
    {
     "name": "stdout",
     "output_type": "stream",
     "text": [
      "Accuracy with epsilon 0.0029411764705882353: 50.00%\n"
     ]
    },
    {
     "name": "stderr",
     "output_type": "stream",
     "text": [
      "                                                            \r"
     ]
    },
    {
     "name": "stdout",
     "output_type": "stream",
     "text": [
      "Accuracy with epsilon 0.003235294117647059: 50.00%\n"
     ]
    },
    {
     "name": "stderr",
     "output_type": "stream",
     "text": [
      "                                                            \r"
     ]
    },
    {
     "name": "stdout",
     "output_type": "stream",
     "text": [
      "Accuracy with epsilon 0.003529411764705882: 46.88%\n"
     ]
    },
    {
     "name": "stderr",
     "output_type": "stream",
     "text": [
      "                                                            \r"
     ]
    },
    {
     "name": "stdout",
     "output_type": "stream",
     "text": [
      "Accuracy with epsilon 0.003823529411764706: 46.88%\n"
     ]
    },
    {
     "name": "stderr",
     "output_type": "stream",
     "text": [
      "                                                            \r"
     ]
    },
    {
     "name": "stdout",
     "output_type": "stream",
     "text": [
      "Accuracy with epsilon 0.00411764705882353: 43.75%\n"
     ]
    },
    {
     "name": "stderr",
     "output_type": "stream",
     "text": [
      "                                                            \r"
     ]
    },
    {
     "name": "stdout",
     "output_type": "stream",
     "text": [
      "Accuracy with epsilon 0.004411764705882353: 37.50%\n"
     ]
    },
    {
     "name": "stderr",
     "output_type": "stream",
     "text": [
      "                                                            \r"
     ]
    },
    {
     "name": "stdout",
     "output_type": "stream",
     "text": [
      "Accuracy with epsilon 0.004705882352941177: 34.38%\n"
     ]
    },
    {
     "name": "stderr",
     "output_type": "stream",
     "text": [
      "                                                            \r"
     ]
    },
    {
     "name": "stdout",
     "output_type": "stream",
     "text": [
      "Accuracy with epsilon 0.005: 37.50%\n",
      "Running SNP......... KD_model_5_17.pth\n",
      "\n",
      "Evaluating Salt-and-Pepper Noise with noise_percent = 0.0\n"
     ]
    },
    {
     "name": "stderr",
     "output_type": "stream",
     "text": [
      "Adding Noise (percent=0.0): 100%|██████████| 313/313 [00:09<00:00, 32.33it/s]\n"
     ]
    },
    {
     "name": "stdout",
     "output_type": "stream",
     "text": [
      "Accuracy with noise_percent=0.0: 85.26%\n",
      "\n",
      "Evaluating Salt-and-Pepper Noise with noise_percent = 0.05\n"
     ]
    },
    {
     "name": "stderr",
     "output_type": "stream",
     "text": [
      "Adding Noise (percent=0.05): 100%|██████████| 313/313 [00:11<00:00, 27.01it/s]\n"
     ]
    },
    {
     "name": "stdout",
     "output_type": "stream",
     "text": [
      "Accuracy with noise_percent=0.05: 59.66%\n",
      "\n",
      "Evaluating Salt-and-Pepper Noise with noise_percent = 0.1\n"
     ]
    },
    {
     "name": "stderr",
     "output_type": "stream",
     "text": [
      "Adding Noise (percent=0.1): 100%|██████████| 313/313 [00:14<00:00, 22.16it/s]\n"
     ]
    },
    {
     "name": "stdout",
     "output_type": "stream",
     "text": [
      "Accuracy with noise_percent=0.1: 41.24%\n",
      "\n",
      "Evaluating Salt-and-Pepper Noise with noise_percent = 0.15000000000000002\n"
     ]
    },
    {
     "name": "stderr",
     "output_type": "stream",
     "text": [
      "Adding Noise (percent=0.15000000000000002): 100%|██████████| 313/313 [00:17<00:00, 18.35it/s]\n"
     ]
    },
    {
     "name": "stdout",
     "output_type": "stream",
     "text": [
      "Accuracy with noise_percent=0.15000000000000002: 29.76%\n",
      "\n",
      "Evaluating Salt-and-Pepper Noise with noise_percent = 0.2\n"
     ]
    },
    {
     "name": "stderr",
     "output_type": "stream",
     "text": [
      "Adding Noise (percent=0.2): 100%|██████████| 313/313 [00:19<00:00, 15.94it/s]\n"
     ]
    },
    {
     "name": "stdout",
     "output_type": "stream",
     "text": [
      "Accuracy with noise_percent=0.2: 22.59%\n",
      "\n",
      "Evaluating Salt-and-Pepper Noise with noise_percent = 0.25\n"
     ]
    },
    {
     "name": "stderr",
     "output_type": "stream",
     "text": [
      "Adding Noise (percent=0.25): 100%|██████████| 313/313 [00:22<00:00, 14.11it/s]\n"
     ]
    },
    {
     "name": "stdout",
     "output_type": "stream",
     "text": [
      "Accuracy with noise_percent=0.25: 17.98%\n",
      "\n",
      "Evaluating Salt-and-Pepper Noise with noise_percent = 0.30000000000000004\n"
     ]
    },
    {
     "name": "stderr",
     "output_type": "stream",
     "text": [
      "Adding Noise (percent=0.30000000000000004): 100%|██████████| 313/313 [00:24<00:00, 12.76it/s]\n"
     ]
    },
    {
     "name": "stdout",
     "output_type": "stream",
     "text": [
      "Accuracy with noise_percent=0.30000000000000004: 15.77%\n",
      "\n",
      "Evaluating Salt-and-Pepper Noise with noise_percent = 0.35000000000000003\n"
     ]
    },
    {
     "name": "stderr",
     "output_type": "stream",
     "text": [
      "Adding Noise (percent=0.35000000000000003): 100%|██████████| 313/313 [00:26<00:00, 11.67it/s]\n"
     ]
    },
    {
     "name": "stdout",
     "output_type": "stream",
     "text": [
      "Accuracy with noise_percent=0.35000000000000003: 13.89%\n",
      "\n",
      "Evaluating Salt-and-Pepper Noise with noise_percent = 0.4\n"
     ]
    },
    {
     "name": "stderr",
     "output_type": "stream",
     "text": [
      "Adding Noise (percent=0.4): 100%|██████████| 313/313 [00:29<00:00, 10.72it/s]\n"
     ]
    },
    {
     "name": "stdout",
     "output_type": "stream",
     "text": [
      "Accuracy with noise_percent=0.4: 13.01%\n",
      "\n",
      "Evaluating Salt-and-Pepper Noise with noise_percent = 0.45\n"
     ]
    },
    {
     "name": "stderr",
     "output_type": "stream",
     "text": [
      "Adding Noise (percent=0.45): 100%|██████████| 313/313 [00:31<00:00,  9.94it/s]\n"
     ]
    },
    {
     "name": "stdout",
     "output_type": "stream",
     "text": [
      "Accuracy with noise_percent=0.45: 12.10%\n",
      "\n",
      "Evaluating Salt-and-Pepper Noise with noise_percent = 0.5\n"
     ]
    },
    {
     "name": "stderr",
     "output_type": "stream",
     "text": [
      "Adding Noise (percent=0.5): 100%|██████████| 313/313 [00:33<00:00,  9.25it/s]\n"
     ]
    },
    {
     "name": "stdout",
     "output_type": "stream",
     "text": [
      "Accuracy with noise_percent=0.5: 11.63%\n",
      "--------------------------\n",
      "Running PGD......... KD_model_5_18.pth\n"
     ]
    },
    {
     "name": "stderr",
     "output_type": "stream",
     "text": [
      "                                                            \r"
     ]
    },
    {
     "name": "stdout",
     "output_type": "stream",
     "text": [
      "Accuracy with epsilon 0.0: 90.62%\n"
     ]
    },
    {
     "name": "stderr",
     "output_type": "stream",
     "text": [
      "                                                            \r"
     ]
    },
    {
     "name": "stdout",
     "output_type": "stream",
     "text": [
      "Accuracy with epsilon 0.00029411764705882356: 96.88%\n"
     ]
    },
    {
     "name": "stderr",
     "output_type": "stream",
     "text": [
      "                                                            \r"
     ]
    },
    {
     "name": "stdout",
     "output_type": "stream",
     "text": [
      "Accuracy with epsilon 0.0005882352941176471: 100.00%\n"
     ]
    },
    {
     "name": "stderr",
     "output_type": "stream",
     "text": [
      "                                                            \r"
     ]
    },
    {
     "name": "stdout",
     "output_type": "stream",
     "text": [
      "Accuracy with epsilon 0.0008823529411764705: 93.75%\n"
     ]
    },
    {
     "name": "stderr",
     "output_type": "stream",
     "text": [
      "                                                            \r"
     ]
    },
    {
     "name": "stdout",
     "output_type": "stream",
     "text": [
      "Accuracy with epsilon 0.0011764705882352942: 90.62%\n"
     ]
    },
    {
     "name": "stderr",
     "output_type": "stream",
     "text": [
      "                                                            \r"
     ]
    },
    {
     "name": "stdout",
     "output_type": "stream",
     "text": [
      "Accuracy with epsilon 0.0014705882352941176: 87.50%\n"
     ]
    },
    {
     "name": "stderr",
     "output_type": "stream",
     "text": [
      "                                                            \r"
     ]
    },
    {
     "name": "stdout",
     "output_type": "stream",
     "text": [
      "Accuracy with epsilon 0.001764705882352941: 87.50%\n"
     ]
    },
    {
     "name": "stderr",
     "output_type": "stream",
     "text": [
      "                                                            \r"
     ]
    },
    {
     "name": "stdout",
     "output_type": "stream",
     "text": [
      "Accuracy with epsilon 0.002058823529411765: 75.00%\n"
     ]
    },
    {
     "name": "stderr",
     "output_type": "stream",
     "text": [
      "                                                            \r"
     ]
    },
    {
     "name": "stdout",
     "output_type": "stream",
     "text": [
      "Accuracy with epsilon 0.0023529411764705885: 75.00%\n"
     ]
    },
    {
     "name": "stderr",
     "output_type": "stream",
     "text": [
      "                                                            \r"
     ]
    },
    {
     "name": "stdout",
     "output_type": "stream",
     "text": [
      "Accuracy with epsilon 0.0026470588235294116: 68.75%\n"
     ]
    },
    {
     "name": "stderr",
     "output_type": "stream",
     "text": [
      "                                                            \r"
     ]
    },
    {
     "name": "stdout",
     "output_type": "stream",
     "text": [
      "Accuracy with epsilon 0.0029411764705882353: 65.62%\n"
     ]
    },
    {
     "name": "stderr",
     "output_type": "stream",
     "text": [
      "                                                            \r"
     ]
    },
    {
     "name": "stdout",
     "output_type": "stream",
     "text": [
      "Accuracy with epsilon 0.003235294117647059: 62.50%\n"
     ]
    },
    {
     "name": "stderr",
     "output_type": "stream",
     "text": [
      "                                                            \r"
     ]
    },
    {
     "name": "stdout",
     "output_type": "stream",
     "text": [
      "Accuracy with epsilon 0.003529411764705882: 59.38%\n"
     ]
    },
    {
     "name": "stderr",
     "output_type": "stream",
     "text": [
      "                                                            \r"
     ]
    },
    {
     "name": "stdout",
     "output_type": "stream",
     "text": [
      "Accuracy with epsilon 0.003823529411764706: 53.12%\n"
     ]
    },
    {
     "name": "stderr",
     "output_type": "stream",
     "text": [
      "                                                            \r"
     ]
    },
    {
     "name": "stdout",
     "output_type": "stream",
     "text": [
      "Accuracy with epsilon 0.00411764705882353: 50.00%\n"
     ]
    },
    {
     "name": "stderr",
     "output_type": "stream",
     "text": [
      "                                                            \r"
     ]
    },
    {
     "name": "stdout",
     "output_type": "stream",
     "text": [
      "Accuracy with epsilon 0.004411764705882353: 50.00%\n"
     ]
    },
    {
     "name": "stderr",
     "output_type": "stream",
     "text": [
      "                                                            \r"
     ]
    },
    {
     "name": "stdout",
     "output_type": "stream",
     "text": [
      "Accuracy with epsilon 0.004705882352941177: 46.88%\n"
     ]
    },
    {
     "name": "stderr",
     "output_type": "stream",
     "text": [
      "                                                            \r"
     ]
    },
    {
     "name": "stdout",
     "output_type": "stream",
     "text": [
      "Accuracy with epsilon 0.005: 43.75%\n",
      "Running SNP......... KD_model_5_18.pth\n",
      "\n",
      "Evaluating Salt-and-Pepper Noise with noise_percent = 0.0\n"
     ]
    },
    {
     "name": "stderr",
     "output_type": "stream",
     "text": [
      "Adding Noise (percent=0.0): 100%|██████████| 313/313 [00:09<00:00, 32.27it/s]\n"
     ]
    },
    {
     "name": "stdout",
     "output_type": "stream",
     "text": [
      "Accuracy with noise_percent=0.0: 85.97%\n",
      "\n",
      "Evaluating Salt-and-Pepper Noise with noise_percent = 0.05\n"
     ]
    },
    {
     "name": "stderr",
     "output_type": "stream",
     "text": [
      "Adding Noise (percent=0.05): 100%|██████████| 313/313 [00:11<00:00, 26.70it/s]\n"
     ]
    },
    {
     "name": "stdout",
     "output_type": "stream",
     "text": [
      "Accuracy with noise_percent=0.05: 58.71%\n",
      "\n",
      "Evaluating Salt-and-Pepper Noise with noise_percent = 0.1\n"
     ]
    },
    {
     "name": "stderr",
     "output_type": "stream",
     "text": [
      "Adding Noise (percent=0.1): 100%|██████████| 313/313 [00:14<00:00, 21.98it/s]\n"
     ]
    },
    {
     "name": "stdout",
     "output_type": "stream",
     "text": [
      "Accuracy with noise_percent=0.1: 38.77%\n",
      "\n",
      "Evaluating Salt-and-Pepper Noise with noise_percent = 0.15000000000000002\n"
     ]
    },
    {
     "name": "stderr",
     "output_type": "stream",
     "text": [
      "Adding Noise (percent=0.15000000000000002): 100%|██████████| 313/313 [00:17<00:00, 18.27it/s]\n"
     ]
    },
    {
     "name": "stdout",
     "output_type": "stream",
     "text": [
      "Accuracy with noise_percent=0.15000000000000002: 26.76%\n",
      "\n",
      "Evaluating Salt-and-Pepper Noise with noise_percent = 0.2\n"
     ]
    },
    {
     "name": "stderr",
     "output_type": "stream",
     "text": [
      "Adding Noise (percent=0.2): 100%|██████████| 313/313 [00:19<00:00, 15.94it/s]\n"
     ]
    },
    {
     "name": "stdout",
     "output_type": "stream",
     "text": [
      "Accuracy with noise_percent=0.2: 21.20%\n",
      "\n",
      "Evaluating Salt-and-Pepper Noise with noise_percent = 0.25\n"
     ]
    },
    {
     "name": "stderr",
     "output_type": "stream",
     "text": [
      "Adding Noise (percent=0.25): 100%|██████████| 313/313 [00:21<00:00, 14.25it/s]\n"
     ]
    },
    {
     "name": "stdout",
     "output_type": "stream",
     "text": [
      "Accuracy with noise_percent=0.25: 18.21%\n",
      "\n",
      "Evaluating Salt-and-Pepper Noise with noise_percent = 0.30000000000000004\n"
     ]
    },
    {
     "name": "stderr",
     "output_type": "stream",
     "text": [
      "Adding Noise (percent=0.30000000000000004): 100%|██████████| 313/313 [00:24<00:00, 12.79it/s]\n"
     ]
    },
    {
     "name": "stdout",
     "output_type": "stream",
     "text": [
      "Accuracy with noise_percent=0.30000000000000004: 16.82%\n",
      "\n",
      "Evaluating Salt-and-Pepper Noise with noise_percent = 0.35000000000000003\n"
     ]
    },
    {
     "name": "stderr",
     "output_type": "stream",
     "text": [
      "Adding Noise (percent=0.35000000000000003): 100%|██████████| 313/313 [00:26<00:00, 11.68it/s]\n"
     ]
    },
    {
     "name": "stdout",
     "output_type": "stream",
     "text": [
      "Accuracy with noise_percent=0.35000000000000003: 15.68%\n",
      "\n",
      "Evaluating Salt-and-Pepper Noise with noise_percent = 0.4\n"
     ]
    },
    {
     "name": "stderr",
     "output_type": "stream",
     "text": [
      "Adding Noise (percent=0.4): 100%|██████████| 313/313 [00:29<00:00, 10.71it/s]\n"
     ]
    },
    {
     "name": "stdout",
     "output_type": "stream",
     "text": [
      "Accuracy with noise_percent=0.4: 15.55%\n",
      "\n",
      "Evaluating Salt-and-Pepper Noise with noise_percent = 0.45\n"
     ]
    },
    {
     "name": "stderr",
     "output_type": "stream",
     "text": [
      "Adding Noise (percent=0.45): 100%|██████████| 313/313 [00:31<00:00,  9.96it/s]\n"
     ]
    },
    {
     "name": "stdout",
     "output_type": "stream",
     "text": [
      "Accuracy with noise_percent=0.45: 15.32%\n",
      "\n",
      "Evaluating Salt-and-Pepper Noise with noise_percent = 0.5\n"
     ]
    },
    {
     "name": "stderr",
     "output_type": "stream",
     "text": [
      "Adding Noise (percent=0.5): 100%|██████████| 313/313 [00:33<00:00,  9.22it/s]\n"
     ]
    },
    {
     "name": "stdout",
     "output_type": "stream",
     "text": [
      "Accuracy with noise_percent=0.5: 14.53%\n",
      "--------------------------\n",
      "Running PGD......... KD_model_5_19.pth\n"
     ]
    },
    {
     "name": "stderr",
     "output_type": "stream",
     "text": [
      "                                                            \r"
     ]
    },
    {
     "name": "stdout",
     "output_type": "stream",
     "text": [
      "Accuracy with epsilon 0.0: 90.62%\n"
     ]
    },
    {
     "name": "stderr",
     "output_type": "stream",
     "text": [
      "                                                            \r"
     ]
    },
    {
     "name": "stdout",
     "output_type": "stream",
     "text": [
      "Accuracy with epsilon 0.00029411764705882356: 87.50%\n"
     ]
    },
    {
     "name": "stderr",
     "output_type": "stream",
     "text": [
      "                                                            \r"
     ]
    },
    {
     "name": "stdout",
     "output_type": "stream",
     "text": [
      "Accuracy with epsilon 0.0005882352941176471: 87.50%\n"
     ]
    },
    {
     "name": "stderr",
     "output_type": "stream",
     "text": [
      "                                                            \r"
     ]
    },
    {
     "name": "stdout",
     "output_type": "stream",
     "text": [
      "Accuracy with epsilon 0.0008823529411764705: 84.38%\n"
     ]
    },
    {
     "name": "stderr",
     "output_type": "stream",
     "text": [
      "                                                            \r"
     ]
    },
    {
     "name": "stdout",
     "output_type": "stream",
     "text": [
      "Accuracy with epsilon 0.0011764705882352942: 84.38%\n"
     ]
    },
    {
     "name": "stderr",
     "output_type": "stream",
     "text": [
      "                                                            \r"
     ]
    },
    {
     "name": "stdout",
     "output_type": "stream",
     "text": [
      "Accuracy with epsilon 0.0014705882352941176: 78.12%\n"
     ]
    },
    {
     "name": "stderr",
     "output_type": "stream",
     "text": [
      "                                                            \r"
     ]
    },
    {
     "name": "stdout",
     "output_type": "stream",
     "text": [
      "Accuracy with epsilon 0.001764705882352941: 75.00%\n"
     ]
    },
    {
     "name": "stderr",
     "output_type": "stream",
     "text": [
      "                                                            \r"
     ]
    },
    {
     "name": "stdout",
     "output_type": "stream",
     "text": [
      "Accuracy with epsilon 0.002058823529411765: 68.75%\n"
     ]
    },
    {
     "name": "stderr",
     "output_type": "stream",
     "text": [
      "                                                            \r"
     ]
    },
    {
     "name": "stdout",
     "output_type": "stream",
     "text": [
      "Accuracy with epsilon 0.0023529411764705885: 65.62%\n"
     ]
    },
    {
     "name": "stderr",
     "output_type": "stream",
     "text": [
      "                                                            \r"
     ]
    },
    {
     "name": "stdout",
     "output_type": "stream",
     "text": [
      "Accuracy with epsilon 0.0026470588235294116: 62.50%\n"
     ]
    },
    {
     "name": "stderr",
     "output_type": "stream",
     "text": [
      "                                                            \r"
     ]
    },
    {
     "name": "stdout",
     "output_type": "stream",
     "text": [
      "Accuracy with epsilon 0.0029411764705882353: 59.38%\n"
     ]
    },
    {
     "name": "stderr",
     "output_type": "stream",
     "text": [
      "                                                            \r"
     ]
    },
    {
     "name": "stdout",
     "output_type": "stream",
     "text": [
      "Accuracy with epsilon 0.003235294117647059: 50.00%\n"
     ]
    },
    {
     "name": "stderr",
     "output_type": "stream",
     "text": [
      "                                                            \r"
     ]
    },
    {
     "name": "stdout",
     "output_type": "stream",
     "text": [
      "Accuracy with epsilon 0.003529411764705882: 50.00%\n"
     ]
    },
    {
     "name": "stderr",
     "output_type": "stream",
     "text": [
      "                                                            \r"
     ]
    },
    {
     "name": "stdout",
     "output_type": "stream",
     "text": [
      "Accuracy with epsilon 0.003823529411764706: 46.88%\n"
     ]
    },
    {
     "name": "stderr",
     "output_type": "stream",
     "text": [
      "                                                            \r"
     ]
    },
    {
     "name": "stdout",
     "output_type": "stream",
     "text": [
      "Accuracy with epsilon 0.00411764705882353: 40.62%\n"
     ]
    },
    {
     "name": "stderr",
     "output_type": "stream",
     "text": [
      "                                                            \r"
     ]
    },
    {
     "name": "stdout",
     "output_type": "stream",
     "text": [
      "Accuracy with epsilon 0.004411764705882353: 37.50%\n"
     ]
    },
    {
     "name": "stderr",
     "output_type": "stream",
     "text": [
      "                                                            \r"
     ]
    },
    {
     "name": "stdout",
     "output_type": "stream",
     "text": [
      "Accuracy with epsilon 0.004705882352941177: 28.12%\n"
     ]
    },
    {
     "name": "stderr",
     "output_type": "stream",
     "text": [
      "                                                            \r"
     ]
    },
    {
     "name": "stdout",
     "output_type": "stream",
     "text": [
      "Accuracy with epsilon 0.005: 21.88%\n",
      "Running SNP......... KD_model_5_19.pth\n",
      "\n",
      "Evaluating Salt-and-Pepper Noise with noise_percent = 0.0\n"
     ]
    },
    {
     "name": "stderr",
     "output_type": "stream",
     "text": [
      "Adding Noise (percent=0.0): 100%|██████████| 313/313 [00:09<00:00, 32.31it/s]\n"
     ]
    },
    {
     "name": "stdout",
     "output_type": "stream",
     "text": [
      "Accuracy with noise_percent=0.0: 85.17%\n",
      "\n",
      "Evaluating Salt-and-Pepper Noise with noise_percent = 0.05\n"
     ]
    },
    {
     "name": "stderr",
     "output_type": "stream",
     "text": [
      "Adding Noise (percent=0.05): 100%|██████████| 313/313 [00:11<00:00, 26.95it/s]\n"
     ]
    },
    {
     "name": "stdout",
     "output_type": "stream",
     "text": [
      "Accuracy with noise_percent=0.05: 52.64%\n",
      "\n",
      "Evaluating Salt-and-Pepper Noise with noise_percent = 0.1\n"
     ]
    },
    {
     "name": "stderr",
     "output_type": "stream",
     "text": [
      "Adding Noise (percent=0.1): 100%|██████████| 313/313 [00:14<00:00, 22.18it/s]\n"
     ]
    },
    {
     "name": "stdout",
     "output_type": "stream",
     "text": [
      "Accuracy with noise_percent=0.1: 32.22%\n",
      "\n",
      "Evaluating Salt-and-Pepper Noise with noise_percent = 0.15000000000000002\n"
     ]
    },
    {
     "name": "stderr",
     "output_type": "stream",
     "text": [
      "Adding Noise (percent=0.15000000000000002): 100%|██████████| 313/313 [00:17<00:00, 18.39it/s]\n"
     ]
    },
    {
     "name": "stdout",
     "output_type": "stream",
     "text": [
      "Accuracy with noise_percent=0.15000000000000002: 21.74%\n",
      "\n",
      "Evaluating Salt-and-Pepper Noise with noise_percent = 0.2\n"
     ]
    },
    {
     "name": "stderr",
     "output_type": "stream",
     "text": [
      "Adding Noise (percent=0.2): 100%|██████████| 313/313 [00:19<00:00, 15.95it/s]\n"
     ]
    },
    {
     "name": "stdout",
     "output_type": "stream",
     "text": [
      "Accuracy with noise_percent=0.2: 16.66%\n",
      "\n",
      "Evaluating Salt-and-Pepper Noise with noise_percent = 0.25\n"
     ]
    },
    {
     "name": "stderr",
     "output_type": "stream",
     "text": [
      "Adding Noise (percent=0.25): 100%|██████████| 313/313 [00:21<00:00, 14.28it/s]\n"
     ]
    },
    {
     "name": "stdout",
     "output_type": "stream",
     "text": [
      "Accuracy with noise_percent=0.25: 14.22%\n",
      "\n",
      "Evaluating Salt-and-Pepper Noise with noise_percent = 0.30000000000000004\n"
     ]
    },
    {
     "name": "stderr",
     "output_type": "stream",
     "text": [
      "Adding Noise (percent=0.30000000000000004): 100%|██████████| 313/313 [00:24<00:00, 12.83it/s]\n"
     ]
    },
    {
     "name": "stdout",
     "output_type": "stream",
     "text": [
      "Accuracy with noise_percent=0.30000000000000004: 12.86%\n",
      "\n",
      "Evaluating Salt-and-Pepper Noise with noise_percent = 0.35000000000000003\n"
     ]
    },
    {
     "name": "stderr",
     "output_type": "stream",
     "text": [
      "Adding Noise (percent=0.35000000000000003): 100%|██████████| 313/313 [00:26<00:00, 11.67it/s]\n"
     ]
    },
    {
     "name": "stdout",
     "output_type": "stream",
     "text": [
      "Accuracy with noise_percent=0.35000000000000003: 11.91%\n",
      "\n",
      "Evaluating Salt-and-Pepper Noise with noise_percent = 0.4\n"
     ]
    },
    {
     "name": "stderr",
     "output_type": "stream",
     "text": [
      "Adding Noise (percent=0.4): 100%|██████████| 313/313 [00:29<00:00, 10.68it/s]\n"
     ]
    },
    {
     "name": "stdout",
     "output_type": "stream",
     "text": [
      "Accuracy with noise_percent=0.4: 11.39%\n",
      "\n",
      "Evaluating Salt-and-Pepper Noise with noise_percent = 0.45\n"
     ]
    },
    {
     "name": "stderr",
     "output_type": "stream",
     "text": [
      "Adding Noise (percent=0.45): 100%|██████████| 313/313 [00:31<00:00,  9.95it/s]\n"
     ]
    },
    {
     "name": "stdout",
     "output_type": "stream",
     "text": [
      "Accuracy with noise_percent=0.45: 11.08%\n",
      "\n",
      "Evaluating Salt-and-Pepper Noise with noise_percent = 0.5\n"
     ]
    },
    {
     "name": "stderr",
     "output_type": "stream",
     "text": [
      "Adding Noise (percent=0.5): 100%|██████████| 313/313 [00:34<00:00,  9.16it/s]\n"
     ]
    },
    {
     "name": "stdout",
     "output_type": "stream",
     "text": [
      "Accuracy with noise_percent=0.5: 10.81%\n"
     ]
    }
   ],
   "source": [
    "# Define loss function and optimizer\n",
    "for f in files:  \n",
    "    if f == 'MobileNetV3_large_CE.pth':\n",
    "      torch.manual_seed(42)\n",
    "      model = models.mobilenet_v3_large(weights=None)\n",
    "    else:\n",
    "      torch.manual_seed(42)\n",
    "      model = models.mobilenet_v3_small(weights=None)\n",
    "\n",
    "    model.classifier[3] = nn.Linear(model.classifier[3].in_features, 10)\n",
    "    model.load_state_dict(torch.load(f, map_location=device, weights_only=True))\n",
    "    model.eval()\n",
    "    loss_fn = torch.nn.CrossEntropyLoss()\n",
    "    optimizer = torch.optim.Adam(model.parameters(), lr=0.001)\n",
    "    classifier_pgd = PyTorchClassifier(\n",
    "        model=model,\n",
    "        loss=loss_fn,\n",
    "        optimizer=optimizer,\n",
    "        input_shape=(3, 224, 224), \n",
    "        nb_classes=10,\n",
    "        device_type=\"gpu\"\n",
    "    )\n",
    "\n",
    "    classifier_snp = PyTorchClassifier(\n",
    "        model=model,\n",
    "        loss=loss_fn,\n",
    "        optimizer=optimizer,\n",
    "        input_shape=(3, 224, 224), \n",
    "        nb_classes=10,\n",
    "        device_type=\"gpu\"\n",
    "    )\n",
    "\n",
    "    pgd_accuracy = []\n",
    "    snp_accuracy = []\n",
    "\n",
    "    print(\"--------------------------\")\n",
    "    print(f\"Running PGD......... {f}\")\n",
    "    for eps in eps_list:\n",
    "        accuracy = toolbox_generate(eps, classifier_pgd)\n",
    "        pgd_accuracy.append(accuracy * 100)\n",
    "        print(f\"Accuracy with epsilon {eps}: {accuracy * 100:.2f}%\")\n",
    "    pgd_all_accuracies.append(pgd_accuracy)\n",
    "\n",
    "    print(f\"Running SNP......... {f}\")\n",
    "\n",
    "    # Apply Salt-and-Pepper Noise for each noise level\n",
    "    for noise_percent in noise_percents:\n",
    "        print(f\"\\nEvaluating Salt-and-Pepper Noise with noise_percent = {noise_percent}\")\n",
    "        spn_attack = SaltAndPepperNoise(noise_percent=noise_percent)\n",
    "\n",
    "        # Initialize lists to collect noisy images and labels\n",
    "        noisy_test_images = []\n",
    "        test_labels = []\n",
    "\n",
    "        # Generate noisy images for the entire test set\n",
    "        for images, labels in tqdm(test_loader, desc=f\"Adding Noise (percent={noise_percent})\"):\n",
    "            noisy_images = spn_attack.generate(images.numpy())\n",
    "            noisy_test_images.append(noisy_images)\n",
    "            test_labels.append(labels.numpy())\n",
    "\n",
    "        # Concatenate all noisy examples and labels\n",
    "        noisy_test_images = np.vstack(noisy_test_images)\n",
    "        test_labels = np.hstack(test_labels)\n",
    "\n",
    "        # Predict on noisy examples\n",
    "        preds = np.argmax(classifier_snp.predict(noisy_test_images), axis=1)\n",
    "\n",
    "        # Calculate accuracy\n",
    "        accuracy = np.mean(preds == test_labels) * 100\n",
    "        print(f\"Accuracy with noise_percent={noise_percent}: {accuracy:.2f}%\")\n",
    "\n",
    "        # Store the results\n",
    "        snp_accuracy.append(accuracy)\n",
    "    snp_all_accuracies.append(snp_accuracy)\n",
    "    "
   ]
  },
  {
   "cell_type": "code",
   "execution_count": 8,
   "metadata": {},
   "outputs": [
    {
     "name": "stdout",
     "output_type": "stream",
     "text": [
      "[[np.float64(84.375), np.float64(84.375), np.float64(78.125), np.float64(81.25), np.float64(78.125), np.float64(71.875), np.float64(68.75), np.float64(62.5), np.float64(62.5), np.float64(62.5), np.float64(56.25), np.float64(50.0), np.float64(50.0), np.float64(43.75), np.float64(43.75), np.float64(40.625), np.float64(40.625), np.float64(37.5)], [np.float64(90.625), np.float64(87.5), np.float64(75.0), np.float64(71.875), np.float64(71.875), np.float64(71.875), np.float64(68.75), np.float64(68.75), np.float64(62.5), np.float64(62.5), np.float64(56.25), np.float64(56.25), np.float64(53.125), np.float64(46.875), np.float64(43.75), np.float64(43.75), np.float64(43.75), np.float64(43.75)], [np.float64(93.75), np.float64(93.75), np.float64(90.625), np.float64(84.375), np.float64(81.25), np.float64(78.125), np.float64(68.75), np.float64(65.625), np.float64(62.5), np.float64(59.375), np.float64(56.25), np.float64(53.125), np.float64(46.875), np.float64(46.875), np.float64(40.625), np.float64(37.5), np.float64(34.375), np.float64(34.375)], [np.float64(90.625), np.float64(96.875), np.float64(90.625), np.float64(90.625), np.float64(87.5), np.float64(84.375), np.float64(81.25), np.float64(81.25), np.float64(78.125), np.float64(75.0), np.float64(68.75), np.float64(56.25), np.float64(53.125), np.float64(50.0), np.float64(46.875), np.float64(40.625), np.float64(40.625), np.float64(40.625)], [np.float64(87.5), np.float64(93.75), np.float64(93.75), np.float64(87.5), np.float64(78.125), np.float64(78.125), np.float64(78.125), np.float64(71.875), np.float64(68.75), np.float64(65.625), np.float64(56.25), np.float64(53.125), np.float64(53.125), np.float64(50.0), np.float64(50.0), np.float64(43.75), np.float64(40.625), np.float64(34.375)], [np.float64(87.5), np.float64(96.875), np.float64(93.75), np.float64(93.75), np.float64(84.375), np.float64(75.0), np.float64(68.75), np.float64(62.5), np.float64(53.125), np.float64(50.0), np.float64(46.875), np.float64(43.75), np.float64(43.75), np.float64(37.5), np.float64(34.375), np.float64(34.375), np.float64(34.375), np.float64(28.125)], [np.float64(93.75), np.float64(90.625), np.float64(84.375), np.float64(81.25), np.float64(75.0), np.float64(68.75), np.float64(71.875), np.float64(68.75), np.float64(65.625), np.float64(50.0), np.float64(50.0), np.float64(50.0), np.float64(43.75), np.float64(37.5), np.float64(37.5), np.float64(34.375), np.float64(34.375), np.float64(31.25)], [np.float64(84.375), np.float64(87.5), np.float64(87.5), np.float64(87.5), np.float64(87.5), np.float64(84.375), np.float64(84.375), np.float64(81.25), np.float64(75.0), np.float64(68.75), np.float64(62.5), np.float64(59.375), np.float64(53.125), np.float64(53.125), np.float64(50.0), np.float64(43.75), np.float64(43.75), np.float64(40.625)], [np.float64(96.875), np.float64(90.625), np.float64(81.25), np.float64(78.125), np.float64(75.0), np.float64(71.875), np.float64(68.75), np.float64(62.5), np.float64(59.375), np.float64(56.25), np.float64(50.0), np.float64(46.875), np.float64(43.75), np.float64(37.5), np.float64(37.5), np.float64(31.25), np.float64(28.125), np.float64(31.25)], [np.float64(93.75), np.float64(93.75), np.float64(90.625), np.float64(84.375), np.float64(84.375), np.float64(78.125), np.float64(68.75), np.float64(62.5), np.float64(56.25), np.float64(56.25), np.float64(50.0), np.float64(43.75), np.float64(40.625), np.float64(37.5), np.float64(37.5), np.float64(31.25), np.float64(31.25), np.float64(31.25)], [np.float64(96.875), np.float64(100.0), np.float64(93.75), np.float64(90.625), np.float64(87.5), np.float64(84.375), np.float64(81.25), np.float64(75.0), np.float64(68.75), np.float64(59.375), np.float64(59.375), np.float64(56.25), np.float64(53.125), np.float64(50.0), np.float64(43.75), np.float64(43.75), np.float64(40.625), np.float64(34.375)], [np.float64(93.75), np.float64(90.625), np.float64(93.75), np.float64(81.25), np.float64(78.125), np.float64(71.875), np.float64(68.75), np.float64(62.5), np.float64(56.25), np.float64(53.125), np.float64(50.0), np.float64(40.625), np.float64(40.625), np.float64(37.5), np.float64(31.25), np.float64(31.25), np.float64(28.125), np.float64(28.125)], [np.float64(93.75), np.float64(93.75), np.float64(90.625), np.float64(81.25), np.float64(81.25), np.float64(81.25), np.float64(75.0), np.float64(65.625), np.float64(65.625), np.float64(62.5), np.float64(59.375), np.float64(56.25), np.float64(53.125), np.float64(50.0), np.float64(50.0), np.float64(40.625), np.float64(40.625), np.float64(37.5)], [np.float64(96.875), np.float64(93.75), np.float64(90.625), np.float64(84.375), np.float64(84.375), np.float64(75.0), np.float64(68.75), np.float64(56.25), np.float64(46.875), np.float64(46.875), np.float64(43.75), np.float64(40.625), np.float64(34.375), np.float64(34.375), np.float64(34.375), np.float64(31.25), np.float64(31.25), np.float64(28.125)], [np.float64(100.0), np.float64(93.75), np.float64(90.625), np.float64(84.375), np.float64(75.0), np.float64(68.75), np.float64(62.5), np.float64(53.125), np.float64(46.875), np.float64(43.75), np.float64(40.625), np.float64(40.625), np.float64(40.625), np.float64(37.5), np.float64(34.375), np.float64(28.125), np.float64(25.0), np.float64(25.0)], [np.float64(93.75), np.float64(90.625), np.float64(87.5), np.float64(81.25), np.float64(78.125), np.float64(75.0), np.float64(71.875), np.float64(65.625), np.float64(62.5), np.float64(56.25), np.float64(53.125), np.float64(53.125), np.float64(53.125), np.float64(46.875), np.float64(46.875), np.float64(34.375), np.float64(31.25), np.float64(31.25)], [np.float64(87.5), np.float64(90.625), np.float64(93.75), np.float64(93.75), np.float64(90.625), np.float64(87.5), np.float64(84.375), np.float64(78.125), np.float64(75.0), np.float64(71.875), np.float64(59.375), np.float64(56.25), np.float64(53.125), np.float64(53.125), np.float64(50.0), np.float64(46.875), np.float64(40.625), np.float64(40.625)], [np.float64(87.5), np.float64(90.625), np.float64(87.5), np.float64(90.625), np.float64(81.25), np.float64(75.0), np.float64(71.875), np.float64(71.875), np.float64(62.5), np.float64(59.375), np.float64(53.125), np.float64(50.0), np.float64(46.875), np.float64(43.75), np.float64(40.625), np.float64(40.625), np.float64(34.375), np.float64(34.375)], [np.float64(96.875), np.float64(100.0), np.float64(96.875), np.float64(90.625), np.float64(84.375), np.float64(75.0), np.float64(62.5), np.float64(62.5), np.float64(50.0), np.float64(43.75), np.float64(34.375), np.float64(31.25), np.float64(28.125), np.float64(28.125), np.float64(25.0), np.float64(21.875), np.float64(21.875), np.float64(18.75)], [np.float64(87.5), np.float64(87.5), np.float64(87.5), np.float64(81.25), np.float64(81.25), np.float64(78.125), np.float64(71.875), np.float64(68.75), np.float64(62.5), np.float64(56.25), np.float64(50.0), np.float64(50.0), np.float64(46.875), np.float64(46.875), np.float64(43.75), np.float64(37.5), np.float64(34.375), np.float64(37.5)], [np.float64(90.625), np.float64(96.875), np.float64(100.0), np.float64(93.75), np.float64(90.625), np.float64(87.5), np.float64(87.5), np.float64(75.0), np.float64(75.0), np.float64(68.75), np.float64(65.625), np.float64(62.5), np.float64(59.375), np.float64(53.125), np.float64(50.0), np.float64(50.0), np.float64(46.875), np.float64(43.75)], [np.float64(90.625), np.float64(87.5), np.float64(87.5), np.float64(84.375), np.float64(84.375), np.float64(78.125), np.float64(75.0), np.float64(68.75), np.float64(65.625), np.float64(62.5), np.float64(59.375), np.float64(50.0), np.float64(50.0), np.float64(46.875), np.float64(40.625), np.float64(37.5), np.float64(28.125), np.float64(21.875)]]\n"
     ]
    }
   ],
   "source": [
    "print(pgd_all_accuracies)"
   ]
  },
  {
   "cell_type": "code",
   "execution_count": 9,
   "metadata": {},
   "outputs": [
    {
     "name": "stdout",
     "output_type": "stream",
     "text": [
      "[[np.float64(84.95), np.float64(72.45), np.float64(61.129999999999995), np.float64(50.67), np.float64(42.18), np.float64(36.29), np.float64(30.9), np.float64(26.87), np.float64(23.49), np.float64(21.45), np.float64(19.919999999999998)], [np.float64(83.81), np.float64(65.95), np.float64(50.629999999999995), np.float64(39.14), np.float64(32.34), np.float64(27.21), np.float64(24.0), np.float64(21.58), np.float64(19.650000000000002), np.float64(18.32), np.float64(16.93)], [np.float64(84.48), np.float64(63.36000000000001), np.float64(46.45), np.float64(35.24), np.float64(27.92), np.float64(23.369999999999997), np.float64(20.630000000000003), np.float64(19.08), np.float64(17.68), np.float64(16.830000000000002), np.float64(16.21)], [np.float64(84.72), np.float64(62.22), np.float64(42.99), np.float64(30.98), np.float64(23.57), np.float64(19.259999999999998), np.float64(16.66), np.float64(14.729999999999999), np.float64(13.600000000000001), np.float64(12.64), np.float64(12.04)], [np.float64(85.28999999999999), np.float64(61.86000000000001), np.float64(44.05), np.float64(33.1), np.float64(26.179999999999996), np.float64(22.15), np.float64(19.81), np.float64(17.740000000000002), np.float64(16.439999999999998), np.float64(15.75), np.float64(15.0)], [np.float64(85.26), np.float64(59.019999999999996), np.float64(42.83), np.float64(32.9), np.float64(26.46), np.float64(22.17), np.float64(18.93), np.float64(16.919999999999998), np.float64(15.64), np.float64(14.63), np.float64(13.88)], [np.float64(84.22), np.float64(60.040000000000006), np.float64(42.480000000000004), np.float64(31.580000000000002), np.float64(24.43), np.float64(20.119999999999997), np.float64(17.16), np.float64(15.02), np.float64(14.000000000000002), np.float64(13.08), np.float64(12.379999999999999)], [np.float64(85.19), np.float64(63.160000000000004), np.float64(46.46), np.float64(35.25), np.float64(28.53), np.float64(23.87), np.float64(20.71), np.float64(19.08), np.float64(17.62), np.float64(16.85), np.float64(16.150000000000002)], [np.float64(85.14), np.float64(64.24), np.float64(46.85), np.float64(34.48), np.float64(26.86), np.float64(22.39), np.float64(19.77), np.float64(18.07), np.float64(16.61), np.float64(15.8), np.float64(15.129999999999999)], [np.float64(85.72), np.float64(57.15), np.float64(38.36), np.float64(29.14), np.float64(23.599999999999998), np.float64(20.34), np.float64(18.459999999999997), np.float64(17.57), np.float64(16.59), np.float64(16.11), np.float64(15.190000000000001)], [np.float64(85.11999999999999), np.float64(66.93), np.float64(54.25), np.float64(45.65), np.float64(38.84), np.float64(34.61), np.float64(31.36), np.float64(28.810000000000002), np.float64(27.21), np.float64(25.72), np.float64(24.55)], [np.float64(85.25), np.float64(60.78), np.float64(41.410000000000004), np.float64(30.220000000000002), np.float64(23.580000000000002), np.float64(19.43), np.float64(17.299999999999997), np.float64(15.559999999999999), np.float64(14.67), np.float64(13.969999999999999), np.float64(13.76)], [np.float64(85.15), np.float64(60.88), np.float64(43.99), np.float64(33.57), np.float64(25.840000000000003), np.float64(21.54), np.float64(18.62), np.float64(16.31), np.float64(15.290000000000001), np.float64(14.249999999999998), np.float64(13.639999999999999)], [np.float64(85.58), np.float64(63.870000000000005), np.float64(46.75), np.float64(35.44), np.float64(27.339999999999996), np.float64(22.18), np.float64(18.85), np.float64(16.470000000000002), np.float64(15.24), np.float64(14.37), np.float64(13.350000000000001)], [np.float64(85.79), np.float64(61.529999999999994), np.float64(44.0), np.float64(33.650000000000006), np.float64(27.02), np.float64(23.59), np.float64(20.86), np.float64(19.17), np.float64(18.099999999999998), np.float64(16.88), np.float64(16.24)], [np.float64(85.28), np.float64(57.99999999999999), np.float64(40.150000000000006), np.float64(29.049999999999997), np.float64(22.7), np.float64(19.33), np.float64(17.1), np.float64(15.89), np.float64(14.71), np.float64(14.37), np.float64(13.780000000000001)], [np.float64(84.98), np.float64(56.08), np.float64(34.21), np.float64(22.02), np.float64(16.89), np.float64(14.000000000000002), np.float64(12.45), np.float64(11.4), np.float64(10.99), np.float64(10.65), np.float64(10.47)], [np.float64(85.86), np.float64(62.77), np.float64(45.48), np.float64(33.87), np.float64(26.71), np.float64(22.18), np.float64(18.64), np.float64(16.64), np.float64(15.18), np.float64(14.360000000000001), np.float64(13.61)], [np.float64(85.94000000000001), np.float64(54.94), np.float64(36.83), np.float64(26.43), np.float64(21.58), np.float64(18.6), np.float64(16.84), np.float64(15.82), np.float64(14.92), np.float64(13.930000000000001), np.float64(13.91)], [np.float64(85.26), np.float64(59.660000000000004), np.float64(41.24), np.float64(29.759999999999998), np.float64(22.59), np.float64(17.98), np.float64(15.770000000000001), np.float64(13.889999999999999), np.float64(13.01), np.float64(12.1), np.float64(11.63)], [np.float64(85.97), np.float64(58.709999999999994), np.float64(38.769999999999996), np.float64(26.76), np.float64(21.2), np.float64(18.21), np.float64(16.82), np.float64(15.68), np.float64(15.55), np.float64(15.32), np.float64(14.530000000000001)], [np.float64(85.17), np.float64(52.64), np.float64(32.22), np.float64(21.740000000000002), np.float64(16.66), np.float64(14.219999999999999), np.float64(12.86), np.float64(11.91), np.float64(11.39), np.float64(11.08), np.float64(10.81)]]\n"
     ]
    }
   ],
   "source": [
    "print(snp_all_accuracies)"
   ]
  }
 ],
 "metadata": {
  "kernelspec": {
   "display_name": ".venv",
   "language": "python",
   "name": "python3"
  },
  "language_info": {
   "codemirror_mode": {
    "name": "ipython",
    "version": 3
   },
   "file_extension": ".py",
   "mimetype": "text/x-python",
   "name": "python",
   "nbconvert_exporter": "python",
   "pygments_lexer": "ipython3",
   "version": "3.10.11"
  }
 },
 "nbformat": 4,
 "nbformat_minor": 2
}
