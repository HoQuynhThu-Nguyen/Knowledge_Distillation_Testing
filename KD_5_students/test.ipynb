{
 "cells": [
  {
   "cell_type": "code",
   "execution_count": null,
   "metadata": {},
   "outputs": [],
   "source": [
    "import torch\n",
    "import torchvision.models as models\n",
    "import torch.nn as nn\n",
    "import torch.nn.functional as F\n",
    "import matplotlib.pyplot as plt\n",
    "import numpy as np\n"
   ]
  },
  {
   "cell_type": "code",
   "execution_count": 25,
   "metadata": {},
   "outputs": [],
   "source": [
    "# Calculate accuracy drop and cumulative accuracy drop\n",
    "def calculate_drops(baseline_accuracy, accuracy_list):\n",
    "    temp = 0\n",
    "    accuracy_drop = []\n",
    "    cumulative_drop = []\n",
    "    cumulative_sum = 0\n",
    "\n",
    "    for i in range(0, len(accuracy_list)):\n",
    "        drop = baseline_accuracy[temp] - accuracy_list[i]\n",
    "\n",
    "        accuracy_drop.append(drop)\n",
    "        cumulative_sum += drop\n",
    "        cumulative_drop.append(cumulative_sum)\n",
    "\n",
    "    temp= temp+1\n",
    "    return accuracy_drop, cumulative_drop"
   ]
  },
  {
   "cell_type": "code",
   "execution_count": null,
   "metadata": {},
   "outputs": [],
   "source": [
    "# Sample data for the example (replace these with actual values)\n",
    "models = ['Student', 'T2', 'T3', 'T4', 'T5']\n",
    "a_models = ['Teacher','Student', 'T2', 'T3', 'T4', 'T5']\n",
    "average_accuracy_drop = [1.28, 2.57, 2.14, 3.43, 3.21]  # Average accuracy drop values\n",
    "\n",
    "epsilon = [0.001, 0.0334, 0.0667, 0.1000, 0.1333, 0.1667, 0.2000, 0.2333, 0.2666, 0.3000]  # Perturbation strength (Epsilon)\n",
    "eps = [0.0001, 0.0334, 0.0667, 0.1000, 0.1333, 0.1667, 0.2000, 0.2333, 0.2666, 0.3000]  # Perturbation strength (Epsilon)\n",
    "accuracies = {\n",
    "    \"Teacher\": [100.00,92.93,80.30,59.96,33.83,25.05,8.78,5.14,1.71,0.00],   # Simulated accuracy drop for model V1\n",
    "    \"Student\": [98.72,87.15,78.16,61.88,55.03,47.32,25.70,24.41,19.06,15.63],   # Simulated accuracy drop for model V1\n",
    "    \"T2\": [97.43,87.37,83.94,64.03,55.25,44.54,32.76,25.91,25.05,23.55],   # Simulated accuracy drop for model V3\n",
    "    \"T3\": [97.86,89.08,82.01,69.38,56.96,37.26,26.12,22.91,17.13,4.93],   # Simulated accuracy drop for model V5\n",
    "    \"T4\": [96.36,91.65,85.22,71.73,64.03,42.83,34.26,32.12,25.48,20.99],   # Simulated accuracy drop for model V7\n",
    "    \"T5\": [96.79,88.87,83.08,68.95,51.82,34.90,29.98,23.55,17.77,12.21],   # Simulated accuracy drop for model V9\n",
    "}\n",
    "\n",
    "baseline_accuracy = [100.00, 98.72, 97.43, 97.86, 96.57, 96.79]\n",
    "\n",
    "accuracy_drops = {}\n",
    "accuracy_cummulatives = {}\n",
    "for model in a_models:\n",
    "    accuracy_drop, cumulative_drop = calculate_drops(baseline_accuracy, accuracies[model])\n",
    "    accuracy_drops[model] = accuracy_drop\n",
    "    accuracy_cummulatives[model] = cumulative_drop\n",
    "\n",
    "# Set up the figure and axes\n",
    "fig, axs = plt.subplots(2, 2, figsize=(12, 8))\n",
    "fig.tight_layout(pad=4)\n",
    "\n",
    "# 1. Average Accuracy Drop (Bar Plot)\n",
    "axs[0, 0].barh(models, average_accuracy_drop, color='skyblue')\n",
    "axs[0, 0].set_title('1. Average Accuracy Drop for Models')\n",
    "axs[0, 0].set_xlabel('Models')\n",
    "axs[0, 0].set_ylabel('Average Accuracy Drop (%)')\n",
    "\n",
    "# 2. Accuracy vs. Epsilon (Line Plot)\n",
    "for model in a_models:\n",
    "    axs[0, 1].plot(epsilon, accuracies[model], label=model, marker='o')\n",
    "axs[0, 1].set_title('2. Accuracy vs. Epsilon')\n",
    "axs[0, 1].set_xlabel('Epsilon (Perturbation Strength)')\n",
    "axs[0, 1].set_ylabel('Accuracy (%)')\n",
    "axs[0, 1].legend()\n",
    "\n",
    "# 3. Accuracy Drop per Epsilon\n",
    "for model in a_models:\n",
    "    axs[1, 0].plot(eps, accuracy_drops[model], label=model, marker='o')\n",
    "axs[1, 0].set_title('3. Accuracy Drop per Epsilon')\n",
    "axs[1, 0].set_xlabel('Epsilon (Perturbation Strength)')\n",
    "axs[1, 0].set_ylabel('Accuracy Drop (%)')\n",
    "axs[1, 0].legend()\n",
    "\n",
    "# 4. Cumulative Accuracy Drop Across Epsilons\n",
    "for model in a_models:\n",
    "    axs[1, 1].plot(eps, accuracy_cummulatives[model], label=model, marker='o')\n",
    "axs[1, 1].set_title('4. Cumulative Drop Across Epsilons')\n",
    "axs[1, 1].set_xlabel('Epsilon (Perturbation Strength)')\n",
    "axs[1, 1].set_ylabel('Cumulative Accuracy Drop (%)')\n",
    "axs[1, 1].legend()\n"
   ]
  }
 ],
 "metadata": {
  "kernelspec": {
   "display_name": ".venv",
   "language": "python",
   "name": "python3"
  },
  "language_info": {
   "codemirror_mode": {
    "name": "ipython",
    "version": 3
   },
   "file_extension": ".py",
   "mimetype": "text/x-python",
   "name": "python",
   "nbconvert_exporter": "python",
   "pygments_lexer": "ipython3",
   "version": "3.10.11"
  }
 },
 "nbformat": 4,
 "nbformat_minor": 2
}
