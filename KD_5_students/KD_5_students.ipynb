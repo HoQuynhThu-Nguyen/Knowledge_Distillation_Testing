{
 "cells": [
  {
   "cell_type": "code",
   "execution_count": 1,
   "metadata": {
    "collapsed": false
   },
   "outputs": [
    {
     "name": "stdout",
     "output_type": "stream",
     "text": [
      "Check current device: \n",
      "Using GPU: NVIDIA GeForce RTX 4060\n"
     ]
    }
   ],
   "source": [
    "import torch\n",
    "import torch.nn as nn\n",
    "import torch.optim as optim\n",
    "import torchvision.transforms as transforms\n",
    "import torchvision.datasets as datasets\n",
    "from torch.utils.data import random_split, DataLoader\n",
    "from sklearn.metrics import confusion_matrix, classification_report, ConfusionMatrixDisplay\n",
    "from student_models import DeepNN, DeepNN_Custom, LightNN, MiniEfficientNet, MiniResNet, MiniShuffleNet, MiniSqueezeNet\n",
    "import torchvision.models as models\n",
    "\n",
    "# Check if GPU is available, and if not, use the CPU\n",
    "print(\"Check current device: \")\n",
    "device = torch.device(\"cuda\" if torch.cuda.is_available() else \"cpu\")\n",
    "if torch.cuda.is_available(): # Should return True \n",
    "    print(f\"Using GPU: {torch.cuda.get_device_name(0)}\") # Should show your GPU name\n",
    "else:\n",
    "    print(\"Using CPU\")"
   ]
  },
  {
   "cell_type": "markdown",
   "metadata": {},
   "source": [
    "Loading CIFAR-10\n",
    "================\n"
   ]
  },
  {
   "cell_type": "code",
   "execution_count": 2,
   "metadata": {
    "collapsed": false
   },
   "outputs": [
    {
     "name": "stdout",
     "output_type": "stream",
     "text": [
      "Files already downloaded and verified\n",
      "Files already downloaded and verified\n",
      "Number of training samples: 40000\n",
      "Number of validation samples: 10000\n",
      "Number of testing samples: 10000\n"
     ]
    }
   ],
   "source": [
    "# Transformations for data preprocessing\n",
    "transform = transforms.Compose([\n",
    "    transforms.Resize((224, 224)),\n",
    "    transforms.ToTensor(),\n",
    "    transforms.Normalize(mean=[0.485, 0.456, 0.406], std=[0.229, 0.224, 0.225])\n",
    "])\n",
    "\n",
    "# Loading the CIFAR-10 dataset: (train set will later be split into train and val)\n",
    "full_trainset = datasets.CIFAR10(root='./data', train=True, download=True, transform=transform)\n",
    "testset = datasets.CIFAR10(root='./data', train=False, download=True, transform=transform)\n",
    "\n",
    "# Split trainset into train and validation datasets (80% train, 20% val)\n",
    "train_size = int(0.8 * len(full_trainset))\n",
    "val_size = len(full_trainset) - train_size\n",
    "trainset, valset = random_split(full_trainset, [train_size, val_size])\n",
    "\n",
    "# DataLoaders for train, validation, and test datasets\n",
    "train_loader = DataLoader(trainset, batch_size=32, shuffle=True, num_workers=2)\n",
    "val_loader = DataLoader(valset, batch_size=32, shuffle=False, num_workers=2)\n",
    "test_loader = DataLoader(testset, batch_size=32, shuffle=False, num_workers=2)\n",
    "\n",
    "# Check if dataset loads correctly\n",
    "print(f\"Number of training samples: {len(trainset)}\")\n",
    "print(f\"Number of validation samples: {len(valset)}\")\n",
    "print(f\"Number of testing samples: {len(testset)}\")"
   ]
  },
  {
   "cell_type": "markdown",
   "metadata": {},
   "source": [
    "Defining model classes and utility functions\n",
    "============================================"
   ]
  },
  {
   "cell_type": "code",
   "execution_count": 3,
   "metadata": {
    "collapsed": false
   },
   "outputs": [],
   "source": [
    "def train(model, train_loader, val_loader, epochs, learning_rate, device):\n",
    "    criterion = nn.CrossEntropyLoss()\n",
    "    optimizer = optim.Adam(model.parameters(), lr=learning_rate)\n",
    "\n",
    "    train_losses = []\n",
    "    val_losses = []\n",
    "\n",
    "    model.train()\n",
    "\n",
    "    for epoch in range(epochs):\n",
    "\n",
    "        # Training Step\n",
    "        running_loss = 0.0\n",
    "        for inputs, labels in train_loader:\n",
    "            inputs, labels = inputs.to(device), labels.to(device)\n",
    "\n",
    "            optimizer.zero_grad()\n",
    "            outputs = model(inputs)\n",
    "\n",
    "            loss = criterion(outputs, labels)\n",
    "            loss.backward()\n",
    "            optimizer.step()\n",
    "\n",
    "            running_loss += loss.item()\n",
    "\n",
    "        avg_train_loss = running_loss / len(train_loader)\n",
    "        train_losses.append(avg_train_loss)\n",
    "        print(f\"Epoch {epoch+1}/{epochs}, Training Loss: {avg_train_loss}\")\n",
    "\n",
    "        # Validation Step\n",
    "        val_loss = 0.0\n",
    "        with torch.no_grad():  # Disable gradient computation for validation\n",
    "            for inputs, labels in val_loader:\n",
    "                inputs, labels = inputs.to(device), labels.to(device)\n",
    "                outputs = model(inputs)\n",
    "                loss = criterion(outputs, labels)\n",
    "                val_loss += loss.item() \n",
    "\n",
    "        avg_val_loss = val_loss / len(val_loader)  # Average validation loss\n",
    "        val_losses.append(avg_val_loss)\n",
    "        print(f\"Epoch {epoch+1}/{epochs}, Validation Loss: {avg_val_loss:.4f}\")\n",
    "    return train_losses, val_losses \n",
    "\n",
    "def test(model, test_loader, device):\n",
    "    model.to(device)\n",
    "    model.eval()\n",
    "\n",
    "    all_labels = []\n",
    "    all_predictions = []\n",
    "\n",
    "    with torch.no_grad():\n",
    "        for inputs, labels in test_loader:\n",
    "            inputs, labels = inputs.to(device), labels.to(device)\n",
    "\n",
    "            outputs = model(inputs)\n",
    "            _, predicted = torch.max(outputs.data, 1)\n",
    "\t\n",
    "            # Collect predictions and true labels\n",
    "            all_predictions.extend(predicted.cpu().numpy())\n",
    "            all_labels.extend(labels.cpu().numpy())\n",
    "\n",
    "    # Calculate metrics using sklearn\n",
    "    cm = confusion_matrix(all_labels, all_predictions)\n",
    "    report = classification_report(all_labels, all_predictions, output_dict=True, zero_division=0)\n",
    "\n",
    "    return cm, report"
   ]
  },
  {
   "cell_type": "markdown",
   "metadata": {},
   "source": [
    "Cross-entropy runs\n",
    "==================\n"
   ]
  },
  {
   "cell_type": "code",
   "execution_count": 4,
   "metadata": {
    "collapsed": false
   },
   "outputs": [
    {
     "name": "stdout",
     "output_type": "stream",
     "text": [
      "Teacher Accuracy: 84.95%\n"
     ]
    }
   ],
   "source": [
    "torch.manual_seed(42)\n",
    "nn_deep = models.mobilenet_v3_large(weights=None)\n",
    "nn_deep.classifier[3] = nn.Linear(nn_deep.classifier[3].in_features, 10)\n",
    "nn_deep.load_state_dict(torch.load(\"MobileNetV3_large_CE.pth\", map_location=device, weights_only=True))\n",
    "nn_deep.eval()\n",
    "test_deep = test(nn_deep, test_loader, device)\n",
    "test_accuracy_deep = test_deep[1][\"accuracy\"] * 100\n",
    "print(f\"Teacher Accuracy: {test_accuracy_deep:.2f}%\")"
   ]
  },
  {
   "cell_type": "code",
   "execution_count": 9,
   "metadata": {
    "collapsed": false
   },
   "outputs": [
    {
     "name": "stdout",
     "output_type": "stream",
     "text": [
      "DeepNN parameters: 4,214,842\n",
      "LightNN parameters: 175,258\n"
     ]
    }
   ],
   "source": [
    "# Instantiate the lightweight network:\n",
    "torch.manual_seed(42)\n",
    "nn_light = MiniResNet(num_classes=10).to(device)\n",
    "torch.manual_seed(42)\n",
    "new_nn_light = MiniResNet(num_classes=10).to(device)\n",
    "\n",
    "# print(\"Norm of 1st layer of nn_light:\", torch.norm(nn_light.features[0][0].weight).item())\n",
    "# print(\"Norm of 1st layer of new_nn_light:\", torch.norm(new_nn_light.features[0][0].weight).item())\n",
    "\n",
    "total_params_deep = \"{:,}\".format(sum(p.numel() for p in nn_deep.parameters()))\n",
    "print(f\"DeepNN parameters: {total_params_deep}\")\n",
    "total_params_light = \"{:,}\".format(sum(p.numel() for p in nn_light.parameters()))\n",
    "print(f\"LightNN parameters: {total_params_light}\")"
   ]
  },
  {
   "cell_type": "code",
   "execution_count": 10,
   "metadata": {
    "collapsed": false
   },
   "outputs": [
    {
     "name": "stdout",
     "output_type": "stream",
     "text": [
      "Epoch 1/10, Training Loss: 1.6632991485595703\n",
      "Epoch 1/10, Validation Loss: 1.3747\n",
      "Epoch 2/10, Training Loss: 1.2573214492321014\n",
      "Epoch 2/10, Validation Loss: 1.1251\n",
      "Epoch 3/10, Training Loss: 1.0713712544441223\n",
      "Epoch 3/10, Validation Loss: 0.9843\n",
      "Epoch 4/10, Training Loss: 0.9493056308507919\n",
      "Epoch 4/10, Validation Loss: 0.8929\n",
      "Epoch 5/10, Training Loss: 0.863432529592514\n",
      "Epoch 5/10, Validation Loss: 0.8515\n",
      "Epoch 6/10, Training Loss: 0.8003326354265213\n",
      "Epoch 6/10, Validation Loss: 0.8050\n",
      "Epoch 7/10, Training Loss: 0.7449243631124497\n",
      "Epoch 7/10, Validation Loss: 0.7600\n",
      "Epoch 8/10, Training Loss: 0.7024784706830979\n",
      "Epoch 8/10, Validation Loss: 0.7484\n",
      "Epoch 9/10, Training Loss: 0.6619027930498124\n",
      "Epoch 9/10, Validation Loss: 0.6977\n",
      "Epoch 10/10, Training Loss: 0.6219578309178352\n",
      "Epoch 10/10, Validation Loss: 0.6672\n",
      "Student Accuracy: 77.16%\n"
     ]
    }
   ],
   "source": [
    "train(nn_light, train_loader, val_loader, epochs=10, learning_rate=0.001, device=device)\n",
    "test_light_ce = test(nn_light, test_loader, device)\n",
    "test_accuracy_light_ce = test_light_ce[1][\"accuracy\"] * 100\n",
    "print(f\"Student Accuracy: {test_accuracy_light_ce:.2f}%\")"
   ]
  },
  {
   "cell_type": "code",
   "execution_count": 11,
   "metadata": {},
   "outputs": [
    {
     "name": "stdout",
     "output_type": "stream",
     "text": [
      "Model saved as teacher (MobileNetV3 Large) and student (MiniResNet) with CE\n"
     ]
    }
   ],
   "source": [
    "torch.save(nn_light.state_dict(), \"MiniResNer_CE.pth\")\n",
    "print(\"Model saved as teacher (MobileNetV3 Large) and student (MiniResNet) with CE\")"
   ]
  },
  {
   "cell_type": "markdown",
   "metadata": {},
   "source": [
    "Knowledge distillation run\n",
    "=========================="
   ]
  },
  {
   "cell_type": "code",
   "execution_count": 12,
   "metadata": {
    "collapsed": false
   },
   "outputs": [],
   "source": [
    "def train_knowledge_distillation(teacher, student, train_loader, val_loader, epochs, learning_rate, T, soft_target_loss_weight, ce_loss_weight, device):\n",
    "    ce_loss = nn.CrossEntropyLoss()\n",
    "    optimizer = optim.Adam(student.parameters(), lr=learning_rate)\n",
    "\n",
    "    train_losses = []\n",
    "    val_losses = []\n",
    "    teacher.eval()  # Teacher set to evaluation mode\n",
    "    student.train() # Student to train mode\n",
    "\n",
    "    for epoch in range(epochs):\n",
    "        running_loss = 0.0\n",
    "        for inputs, labels in train_loader:\n",
    "            inputs, labels = inputs.to(device), labels.to(device)\n",
    "\n",
    "            optimizer.zero_grad()\n",
    "\n",
    "            # Forward pass with the teacher model - do not save gradients here as we do not change the teacher's weights\n",
    "            with torch.no_grad():\n",
    "                teacher_logits = teacher(inputs)\n",
    "\n",
    "            # Forward pass with the student model\n",
    "            student_logits = student(inputs)\n",
    "\n",
    "            #Soften the student logits by applying softmax first and log() second\n",
    "            soft_targets = nn.functional.softmax(teacher_logits / T, dim=-1)\n",
    "            soft_prob = nn.functional.log_softmax(student_logits / T, dim=-1)\n",
    "\n",
    "            # Calculate the soft targets loss. Scaled by T**2 as suggested by the authors of the paper \"Distilling the knowledge in a neural network\"\n",
    "            soft_targets_loss = torch.sum(soft_targets * (soft_targets.log() - soft_prob)) / soft_prob.size()[0] * (T**2)\n",
    "\n",
    "            # Calculate the true label loss\n",
    "            label_loss = ce_loss(student_logits, labels)\n",
    "\n",
    "            # Weighted sum of the two losses\n",
    "            loss = soft_target_loss_weight * soft_targets_loss + ce_loss_weight * label_loss\n",
    "\n",
    "            loss.backward()\n",
    "            optimizer.step()\n",
    "\n",
    "            running_loss += loss.item()\n",
    "        avg_train_loss = running_loss / len(train_loader)\n",
    "        train_losses.append(avg_train_loss)\n",
    "        print(f\"Epoch {epoch+1}/{epochs}, Training Loss: {avg_train_loss}\")\n",
    "\n",
    "        # Validation Step\n",
    "        val_loss = 0.0\n",
    "        with torch.no_grad():  # Disable gradient computation for validation\n",
    "            for inputs, labels in val_loader:\n",
    "                inputs, labels = inputs.to(device), labels.to(device)\n",
    "                outputs = student(inputs)\n",
    "                loss = ce_loss(outputs, labels)\n",
    "                val_loss += loss.item() \n",
    "\n",
    "        avg_val_loss = val_loss / len(val_loader)  # Average validation loss\n",
    "        val_losses.append(avg_val_loss)\n",
    "        print(f\"Epoch {epoch+1}/{epochs}, Validation Loss: {avg_val_loss:.4f}\")\n",
    "    return train_losses, val_losses "
   ]
  },
  {
   "cell_type": "code",
   "execution_count": 13,
   "metadata": {},
   "outputs": [
    {
     "name": "stdout",
     "output_type": "stream",
     "text": [
      "Epoch 1/10, Training Loss: 2.2927665719032286\n",
      "Epoch 1/10, Validation Loss: 1.3348\n",
      "Epoch 2/10, Training Loss: 1.6747713848114014\n",
      "Epoch 2/10, Validation Loss: 1.1117\n",
      "Epoch 3/10, Training Loss: 1.4165475791931152\n",
      "Epoch 3/10, Validation Loss: 0.9698\n",
      "Epoch 4/10, Training Loss: 1.2393651540756225\n",
      "Epoch 4/10, Validation Loss: 0.8706\n",
      "Epoch 5/10, Training Loss: 1.1206446507930756\n",
      "Epoch 5/10, Validation Loss: 0.8449\n",
      "Epoch 6/10, Training Loss: 1.035668236732483\n",
      "Epoch 6/10, Validation Loss: 0.7850\n",
      "Epoch 7/10, Training Loss: 0.9612477100372314\n",
      "Epoch 7/10, Validation Loss: 0.7580\n",
      "Epoch 8/10, Training Loss: 0.9035955804347992\n",
      "Epoch 8/10, Validation Loss: 0.7324\n",
      "Epoch 9/10, Training Loss: 0.8478752724409103\n",
      "Epoch 9/10, Validation Loss: 0.7229\n",
      "Epoch 10/10, Training Loss: 0.7994577617406845\n",
      "Epoch 10/10, Validation Loss: 0.6767\n",
      "-----------------------------------------\n",
      "Student accuracy with CE + KD and T=2 weights=(0.2, 0.8):\n",
      "Accuracy: 77.48%\n",
      "Precision: 0.77\n",
      "Recall: 0.77\n",
      "F1 Score: 0.77\n",
      "Model saved as KD_model_2_0.pth\n",
      "\n",
      "Epoch 1/10, Training Loss: 2.417625761413574\n",
      "Epoch 1/10, Validation Loss: 1.3605\n",
      "Epoch 2/10, Training Loss: 1.7751416801452637\n",
      "Epoch 2/10, Validation Loss: 1.1249\n",
      "Epoch 3/10, Training Loss: 1.4884244728088378\n",
      "Epoch 3/10, Validation Loss: 0.9559\n",
      "Epoch 4/10, Training Loss: 1.302566577720642\n",
      "Epoch 4/10, Validation Loss: 0.8986\n",
      "Epoch 5/10, Training Loss: 1.171395620727539\n",
      "Epoch 5/10, Validation Loss: 0.8481\n",
      "Epoch 6/10, Training Loss: 1.081775523853302\n",
      "Epoch 6/10, Validation Loss: 0.7832\n",
      "Epoch 7/10, Training Loss: 0.9995102431535721\n",
      "Epoch 7/10, Validation Loss: 0.7575\n",
      "Epoch 8/10, Training Loss: 0.9399586753129959\n",
      "Epoch 8/10, Validation Loss: 0.7314\n",
      "Epoch 9/10, Training Loss: 0.8832365126132965\n",
      "Epoch 9/10, Validation Loss: 0.7215\n",
      "Epoch 10/10, Training Loss: 0.8290558653593063\n",
      "Epoch 10/10, Validation Loss: 0.6585\n",
      "-----------------------------------------\n",
      "Student accuracy with CE + KD and T=2 weights=(0.25, 0.75):\n",
      "Accuracy: 77.89%\n",
      "Precision: 0.78\n",
      "Recall: 0.78\n",
      "F1 Score: 0.78\n",
      "Model saved as KD_model_2_1.pth\n",
      "\n",
      "Epoch 1/10, Training Loss: 2.5594423816680907\n",
      "Epoch 1/10, Validation Loss: 1.3462\n",
      "Epoch 2/10, Training Loss: 1.8803807790756226\n",
      "Epoch 2/10, Validation Loss: 1.1473\n",
      "Epoch 3/10, Training Loss: 1.578968243932724\n",
      "Epoch 3/10, Validation Loss: 0.9659\n",
      "Epoch 4/10, Training Loss: 1.3779776063919067\n",
      "Epoch 4/10, Validation Loss: 0.8966\n",
      "Epoch 5/10, Training Loss: 1.2376904570579528\n",
      "Epoch 5/10, Validation Loss: 0.8356\n",
      "Epoch 6/10, Training Loss: 1.133290489053726\n",
      "Epoch 6/10, Validation Loss: 0.7790\n",
      "Epoch 7/10, Training Loss: 1.0471306129455566\n",
      "Epoch 7/10, Validation Loss: 0.7603\n",
      "Epoch 8/10, Training Loss: 0.9782732436656952\n",
      "Epoch 8/10, Validation Loss: 0.7380\n",
      "Epoch 9/10, Training Loss: 0.9161414776325226\n",
      "Epoch 9/10, Validation Loss: 0.6957\n",
      "Epoch 10/10, Training Loss: 0.8620418289899826\n",
      "Epoch 10/10, Validation Loss: 0.6737\n",
      "-----------------------------------------\n",
      "Student accuracy with CE + KD and T=2 weights=(0.3, 0.7):\n",
      "Accuracy: 78.07%\n",
      "Precision: 0.78\n",
      "Recall: 0.78\n",
      "F1 Score: 0.78\n",
      "Model saved as KD_model_2_2.pth\n",
      "\n",
      "Epoch 1/10, Training Loss: 2.8677030190467834\n",
      "Epoch 1/10, Validation Loss: 1.3579\n",
      "Epoch 2/10, Training Loss: 2.06153814496994\n",
      "Epoch 2/10, Validation Loss: 1.1610\n",
      "Epoch 3/10, Training Loss: 1.7111287004947662\n",
      "Epoch 3/10, Validation Loss: 0.9689\n",
      "Epoch 4/10, Training Loss: 1.4856520358085632\n",
      "Epoch 4/10, Validation Loss: 0.9035\n",
      "Epoch 5/10, Training Loss: 1.3309295517921447\n",
      "Epoch 5/10, Validation Loss: 0.8270\n",
      "Epoch 6/10, Training Loss: 1.214497401189804\n",
      "Epoch 6/10, Validation Loss: 0.7865\n",
      "Epoch 7/10, Training Loss: 1.1224786872386932\n",
      "Epoch 7/10, Validation Loss: 0.7494\n",
      "Epoch 8/10, Training Loss: 1.0529905955314636\n",
      "Epoch 8/10, Validation Loss: 0.7443\n",
      "Epoch 9/10, Training Loss: 0.9909576093912125\n",
      "Epoch 9/10, Validation Loss: 0.7120\n",
      "Epoch 10/10, Training Loss: 0.9296460850954056\n",
      "Epoch 10/10, Validation Loss: 0.6782\n",
      "-----------------------------------------\n",
      "Student accuracy with CE + KD and T=2 weights=(0.4, 0.6):\n",
      "Accuracy: 78.17%\n",
      "Precision: 0.78\n",
      "Recall: 0.78\n",
      "F1 Score: 0.78\n",
      "Model saved as KD_model_2_3.pth\n",
      "\n",
      "Epoch 1/10, Training Loss: 3.177807040023804\n",
      "Epoch 1/10, Validation Loss: 1.3677\n",
      "Epoch 2/10, Training Loss: 2.2476373677253725\n",
      "Epoch 2/10, Validation Loss: 1.1408\n",
      "Epoch 3/10, Training Loss: 1.8556916473388672\n",
      "Epoch 3/10, Validation Loss: 0.9609\n",
      "Epoch 4/10, Training Loss: 1.6111520281791687\n",
      "Epoch 4/10, Validation Loss: 0.8830\n",
      "Epoch 5/10, Training Loss: 1.444568820476532\n",
      "Epoch 5/10, Validation Loss: 0.8609\n",
      "Epoch 6/10, Training Loss: 1.3179243013858795\n",
      "Epoch 6/10, Validation Loss: 0.8005\n",
      "Epoch 7/10, Training Loss: 1.2172279940605164\n",
      "Epoch 7/10, Validation Loss: 0.7753\n",
      "Epoch 8/10, Training Loss: 1.1327086546897889\n",
      "Epoch 8/10, Validation Loss: 0.7572\n",
      "Epoch 9/10, Training Loss: 1.0617970300912858\n",
      "Epoch 9/10, Validation Loss: 0.7146\n",
      "Epoch 10/10, Training Loss: 1.0048318853378295\n",
      "Epoch 10/10, Validation Loss: 0.6655\n",
      "-----------------------------------------\n",
      "Student accuracy with CE + KD and T=2 weights=(0.5, 0.5):\n",
      "Accuracy: 77.74%\n",
      "Precision: 0.77\n",
      "Recall: 0.78\n",
      "F1 Score: 0.77\n",
      "Model saved as KD_model_2_4.pth\n",
      "\n"
     ]
    },
    {
     "ename": "KeyboardInterrupt",
     "evalue": "",
     "output_type": "error",
     "traceback": [
      "\u001b[1;31m---------------------------------------------------------------------------\u001b[0m",
      "\u001b[1;31mKeyboardInterrupt\u001b[0m                         Traceback (most recent call last)",
      "Cell \u001b[1;32mIn[13], line 9\u001b[0m\n\u001b[0;32m      7\u001b[0m new_nn_light \u001b[38;5;241m=\u001b[39m MiniResNet(num_classes\u001b[38;5;241m=\u001b[39m\u001b[38;5;241m10\u001b[39m)\u001b[38;5;241m.\u001b[39mto(device)\n\u001b[0;32m      8\u001b[0m \u001b[38;5;66;03m# Apply ``train_knowledge_distillation`` with a temperature of 2. Arbitrarily set the weights to 0.75 for CE and 0.25 for distillation loss.\u001b[39;00m\n\u001b[1;32m----> 9\u001b[0m train_light_ce_and_kd \u001b[38;5;241m=\u001b[39m \u001b[43mtrain_knowledge_distillation\u001b[49m\u001b[43m(\u001b[49m\u001b[43mteacher\u001b[49m\u001b[38;5;241;43m=\u001b[39;49m\u001b[43mnn_deep\u001b[49m\u001b[43m,\u001b[49m\u001b[43m \u001b[49m\u001b[43mstudent\u001b[49m\u001b[38;5;241;43m=\u001b[39;49m\u001b[43mnew_nn_light\u001b[49m\u001b[43m,\u001b[49m\u001b[43m \u001b[49m\u001b[43mtrain_loader\u001b[49m\u001b[38;5;241;43m=\u001b[39;49m\u001b[43mtrain_loader\u001b[49m\u001b[43m,\u001b[49m\u001b[43m \u001b[49m\u001b[43mval_loader\u001b[49m\u001b[38;5;241;43m=\u001b[39;49m\u001b[43mval_loader\u001b[49m\u001b[43m,\u001b[49m\n\u001b[0;32m     10\u001b[0m \u001b[43m    \u001b[49m\u001b[43mepochs\u001b[49m\u001b[38;5;241;43m=\u001b[39;49m\u001b[38;5;241;43m10\u001b[39;49m\u001b[43m,\u001b[49m\u001b[43m \u001b[49m\u001b[43mlearning_rate\u001b[49m\u001b[38;5;241;43m=\u001b[39;49m\u001b[38;5;241;43m0.001\u001b[39;49m\u001b[43m,\u001b[49m\u001b[43m \u001b[49m\u001b[43mT\u001b[49m\u001b[38;5;241;43m=\u001b[39;49m\u001b[43mt\u001b[49m\u001b[43m,\u001b[49m\u001b[43m \u001b[49m\u001b[43msoft_target_loss_weight\u001b[49m\u001b[38;5;241;43m=\u001b[39;49m\u001b[43mx\u001b[49m\u001b[43m[\u001b[49m\u001b[38;5;241;43m0\u001b[39;49m\u001b[43m]\u001b[49m\u001b[43m,\u001b[49m\u001b[43m \u001b[49m\u001b[43mce_loss_weight\u001b[49m\u001b[38;5;241;43m=\u001b[39;49m\u001b[43mx\u001b[49m\u001b[43m[\u001b[49m\u001b[38;5;241;43m1\u001b[39;49m\u001b[43m]\u001b[49m\u001b[43m,\u001b[49m\u001b[43m \u001b[49m\u001b[43mdevice\u001b[49m\u001b[38;5;241;43m=\u001b[39;49m\u001b[43mdevice\u001b[49m\u001b[43m)\u001b[49m\n\u001b[0;32m     11\u001b[0m test_light_ce_and_kd \u001b[38;5;241m=\u001b[39m test(new_nn_light, test_loader, device)\n\u001b[0;32m     12\u001b[0m test_accuracy_light_ce_and_kd \u001b[38;5;241m=\u001b[39m test_light_ce_and_kd[\u001b[38;5;241m1\u001b[39m][\u001b[38;5;124m\"\u001b[39m\u001b[38;5;124maccuracy\u001b[39m\u001b[38;5;124m\"\u001b[39m] \u001b[38;5;241m*\u001b[39m \u001b[38;5;241m100\u001b[39m\n",
      "Cell \u001b[1;32mIn[12], line 40\u001b[0m, in \u001b[0;36mtrain_knowledge_distillation\u001b[1;34m(teacher, student, train_loader, val_loader, epochs, learning_rate, T, soft_target_loss_weight, ce_loss_weight, device)\u001b[0m\n\u001b[0;32m     37\u001b[0m     loss\u001b[38;5;241m.\u001b[39mbackward()\n\u001b[0;32m     38\u001b[0m     optimizer\u001b[38;5;241m.\u001b[39mstep()\n\u001b[1;32m---> 40\u001b[0m     running_loss \u001b[38;5;241m+\u001b[39m\u001b[38;5;241m=\u001b[39m \u001b[43mloss\u001b[49m\u001b[38;5;241;43m.\u001b[39;49m\u001b[43mitem\u001b[49m\u001b[43m(\u001b[49m\u001b[43m)\u001b[49m\n\u001b[0;32m     41\u001b[0m avg_train_loss \u001b[38;5;241m=\u001b[39m running_loss \u001b[38;5;241m/\u001b[39m \u001b[38;5;28mlen\u001b[39m(train_loader)\n\u001b[0;32m     42\u001b[0m train_losses\u001b[38;5;241m.\u001b[39mappend(avg_train_loss)\n",
      "\u001b[1;31mKeyboardInterrupt\u001b[0m: "
     ]
    }
   ],
   "source": [
    "temperatures = [2,3,4,5]\n",
    "pairs = [(0.2, 0.8), (0.25, 0.75), (0.3, 0.7), (0.4, 0.6), (0.5, 0.5)]\n",
    "name = 0\n",
    "for t in temperatures:\n",
    "    for x in pairs:\n",
    "        torch.manual_seed(42)\n",
    "        new_nn_light = MiniResNet(num_classes=10).to(device)\n",
    "        # Apply ``train_knowledge_distillation`` with a temperature of 2. Arbitrarily set the weights to 0.75 for CE and 0.25 for distillation loss.\n",
    "        train_light_ce_and_kd = train_knowledge_distillation(teacher=nn_deep, student=new_nn_light, train_loader=train_loader, val_loader=val_loader,\n",
    "            epochs=10, learning_rate=0.001, T=t, soft_target_loss_weight=x[0], ce_loss_weight=x[1], device=device)\n",
    "        test_light_ce_and_kd = test(new_nn_light, test_loader, device)\n",
    "        test_accuracy_light_ce_and_kd = test_light_ce_and_kd[1][\"accuracy\"] * 100\n",
    "        precision_light_ce_and_kd = test_light_ce_and_kd[1][\"weighted avg\"][\"precision\"]\n",
    "        recall_light_ce_and_kd = test_light_ce_and_kd[1][\"weighted avg\"][\"recall\"]\n",
    "        f1_light_ce_and_kd = test_light_ce_and_kd[1][\"weighted avg\"][\"f1-score\"]\n",
    "        print(\"-----------------------------------------\")\n",
    "        print(f\"Student accuracy with CE + KD and T={t} weights={x}:\")\n",
    "        print(f\"Accuracy: {test_accuracy_light_ce_and_kd:.2f}%\")\n",
    "        print(f\"Precision: {precision_light_ce_and_kd:.2f}\")\n",
    "        print(f\"Recall: {recall_light_ce_and_kd:.2f}\")\n",
    "        print(f\"F1 Score: {f1_light_ce_and_kd:.2f}\")\n",
    "        torch.save(new_nn_light.state_dict(), f\"KD_model_{t}_{name}.pth\")\n",
    "        print(f\"Model saved as KD_model_{t}_{name}.pth\")\n",
    "        name += 1\n",
    "        print()"
   ]
  }
 ],
 "metadata": {
  "kernelspec": {
   "display_name": ".venv",
   "language": "python",
   "name": "python3"
  },
  "language_info": {
   "codemirror_mode": {
    "name": "ipython",
    "version": 3
   },
   "file_extension": ".py",
   "mimetype": "text/x-python",
   "name": "python",
   "nbconvert_exporter": "python",
   "pygments_lexer": "ipython3",
   "version": "3.10.11"
  }
 },
 "nbformat": 4,
 "nbformat_minor": 0
}
